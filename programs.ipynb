{
  "nbformat": 4,
  "nbformat_minor": 0,
  "metadata": {
    "colab": {
      "name": "programs.ipynb",
      "provenance": [],
      "collapsed_sections": [],
      "authorship_tag": "ABX9TyOxwHdvjPYW8RJ+KglT67mv",
      "include_colab_link": true
    },
    "kernelspec": {
      "name": "python3",
      "display_name": "Python 3"
    }
  },
  "cells": [
    {
      "cell_type": "markdown",
      "metadata": {
        "id": "view-in-github",
        "colab_type": "text"
      },
      "source": [
        "<a href=\"https://colab.research.google.com/github/hkolgur/UOH/blob/main/programs.ipynb\" target=\"_parent\"><img src=\"https://colab.research.google.com/assets/colab-badge.svg\" alt=\"Open In Colab\"/></a>"
      ]
    },
    {
      "cell_type": "markdown",
      "metadata": {
        "id": "2jruzc-hHn8F"
      },
      "source": [
        "## Compute Sum of numbers entered by user from keyboard"
      ]
    },
    {
      "cell_type": "code",
      "metadata": {
        "colab": {
          "base_uri": "https://localhost:8080/"
        },
        "id": "4dLJKlgh-Eta",
        "outputId": "6d371b25-61d0-4c51-b6b2-a826733b35de"
      },
      "source": [
        "\"\"\"This program \n",
        "  -accepts count of numbers between 0-100 \n",
        "  -computes sum of the numbers entered\"\"\"\n",
        "\n",
        "#counter to store sum of the numbers\n",
        "sum_of_numbers=0\n",
        "\n",
        "#Below try block is used to handle typecasting errors \n",
        "#Example if user enters string values instead of choosing number 1- 100, the program exits gracefully\n",
        "\n",
        "try:\n",
        "  count_of_num=int(input(\"Enter the number of elements you like to sum up with range 0 - 100\"))\n",
        "\n",
        "  print('received {}'.format(count_of_num))\n",
        "  if count_of_num<0 or count_of_num>100:\n",
        "    print(\" Invalid input {} received.Valid range is between 0 and 100\".format(count_of_num))\n",
        "  else:\n",
        "    if(count_of_num==0):\n",
        "      print(\"you choose number of elements :{}.Hence exiting\".format(count_of_num))\n",
        "    else:\n",
        "      number_string=input(\"Enter the elements separated by space\")\n",
        "      number_list=number_string.split(' ')\n",
        "      if count_of_num!=len(number_list):\n",
        "        print(\"The number of elements entered : {} do not match the count you entered : {}\".format(len(number_list),count_of_num))\n",
        "      else:\n",
        "        for i in range(count_of_num):\n",
        "          sum_of_numbers+=int(number_list[i])\n",
        "        print(\"The sum of numbers is :{}\".format(sum_of_numbers))\n",
        "except ValueError:\n",
        "  print(\"Please enter a numberic value..\")\n",
        "\n"
      ],
      "execution_count": null,
      "outputs": [
        {
          "output_type": "stream",
          "text": [
            "Enter the number of elements you like to sum up with range 0 - 1001\n",
            "received 1\n",
            "Enter the elements separated by space-1000000\n",
            "The sum of numbers is :-1000000\n"
          ],
          "name": "stdout"
        }
      ]
    },
    {
      "cell_type": "markdown",
      "metadata": {
        "id": "WeVBkRPZNLSM"
      },
      "source": [
        "## Print second largest number"
      ]
    },
    {
      "cell_type": "markdown",
      "metadata": {
        "id": "tlCVk9u1hsc8"
      },
      "source": [
        "### 1. Logic without using functions of Lists"
      ]
    },
    {
      "cell_type": "code",
      "metadata": {
        "colab": {
          "base_uri": "https://localhost:8080/"
        },
        "id": "lZc2QzIVgoBT",
        "outputId": "4d2698d6-5449-429e-9390-55e490e8a0a6"
      },
      "source": [
        "number_string=input().split(',')\n",
        "number_list = [int(i) for i in number_string] \n",
        "int_largest=int_second_largest=number_list[0]\n",
        "\n",
        "for i in range(1,len(number_list)):\n",
        "  if number_list[i] > int_largest:\n",
        "    int_second_largest=int_largest\n",
        "    int_largest=number_list[i]\n",
        "    \n",
        "  elif int_largest==int_second_largest or (number_list[i] > int_second_largest and number_list[i] != int_largest):\n",
        "        int_second_largest=number_list[i] \n",
        "\n",
        "if int_largest == int_second_largest:\n",
        "  print(\"Error {} {}\".format(int_largest,int_second_largest))\n",
        "else:\n",
        "  print(\"First largest {0} and second largest {1}\".format(int_largest,int_second_largest))\n"
      ],
      "execution_count": 52,
      "outputs": [
        {
          "output_type": "stream",
          "text": [
            "1,3,-3,6,5,7,6,6,7\n",
            "First largest 7 and second largest 6\n"
          ],
          "name": "stdout"
        }
      ]
    },
    {
      "cell_type": "markdown",
      "metadata": {
        "id": "M4zbrdbRhlrQ"
      },
      "source": [
        "#### 2. Using List"
      ]
    },
    {
      "cell_type": "code",
      "metadata": {
        "colab": {
          "base_uri": "https://localhost:8080/"
        },
        "id": "TDbAp-mX-Nob",
        "outputId": "9f9f2019-cb22-4282-a564-45926f4e4193"
      },
      "source": [
        "# print second largest number in a list form the inputs given by user separated by comas. if any duplicates treat it as one number \n",
        "#print Error if any errors \n",
        "number_string=input().split(',')\n",
        "try:\n",
        "  number_list = [int(i) for i in number_string] \n",
        "  if len(number_list)>=2 and len(number_list)<=100000:\n",
        "    print(sorted(set(number_list))[-2])\n",
        "  else:\n",
        "    print(\"Error\")\n",
        "except :\n",
        "    print(\"Error\")\n"
      ],
      "execution_count": 53,
      "outputs": [
        {
          "output_type": "stream",
          "text": [
            "1,4,2,3,-6,8,8,4\n",
            "4\n"
          ],
          "name": "stdout"
        }
      ]
    },
    {
      "cell_type": "markdown",
      "metadata": {
        "id": "FkH7ujeUiUx-"
      },
      "source": [
        "# Fizz Buzz\n",
        "### Take input form user and print numbers from 1 to the input number. If any number is divisible by 3 print Fizz instead of number.If number is divisible by 5 print Buzz instead of number. If number is divisible by both 3 and 5 print fizzbuzz. Print all the output separated by comma in one line"
      ]
    },
    {
      "cell_type": "code",
      "metadata": {
        "colab": {
          "base_uri": "https://localhost:8080/"
        },
        "id": "MgrKcOMgNYai",
        "outputId": "a1558b3c-fc1f-4c8e-d9aa-96120cbaa39d"
      },
      "source": [
        "def fun_is_divisible_by_3(counter):\n",
        "  \"\"\"This function check if a numebr is divisible by 3 and\n",
        "  -returns True else it returns False\"\"\"\n",
        "  if counter % 3 ==0:\n",
        "    return True\n",
        "  else:\n",
        "    return False\n",
        "\n",
        "def fun_is_divisible_by_5(counter):\n",
        "   \"\"\"This function check if a numebr is divisible by 5 and\n",
        "  -returns True else it returns False\"\"\"\n",
        "   if counter % 5 ==0:\n",
        "    return True\n",
        "   else:\n",
        "    return False\n",
        "\n",
        "  \n",
        "# Accept a number form user\n",
        "int_number=int(input(\"Enter a number between 1 and 10,000:\"))\n",
        "if int_number >=1 and int_number <=10000:\n",
        "\n",
        "  Flag_divisible_by_3 = Flag_divisible_by_5 = False\n",
        "  separator=','\n",
        "\n",
        "  for counter in range(1,int_number+1):\n",
        "    if counter == int_number:\n",
        "      separator=''\n",
        "    Flag_divisible_by_3 = fun_is_divisible_by_3(counter)\n",
        "    Flag_divisible_by_5 = fun_is_divisible_by_5(counter)\n",
        "    if Flag_divisible_by_3 and  Flag_divisible_by_5:\n",
        "      print(\"FizzBuzz\" + separator, end =\"\")\n",
        "    elif Flag_divisible_by_3:\n",
        "      print(\"Fizz\"+ separator, end =\"\") \n",
        "    elif Flag_divisible_by_5:\n",
        "      print(\"Buzz\"+ separator, end =\"\")\n",
        "    else:\n",
        "      print(str(counter) + separator, end =\"\")"
      ],
      "execution_count": 54,
      "outputs": [
        {
          "output_type": "stream",
          "text": [
            "Enter a number between 1 and 10,000:20\n",
            "1,2,Fizz,4,Buzz,Fizz,7,8,Fizz,Buzz,11,Fizz,13,14,FizzBuzz,16,17,Fizz,19,Buzz"
          ],
          "name": "stdout"
        }
      ]
    },
    {
      "cell_type": "code",
      "metadata": {
        "colab": {
          "base_uri": "https://localhost:8080/"
        },
        "id": "3uY9NRD2Qwp4",
        "outputId": "41d40005-0d05-4dc1-db28-ded0b99b1893"
      },
      "source": [
        "%ls"
      ],
      "execution_count": 58,
      "outputs": [
        {
          "output_type": "stream",
          "text": [
            "\u001b[0m\u001b[01;32manscombe.json\u001b[0m*                mnist_test.csv\n",
            "california_housing_test.csv   mnist_train_small.csv\n",
            "california_housing_train.csv  \u001b[01;32mREADME.md\u001b[0m*\n"
          ],
          "name": "stdout"
        }
      ]
    },
    {
      "cell_type": "code",
      "metadata": {
        "colab": {
          "base_uri": "https://localhost:8080/"
        },
        "id": "NpmFnZ0WKujF",
        "outputId": "5c4bafe4-a068-4f5c-e113-aaa16271c778"
      },
      "source": [
        "cd mydrive"
      ],
      "execution_count": 60,
      "outputs": [
        {
          "output_type": "stream",
          "text": [
            "[Errno 2] No such file or directory: 'mydrive'\n",
            "/content\n"
          ],
          "name": "stdout"
        }
      ]
    },
    {
      "cell_type": "markdown",
      "metadata": {
        "id": "XgpizOYbLBjy"
      },
      "source": [
        "# New Section"
      ]
    }
  ]
}