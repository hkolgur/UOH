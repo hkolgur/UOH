{
  "nbformat": 4,
  "nbformat_minor": 0,
  "metadata": {
    "colab": {
      "name": "regular_expressions_re.ipynb",
      "provenance": [],
      "authorship_tag": "ABX9TyNdsQ23WejDXKxByYb73F0K",
      "include_colab_link": true
    },
    "kernelspec": {
      "name": "python3",
      "display_name": "Python 3"
    },
    "language_info": {
      "name": "python"
    }
  },
  "cells": [
    {
      "cell_type": "markdown",
      "metadata": {
        "id": "view-in-github",
        "colab_type": "text"
      },
      "source": [
        "<a href=\"https://colab.research.google.com/github/hkolgur/UOH/blob/main/regular_expressions_re.ipynb\" target=\"_parent\"><img src=\"https://colab.research.google.com/assets/colab-badge.svg\" alt=\"Open In Colab\"/></a>"
      ]
    },
    {
      "cell_type": "markdown",
      "metadata": {
        "id": "BYamLMj5fyhC"
      },
      "source": [
        "## Samples of Regular Expressions"
      ]
    },
    {
      "cell_type": "markdown",
      "metadata": {
        "id": "ZtgikZ1wEIfA"
      },
      "source": [
        "#### Search pulls only first instance any where it is present and returns the start and end position of that matched (pattern, string, flags)\n",
        "\n",
        "#### search -searches in any position. Returns only one match. If matches are on different lines (separated by \\\\n) it pulls from each of the line \n",
        "\n",
        "#### Match- finds  only in beginning of string (re.match(‘c’,’abcd’)) returns none. Even with new lines it doesn’t work it just returns the beginning of string\n",
        "\n",
        "####bool(re.match(..)) converts none returned to false and  value returned to true "
      ]
    },
    {
      "cell_type": "code",
      "metadata": {
        "id": "m8LTxtjkE_Vn"
      },
      "source": [
        "import re"
      ],
      "execution_count": 2,
      "outputs": []
    },
    {
      "cell_type": "code",
      "metadata": {
        "colab": {
          "base_uri": "https://localhost:8080/"
        },
        "id": "vw0nI9xfFAtu",
        "outputId": "a83b843d-7f7c-4c42-abad-9b8b271c9942"
      },
      "source": [
        "print(re.match('a','abc'))\n",
        "print(bool(re.match('c','abc')))"
      ],
      "execution_count": null,
      "outputs": [
        {
          "output_type": "stream",
          "text": [
            "<re.Match object; span=(0, 1), match='a'>\n",
            "False\n"
          ],
          "name": "stdout"
        }
      ]
    },
    {
      "cell_type": "markdown",
      "metadata": {
        "id": "4Ub2tfLpFelQ"
      },
      "source": [
        "##### To Print output: give .gorup(). Default value in group is 0 (.gorup(0) also gives same value)"
      ]
    },
    {
      "cell_type": "code",
      "metadata": {
        "colab": {
          "base_uri": "https://localhost:8080/"
        },
        "id": "46r0qlPeFdRp",
        "outputId": "7954b13d-332b-42a6-b7de-6fad6a84b4ca"
      },
      "source": [
        "print(re.match('a','abc').group())\n",
        "print(re.search('a','abc').group())\n",
        "print(re.search('a','abc').span()) # starts at 0 posiiton and ends at position 1"
      ],
      "execution_count": null,
      "outputs": [
        {
          "output_type": "stream",
          "text": [
            "a\n",
            "a\n",
            "(0, 1)\n"
          ],
          "name": "stdout"
        }
      ]
    },
    {
      "cell_type": "code",
      "metadata": {
        "id": "WfLZ_pA-Ax45"
      },
      "source": [
        "\n",
        "s1=\"HELLO Im in U.S.A, for 9 Yrs...\""
      ],
      "execution_count": null,
      "outputs": []
    },
    {
      "cell_type": "code",
      "metadata": {
        "colab": {
          "base_uri": "https://localhost:8080/",
          "height": 35
        },
        "id": "7gFDG6W_A6Nw",
        "outputId": "ae2945ff-956d-4663-ea11-132e3738ec6e"
      },
      "source": [
        "re.search('[A-Z\\sa-z]+',s1).group() # One or more any of the ones present in [ ] will be displayed"
      ],
      "execution_count": null,
      "outputs": [
        {
          "output_type": "execute_result",
          "data": {
            "application/vnd.google.colaboratory.intrinsic+json": {
              "type": "string"
            },
            "text/plain": [
              "'HELLO Im in U'"
            ]
          },
          "metadata": {
            "tags": []
          },
          "execution_count": 70
        }
      ]
    },
    {
      "cell_type": "markdown",
      "metadata": {
        "id": "i1A6hKYtHDHH"
      },
      "source": [
        "### Findall\n",
        "#### Characterset\n",
        "## \\\\w matches for alphanumeric character in [A-z,a-z,0-9_]. All digits, chars and underscore. \n",
        "#### \\\\w\\\\w\\\\w\\\\w means 4 characters\n",
        "\n",
        "####Upper case W is compliment that is not belonging to that charaeter set\n",
        "####\\\\W characters not  in [A-z,a-z,0-9 __]."
      ]
    },
    {
      "cell_type": "code",
      "metadata": {
        "colab": {
          "base_uri": "https://localhost:8080/"
        },
        "id": "bFJhAPyYHmhh",
        "outputId": "3ec66222-2501-4313-8368-c82099a4c3ee"
      },
      "source": [
        "re.findall('a|c','ycbza') # find c or a"
      ],
      "execution_count": null,
      "outputs": [
        {
          "output_type": "execute_result",
          "data": {
            "text/plain": [
              "['c', 'a']"
            ]
          },
          "metadata": {
            "tags": []
          },
          "execution_count": 153
        }
      ]
    },
    {
      "cell_type": "markdown",
      "metadata": {
        "id": "9C3IFRTbH4DF"
      },
      "source": [
        "#### Quantifiers:\n",
        "#### +   is a greedy quantifier meaning instead of 1 if there is a match it will return maximum chars that matches.\n",
        "\n",
        "#### ? Is 0 or more meaning it is optional\n",
        "\n",
        "#### {n, m} means  minimum n repetitions  and max m repetitions. \n",
        "\n",
        "#### {,3},{3,}  means any number of repeats unto 3 & 3 to any number of repeats\n",
        "\n",
        "#### ‘\\\\w{3}’ - means 3 \\\\w ie \\\\w\\\\w\\\\w"
      ]
    },
    {
      "cell_type": "code",
      "metadata": {
        "colab": {
          "base_uri": "https://localhost:8080/"
        },
        "id": "vY4MAQqvIamg",
        "outputId": "075ab4da-f6fc-45c5-fe56-d4b5057861ae"
      },
      "source": [
        "print(re.search(r'\\w+','abc efgh ijkl abc')) ### matches characters\n",
        "print(re.search(r'\\d+','this is 100 times better')) ### matches digits"
      ],
      "execution_count": null,
      "outputs": [
        {
          "output_type": "stream",
          "text": [
            "<re.Match object; span=(0, 3), match='abc'>\n",
            "<re.Match object; span=(8, 11), match='100'>\n"
          ],
          "name": "stdout"
        }
      ]
    },
    {
      "cell_type": "code",
      "metadata": {
        "colab": {
          "base_uri": "https://localhost:8080/"
        },
        "id": "AbP-DVrNKYsq",
        "outputId": "41ffa92f-8903-46ee-b502-a441274fb093"
      },
      "source": [
        "print(re.findall('\\w{2,4}','a bcd efghi')) # a is not match , bcd is match ,efgh is match . i is left wihich 1 letter so nomatch\n",
        "print(re.findall('\\w{2,4}','a bcd efghijk')) \n",
        "print(re.findall('\\w{,4}','a bcd efghijk'))  # minimum any and max is 4\n",
        "print(re.findall('\\w{4,}','a bcd efghijk'))  # min is 4 and max is any number\n"
      ],
      "execution_count": null,
      "outputs": [
        {
          "output_type": "stream",
          "text": [
            "['bcd', 'efgh']\n",
            "['bcd', 'efgh', 'ijk']\n",
            "['a', '', 'bcd', '', 'efgh', 'ijk', '']\n",
            "['efghijk']\n"
          ],
          "name": "stdout"
        }
      ]
    },
    {
      "cell_type": "code",
      "metadata": {
        "colab": {
          "base_uri": "https://localhost:8080/"
        },
        "id": "-7rjTWrbCT7J",
        "outputId": "5ee91056-46ea-4bb0-8cd7-cfa7e5348180"
      },
      "source": [
        "re.findall('[A-Z\\Wa-z,]+',s1) # output is list of elements separated by ,"
      ],
      "execution_count": null,
      "outputs": [
        {
          "output_type": "execute_result",
          "data": {
            "text/plain": [
              "['HELLO Im in U.S.A, for ', ' Yrs...']"
            ]
          },
          "metadata": {
            "tags": []
          },
          "execution_count": 71
        }
      ]
    },
    {
      "cell_type": "markdown",
      "metadata": {
        "id": "nPdpOWvvL3CR"
      },
      "source": [
        "#### \\\\d - Digits \\\\D- Not a digit\n",
        "#### . - matches any character except newline\n",
        "#### .+ means any number of chars except new line\n",
        "#### DOTALL includes even the newlines"
      ]
    },
    {
      "cell_type": "code",
      "metadata": {
        "colab": {
          "base_uri": "https://localhost:8080/"
        },
        "id": "GfLUwv5HMXbJ",
        "outputId": "24ab53a5-e384-433f-e148-2620f3bc1eba"
      },
      "source": [
        "print(re.search('\\d+','33Nwebber lane, Chicago 54329').group()) #first match is returned\n",
        "print(re.findall('\\d+','Mr.Name, 33Nwebber lane, Chicago 54329')) #finds all matches and return as a list\n",
        "print(re.search('.+','Mr.Name, 33Nwebber lane,\\n Chicago 54329.').group()) #\\n is not included hence it is terminated\n",
        "print(\"\\nDOT ALL DEMO\\n\")\n",
        "print(re.search('.+','Mr.Name, 33Nwebber lane,\\n Chicago 54329.',flags=re.DOTALL).group()) #\\n also included"
      ],
      "execution_count": null,
      "outputs": [
        {
          "output_type": "stream",
          "text": [
            "33\n",
            "['33', '54329']\n",
            "Mr.Name, 33Nwebber lane,\n",
            "\n",
            "DOT ALL DEMO\n",
            "\n",
            "Mr.Name, 33Nwebber lane,\n",
            " Chicago 54329.\n"
          ],
          "name": "stdout"
        }
      ]
    },
    {
      "cell_type": "markdown",
      "metadata": {
        "id": "F27HL8xkOOdu"
      },
      "source": [
        "### Custom character set - \n",
        "####creating your own set [ ] anything in squares will be part of the character set. [A-Z] means A to Z if you want to put - then we have to give as \\- [A\\-Z] mean A , _- and Z"
      ]
    },
    {
      "cell_type": "code",
      "metadata": {
        "colab": {
          "base_uri": "https://localhost:8080/"
        },
        "id": "gYz6ZQ0SOt8j",
        "outputId": "b617a2ea-d892-44bb-d398-e3ef9f751c4d"
      },
      "source": [
        "print(re.search('[A-Za-z\\S,]+',\"Hello, How, Are, You\")) #  One or more of 4 types of characters in [] as we used +\n",
        "print(re.findall('[A-Za-z\\S,]+',\"Hello, How, Are, You\")) #findall retruns list of all matches\n",
        "print(re.findall('[A-Z]?[a-z\\S,]+',\"Hello, How, Are, You\")) #  0 or 1 caps followed by small chars or spaces or ,"
      ],
      "execution_count": null,
      "outputs": [
        {
          "output_type": "stream",
          "text": [
            "<re.Match object; span=(0, 6), match='Hello,'>\n",
            "['Hello,', 'How,', 'Are,', 'You']\n",
            "['Hello,', 'How,', 'Are,', 'You']\n"
          ],
          "name": "stdout"
        }
      ]
    },
    {
      "cell_type": "code",
      "metadata": {
        "colab": {
          "base_uri": "https://localhost:8080/"
        },
        "id": "_G8Cz_KADplt",
        "outputId": "0f7d1848-b2e7-4dc0-8b91-0ea80edd7b7a"
      },
      "source": [
        "s1=\" 8HELLO Im in U.S.A, for 9 Yrs...\"\n",
        "print(re.findall('[A-Za-z\\s,]+',s1)) # more of caps/small/space/,\n",
        "print(re.findall('[A-Z]?[a-z\\s,]',s1)) #caps follwed by 0 or 1 small chars or spaces"
      ],
      "execution_count": null,
      "outputs": [
        {
          "output_type": "stream",
          "text": [
            "[' ', 'HELLO Im in U', 'S', 'A, for ', ' Yrs']\n",
            "[' ', 'O ', 'Im', ' ', 'i', 'n', ' ', 'A,', ' ', 'f', 'o', 'r', ' ', ' ', 'Yr', 's']\n"
          ],
          "name": "stdout"
        }
      ]
    },
    {
      "cell_type": "markdown",
      "metadata": {
        "id": "xMfj-cWLR5PJ"
      },
      "source": [
        "#### Negate with ^ inside the custom set"
      ]
    },
    {
      "cell_type": "code",
      "metadata": {
        "colab": {
          "base_uri": "https://localhost:8080/"
        },
        "id": "4sGJEGolA-_S",
        "outputId": "5b67efff-e35e-432e-faa9-9d7663046e19"
      },
      "source": [
        "print(re.findall('[^A-Z]',s1)) # ^ outside represents starting position but when used in  [] custom set it is negate ie not .\n",
        "print(re.findall('[^A-Z]+',s1)) \n",
        "print(re.findall('[^A-Za-z\\s,]+',s1)) #not Caps ,not smalls,not space and not coma"
      ],
      "execution_count": null,
      "outputs": [
        {
          "output_type": "stream",
          "text": [
            "[' ', 'm', ' ', 'i', 'n', ' ', '.', '.', ',', ' ', 'f', 'o', 'r', ' ', '9', ' ', 'r', 's', '.', '.', '.']\n",
            "[' ', 'm in ', '.', '.', ', for 9 ', 'rs...']\n",
            "['.', '.', '9', '...']\n"
          ],
          "name": "stdout"
        }
      ]
    },
    {
      "cell_type": "markdown",
      "metadata": {
        "id": "fXVF7Zv5ghl3"
      },
      "source": [
        "### Groups\n",
        "#### Of all the things you find if you want a particular thing then use (). Only the portions in ()  will be returned\n",
        "\n",
        "#### findall\n",
        "\n",
        "\n",
        "Below  example once you put ([A-Za-z])+ \\w \\d \\w+  it only pulls the one enclosed in ([A-Za-z])   . Else if you don’t give this () it will pull all words"
      ]
    },
    {
      "cell_type": "code",
      "metadata": {
        "colab": {
          "base_uri": "https://localhost:8080/"
        },
        "id": "OJNQdiXEIIsj",
        "outputId": "f4db8593-689d-4bd6-c625-cee4a820be88"
      },
      "source": [
        "s2=\"John has 4 cats but I think  Mike has 5 dogs\"\n",
        "print(re.findall('[\\d][\\s][A-za-z]+',s2))\n",
        "print(re.findall('([\\d][\\s][A-za-z]+)',s2))\n",
        "print(re.findall('([A-za-z]+) \\w+ \\d+ \\w+',s2)) # if there is a group in regular expression , \n",
        "                                                #instead of pulling whole regular expression, it shows only the one present in gorup.\n",
        "print(re.findall('[A-za-z]+ \\w+ \\d+ (\\w+)',s2)) #Here gorup is present around (\\w+) hence it outputs cats, dogs..\n",
        "print(re.findall('([A-za-z]+) \\w+ (\\d+) (\\w+)',s2)) #we gave 3 gorups in this \n",
        "\n",
        "print(\"\\nBig group along with sub groups\")\n",
        "print(re.findall('(([A-za-z]+) \\w+ (\\d+) (\\w+))',s2)) #we gave 3 gorups and also one large gorup which includes this 3 sub groups\n",
        "print(\"\\nPrint same using loops\")\n",
        "data=re.findall('(([A-za-z]+) \\w+ (\\d+) (\\w+))',s2)\n",
        "for i in data:\n",
        "  print(i[0],i[1],i[2],i[3])"
      ],
      "execution_count": null,
      "outputs": [
        {
          "output_type": "stream",
          "text": [
            "['4 cats', '5 dogs']\n",
            "['4 cats', '5 dogs']\n",
            "['John', 'Mike']\n",
            "['cats', 'dogs']\n",
            "[('John', '4', 'cats'), ('Mike', '5', 'dogs')]\n",
            "\n",
            "Big group along with sub groups\n",
            "[('John has 4 cats', 'John', '4', 'cats'), ('Mike has 5 dogs', 'Mike', '5', 'dogs')]\n",
            "\n",
            "Print same using loops\n",
            "John has 4 cats John 4 cats\n",
            "Mike has 5 dogs Mike 5 dogs\n"
          ],
          "name": "stdout"
        }
      ]
    },
    {
      "cell_type": "markdown",
      "metadata": {
        "id": "AXV2FJhgaaP3"
      },
      "source": [
        "#### Groups are returned as tuples so we can use zip on them:"
      ]
    },
    {
      "cell_type": "code",
      "metadata": {
        "colab": {
          "base_uri": "https://localhost:8080/"
        },
        "id": "STok3NLRhxgn",
        "outputId": "14da0de8-f4f8-4771-b984-3a221a61d108"
      },
      "source": [
        "info=re.findall('([A-za-z]+) \\w+ (\\d+) (\\w+)',s2)\n",
        "print(list(zip(*info))) # use zip to gorup names , quantity and animals together"
      ],
      "execution_count": null,
      "outputs": [
        {
          "output_type": "stream",
          "text": [
            "[('John', 'Mike'), ('4', '5'), ('cats', 'dogs')]\n"
          ],
          "name": "stdout"
        }
      ]
    },
    {
      "cell_type": "markdown",
      "metadata": {
        "id": "bqKe1EOTgmOi"
      },
      "source": [
        "### Groups with search. -samples of Span\n",
        "#### group numbers:\n",
        "we can select which ever group we want by giving number in it which represents the number of the group \n",
        "\n",
        "group(0) represents entire match. group numbers increment form left to right.\n",
        " \n",
        "We can use number in groups(2,1) this will first display second group followed by first group.\n"
      ]
    },
    {
      "cell_type": "code",
      "metadata": {
        "colab": {
          "base_uri": "https://localhost:8080/"
        },
        "id": "C-DkNFz-StfN",
        "outputId": "13124aec-a0fc-483f-888d-ca1b6ec5652f"
      },
      "source": [
        "print(re.search('([A-za-z]+) \\w+ (\\d+) (\\w+)',s2))\n",
        "m1=re.search('([A-za-z]+) \\w+ (\\d+) (\\w+)',s2)\n",
        "print(m1.group()) #same as .gorup(0) will pull the entire gorup\n",
        "print(m1.group(1))\n",
        "print(m1.group(2))\n",
        "print(m1.group(1,2,1,2,3))# can repeat any number of times\n",
        "print(m1.span()) # gives start and end  of gorup 0\n",
        "print(m1.span(2))# gives start and end of gorup 2"
      ],
      "execution_count": null,
      "outputs": [
        {
          "output_type": "stream",
          "text": [
            "<re.Match object; span=(0, 15), match='John has 4 cats'>\n",
            "John has 4 cats\n",
            "John\n",
            "4\n",
            "('John', '4', 'John', '4', 'cats')\n",
            "(0, 15)\n",
            "(9, 10)\n"
          ],
          "name": "stdout"
        }
      ]
    },
    {
      "cell_type": "markdown",
      "metadata": {
        "id": "Qo8ycvjZkJCb"
      },
      "source": [
        "### Iterators\n",
        "\n",
        "Cannot use .group() with findall it will only work for search\t\n",
        "To overcome this we use finditer instead of findall .\n",
        "Same as find all but instead of list of all the elements , it give one by one \n",
        "\n",
        "Imp iterators will exhaust. Meaning if you run for loop once it will display groups and if you run again it won’t display anything. TO redisplay first we have to runt he finditer again and then run the for loop"
      ]
    },
    {
      "cell_type": "code",
      "metadata": {
        "colab": {
          "base_uri": "https://localhost:8080/"
        },
        "id": "7dWdg5vdeyZj",
        "outputId": "57816995-569d-49b9-b483-9c5760189856"
      },
      "source": [
        "it=re.finditer('(([A-za-z]+) \\w+ (\\d+) (\\w+))',s2)\n",
        "\n",
        "for ele in it:\n",
        "  print(ele.group())\n",
        "  print(ele.span())"
      ],
      "execution_count": null,
      "outputs": [
        {
          "output_type": "stream",
          "text": [
            "John has 4 cats\n",
            "(0, 15)\n",
            "Mike has 5 dogs\n",
            "(29, 44)\n"
          ],
          "name": "stdout"
        }
      ]
    },
    {
      "cell_type": "code",
      "metadata": {
        "id": "h4BHBzlzbJUM"
      },
      "source": [
        ""
      ],
      "execution_count": null,
      "outputs": []
    },
    {
      "cell_type": "markdown",
      "metadata": {
        "id": "j88yfVNMDyuJ"
      },
      "source": [
        "### Naming Groups ?P<>. - caps P\n",
        "\n",
        "Can be used in search and finditer"
      ]
    },
    {
      "cell_type": "code",
      "metadata": {
        "colab": {
          "base_uri": "https://localhost:8080/"
        },
        "id": "E53tcjZWkrfd",
        "outputId": "4fd62fea-08da-489b-a123-e55880a60f52"
      },
      "source": [
        "str1=\"New York, New york 12345 \"\n",
        " \n",
        "print(re.findall('[A-Za-z\\s]+',str1)) # find all one or more A-za-z\\s \n",
        "print(re.search('([A-Za-z\\s]+)',str1).group()) # Pull state protion\n",
        "print(re.findall('([A-Za-z\\s]+),([A-Za-z\\s]+)(\\d+)',str1)) # Pull state city and zip protions as groups\n",
        "m=(re.findall('([A-Za-z\\s]+),([A-Za-z\\s]+)(\\d+)',str1)) \n"
      ],
      "execution_count": null,
      "outputs": [
        {
          "output_type": "stream",
          "text": [
            "['New York', ' New york ', ' ']\n",
            "New York\n",
            "[('New York', ' New york ', '12345')]\n"
          ],
          "name": "stdout"
        }
      ]
    },
    {
      "cell_type": "code",
      "metadata": {
        "colab": {
          "base_uri": "https://localhost:8080/"
        },
        "id": "EMaHtRXvdAPT",
        "outputId": "4eef4a5c-e57c-459e-fa4b-6c60125be065"
      },
      "source": [
        "# ?P<City> ?P<State> ?P<zip>  pre-pend this gorup names in regular expression \n",
        "pattern=re.compile('(?P<City>[A-Za-z\\s]+),(?P<State>[A-Za-z\\s]+)(?P<Zip>\\d+)')    #compile is used to save the pattern\n",
        "match=re.match(pattern,str1)\n",
        "print(match.group('City'))\n",
        "print(match.group('State'))\n",
        "print(match.group('Zip'))\n",
        "print(match.group(3)) # still numbers can be used\n",
        "print(match.groupdict()) # incase you forget group names dict can be used "
      ],
      "execution_count": null,
      "outputs": [
        {
          "output_type": "stream",
          "text": [
            "New York\n",
            " New york \n",
            "12345\n",
            "12345\n",
            "{'City': 'New York', 'State': ' New york ', 'Zip': '12345'}\n"
          ],
          "name": "stdout"
        }
      ]
    },
    {
      "cell_type": "markdown",
      "metadata": {
        "id": "XYgVJbxTs0_g"
      },
      "source": [
        "#### Quantifiers with Groups\n",
        "\n",
        "quantifiers on groups gives the final value ."
      ]
    },
    {
      "cell_type": "code",
      "metadata": {
        "colab": {
          "base_uri": "https://localhost:8080/"
        },
        "id": "ZA76c_M2o6cS",
        "outputId": "94f9c32c-9525-467d-e177-baa3baca2dff"
      },
      "source": [
        "print(re.search('(ab)+','aaaababababababab')) # serches for gorup ab multiple times\n",
        "print(re.search('[ab]+','aaaababababababab')) # custom char set with quantifier says give either a or b  hence entire strings comes "
      ],
      "execution_count": null,
      "outputs": [
        {
          "output_type": "stream",
          "text": [
            "<re.Match object; span=(3, 17), match='ababababababab'>\n",
            "<re.Match object; span=(0, 17), match='aaaababababababab'>\n"
          ],
          "name": "stdout"
        }
      ]
    },
    {
      "cell_type": "code",
      "metadata": {
        "colab": {
          "base_uri": "https://localhost:8080/",
          "height": 232
        },
        "id": "DH582IrUtAhr",
        "outputId": "b5f84558-580f-4fdd-d9a5-b39fe50a0f0d"
      },
      "source": [
        "m1=re.search('(ab)+','aaaababababababab') # This creates only one group\n",
        "print(m1.group(1)) # This is the group only one present\n",
        "print(m1.group(0)) # This gives pattern of enitre gorup\n",
        "print(m1.group(2)) #This should give error \n"
      ],
      "execution_count": null,
      "outputs": [
        {
          "output_type": "stream",
          "text": [
            "ab\n",
            "ababababababab\n"
          ],
          "name": "stdout"
        },
        {
          "output_type": "error",
          "ename": "IndexError",
          "evalue": "ignored",
          "traceback": [
            "\u001b[0;31m---------------------------------------------------------------------------\u001b[0m",
            "\u001b[0;31mIndexError\u001b[0m                                Traceback (most recent call last)",
            "\u001b[0;32m<ipython-input-233-b9d7e8fb0bc5>\u001b[0m in \u001b[0;36m<module>\u001b[0;34m()\u001b[0m\n\u001b[1;32m      2\u001b[0m \u001b[0mprint\u001b[0m\u001b[0;34m(\u001b[0m\u001b[0mm1\u001b[0m\u001b[0;34m.\u001b[0m\u001b[0mgroup\u001b[0m\u001b[0;34m(\u001b[0m\u001b[0;36m1\u001b[0m\u001b[0;34m)\u001b[0m\u001b[0;34m)\u001b[0m \u001b[0;31m# This is the group only one present\u001b[0m\u001b[0;34m\u001b[0m\u001b[0;34m\u001b[0m\u001b[0m\n\u001b[1;32m      3\u001b[0m \u001b[0mprint\u001b[0m\u001b[0;34m(\u001b[0m\u001b[0mm1\u001b[0m\u001b[0;34m.\u001b[0m\u001b[0mgroup\u001b[0m\u001b[0;34m(\u001b[0m\u001b[0;36m0\u001b[0m\u001b[0;34m)\u001b[0m\u001b[0;34m)\u001b[0m \u001b[0;31m# This gives pattern of enitre gorup\u001b[0m\u001b[0;34m\u001b[0m\u001b[0;34m\u001b[0m\u001b[0m\n\u001b[0;32m----> 4\u001b[0;31m \u001b[0mprint\u001b[0m\u001b[0;34m(\u001b[0m\u001b[0mm1\u001b[0m\u001b[0;34m.\u001b[0m\u001b[0mgroup\u001b[0m\u001b[0;34m(\u001b[0m\u001b[0;36m2\u001b[0m\u001b[0;34m)\u001b[0m\u001b[0;34m)\u001b[0m \u001b[0;31m#This should give error\u001b[0m\u001b[0;34m\u001b[0m\u001b[0;34m\u001b[0m\u001b[0m\n\u001b[0m",
            "\u001b[0;31mIndexError\u001b[0m: no such group"
          ]
        }
      ]
    },
    {
      "cell_type": "code",
      "metadata": {
        "colab": {
          "base_uri": "https://localhost:8080/"
        },
        "id": "TAjvC4Jcx9-O",
        "outputId": "2339a319-c45b-4ce6-ae97-4e42c98f2047"
      },
      "source": [
        "# first (ab)+ consumes everything till \n",
        "#end but as it sees it has to satisfy the next gorup it goes back 1 char it is not satisfied then it goes back other char thne it satisfies (ab)\n",
        "m1=re.search('(ab)+(ab)+','ababababab')  # here 2 gorups are created\n",
        "print(m1.groups())\n",
        "print(m1.group(1))\n",
        "print(m1.group(2))\n",
        "print(m1.span(2))"
      ],
      "execution_count": null,
      "outputs": [
        {
          "output_type": "stream",
          "text": [
            "('ab', 'ab')\n",
            "ab\n",
            "ab\n",
            "(8, 10)\n"
          ],
          "name": "stdout"
        }
      ]
    },
    {
      "cell_type": "code",
      "metadata": {
        "colab": {
          "base_uri": "https://localhost:8080/"
        },
        "id": "2A4-EQwBzg-d",
        "outputId": "fef99e4c-a3d3-4493-b65b-57d936a94470"
      },
      "source": [
        "str2='12345'\n",
        "m2=re.search('(\\d)+',str2)\n",
        "print(m2.groups()) # each value is replaced hence last value is preserved\n",
        "print(m2.span())\n",
        "str3='1234 789'\n",
        "re.findall('(\\d)+',str3) # This shoudl retreive last satisfying digit form entire string. "
      ],
      "execution_count": null,
      "outputs": [
        {
          "output_type": "stream",
          "text": [
            "('5',)\n",
            "(0, 5)\n"
          ],
          "name": "stdout"
        },
        {
          "output_type": "execute_result",
          "data": {
            "text/plain": [
              "['4', '9']"
            ]
          },
          "metadata": {
            "tags": []
          },
          "execution_count": 246
        }
      ]
    },
    {
      "cell_type": "markdown",
      "metadata": {
        "id": "vmc8drKc-TxS"
      },
      "source": [
        "#### Groups for word completions\n"
      ]
    },
    {
      "cell_type": "code",
      "metadata": {
        "colab": {
          "base_uri": "https://localhost:8080/"
        },
        "id": "AeGR4aii2MR6",
        "outputId": "77babcb0-0beb-42c3-d471-e8e0436daa82"
      },
      "source": [
        "str4=\"Hello! Happy Birthday P1. wish you a Happy Anniversary p2 and wish you a Happy ValentinesDay both\"\n",
        "# instead of wirting Happy Birthday |Happy Anniversay|Happy ValentinesDay ,\n",
        "##we can take out the common word and the gorup rest of the words in a gorup with or symbol\n",
        "print(re.findall('Happy (Birthday|Anniversary|ValentinesDay)',str4))\n",
        "re.search('Happy (Birthday|Anniversary|ValentinesDay)',str4) \n",
        "                                                              "
      ],
      "execution_count": null,
      "outputs": [
        {
          "output_type": "stream",
          "text": [
            "['Birthday', 'Anniversary', 'ValentinesDay']\n"
          ],
          "name": "stdout"
        },
        {
          "output_type": "execute_result",
          "data": {
            "text/plain": [
              "<re.Match object; span=(7, 21), match='Happy Birthday'>"
            ]
          },
          "metadata": {
            "tags": []
          },
          "execution_count": 252
        }
      ]
    },
    {
      "cell_type": "markdown",
      "metadata": {
        "id": "MCdtXhdFAz8H"
      },
      "source": [
        "#### Non-Capturing gorups. ?: (syntax similar to gorup names ?P)\n",
        "\n",
        "Capturing groups that we saw above will store or output the values . But non capturing groups are used to find the pattern without storing/outputing . It outputs entire match value"
      ]
    },
    {
      "cell_type": "code",
      "metadata": {
        "colab": {
          "base_uri": "https://localhost:8080/"
        },
        "id": "WanNJXQQ_75z",
        "outputId": "63764974-0787-4e91-a2b3-c9dc6c97f2be"
      },
      "source": [
        "print(re.findall('(\\d)+',\"1234 567\")) #capturing group.  \n",
        "print(re.findall('(?:\\d)+',\"1234 567\")) #Non-capturing group displays entire pattern that matches. \n",
        "print(re.findall('\\d+',\"1234 567\")) #Same as non-capturing group but when we need gorup names we can use the previous one\n",
        "print(re.findall('(?:\\d)+(\\d)',\"1234 567\")) #Non-capturing group followed buy capturing gorup\n"
      ],
      "execution_count": null,
      "outputs": [
        {
          "output_type": "stream",
          "text": [
            "['4', '7']\n",
            "['1234', '567']\n",
            "['1234', '567']\n",
            "['4', '7']\n"
          ],
          "name": "stdout"
        }
      ]
    },
    {
      "cell_type": "code",
      "metadata": {
        "colab": {
          "base_uri": "https://localhost:8080/"
        },
        "id": "8lcmFN8KB30_",
        "outputId": "fff5e33b-e6f9-4165-cd16-8d1da535c394"
      },
      "source": [
        "str5='1*1*1*2*2*1* 1*2*1*2*1* 2*1*1*'\n",
        "print(re.findall(r'(1\\*){2,}',str5))\n",
        "print(re.findall(r'(1\\*){3,}',str5))\n",
        "#How to find the pattens that have this series . That means if it has this series then print all pattern that it matches .\n",
        "#for this we can use the noncapturing groups\n",
        "print(re.findall(r'(?:1\\*){2,}',str5))\n",
        "print(re.findall(r'(?:1\\*){2,}\\d+',str5)) # pattern followed by one or more digits\n",
        "print(re.findall(r'(?:1\\*){2,}\\d?',str5)) # pattern followed by zero or 1 digit"
      ],
      "execution_count": null,
      "outputs": [
        {
          "output_type": "stream",
          "text": [
            "['1*', '1*']\n",
            "['1*']\n",
            "['1*1*1*', '1*1*']\n",
            "['1*1*1*2']\n",
            "['1*1*1*2', '1*1*']\n"
          ],
          "name": "stdout"
        }
      ]
    },
    {
      "cell_type": "code",
      "metadata": {
        "colab": {
          "base_uri": "https://localhost:8080/"
        },
        "id": "AjeqHE4_EBAy",
        "outputId": "926787d0-cfc0-454c-97de-9d8ad2d3dc4f"
      },
      "source": [
        "#with search and match\n",
        "print(re.search(r'(?:1\\*){2,}',str5))\n",
        "m5=re.search(r'(?:1\\*){2,}',str5)# as it is noncapturing gorup it will not have any gorups\n",
        "m5.groups() #shoudl be empty"
      ],
      "execution_count": null,
      "outputs": [
        {
          "output_type": "stream",
          "text": [
            "<re.Match object; span=(0, 6), match='1*1*1*'>\n"
          ],
          "name": "stdout"
        },
        {
          "output_type": "execute_result",
          "data": {
            "text/plain": [
              "()"
            ]
          },
          "metadata": {
            "tags": []
          },
          "execution_count": 277
        }
      ]
    },
    {
      "cell_type": "markdown",
      "metadata": {
        "id": "OWI5YR-oG_Oc"
      },
      "source": [
        "#### Backrefrencing the gorups uing \\1"
      ]
    },
    {
      "cell_type": "code",
      "metadata": {
        "colab": {
          "base_uri": "https://localhost:8080/"
        },
        "id": "-7y6e6aNF9lC",
        "outputId": "22d057b4-321b-4d1d-a64c-c1862e9999ac"
      },
      "source": [
        "#when a gorup is used we can backrefrence /repeat it again uing \\1\n",
        "#USED TO FIND DUPLICATES\n",
        "\n",
        "print(re.search(r'(\\w+) \\1','Happy Happy NewYear')) #bunch of chars followed by space and then followed by last gorup ie bunch of characters\n",
        "print(re.findall(r'(\\w+) \\1','Happy Happy New Year'))#here New Year is also bunch of chars followed by space and bunch of chars but\n",
        "                                                    #it is not same as previous bunch of chars that were ingorup. Hence it will not satisfy"
      ],
      "execution_count": null,
      "outputs": [
        {
          "output_type": "stream",
          "text": [
            "<re.Match object; span=(0, 11), match='Happy Happy'>\n",
            "['Happy']\n"
          ],
          "name": "stdout"
        }
      ]
    },
    {
      "cell_type": "code",
      "metadata": {
        "colab": {
          "base_uri": "https://localhost:8080/"
        },
        "id": "Il4F3ibHHade",
        "outputId": "1d00988d-e025-4424-c9df-73f0ce7f861a"
      },
      "source": [
        "print(re.findall(r'(\\w+) \\1','Happy Happy New Year very very nice so so beautiful')) # Happy Very and So are repeating words "
      ],
      "execution_count": null,
      "outputs": [
        {
          "output_type": "stream",
          "text": [
            "['Happy', 'very', 'so']\n"
          ],
          "name": "stdout"
        }
      ]
    },
    {
      "cell_type": "code",
      "metadata": {
        "colab": {
          "base_uri": "https://localhost:8080/"
        },
        "id": "WBi7gUc4Jik3",
        "outputId": "15ab9abd-d5cc-4cfc-da27-758402b17a26"
      },
      "source": [
        "print(re.findall(r'(\\w+) \\1','Happy Happy New Year very very nice Happy Happy beautiful')) # Happy is used multiple times so it outputs each time"
      ],
      "execution_count": null,
      "outputs": [
        {
          "output_type": "stream",
          "text": [
            "['Happy', 'very', 'Happy']\n"
          ],
          "name": "stdout"
        }
      ]
    },
    {
      "cell_type": "code",
      "metadata": {
        "colab": {
          "base_uri": "https://localhost:8080/"
        },
        "id": "ZPs2s_aaJLDG",
        "outputId": "3492978d-962d-4108-9386-b6ef19b5aa1f"
      },
      "source": [
        "print(re.findall(r'(\\w+) \\1 [A-Za-z\\s]+(\\d+) \\2','Happy Happy New Year 2021 2021 very very nice 2020 Happy Happy beautiful')) #back refrence 2 gorups\n"
      ],
      "execution_count": null,
      "outputs": [
        {
          "output_type": "stream",
          "text": [
            "[('Happy', '2021')]\n"
          ],
          "name": "stdout"
        }
      ]
    },
    {
      "cell_type": "code",
      "metadata": {
        "colab": {
          "base_uri": "https://localhost:8080/"
        },
        "id": "ZRJ9G5rnKWBq",
        "outputId": "b16e2a9f-20ee-4252-b277-9af0bd05e253"
      },
      "source": [
        "#Find all the names that has a series of 123 in their id\n",
        "s3=\"123123 = Mike,1223412 = Derick,2312312345 = John,\"\n",
        "print(re.findall(r'(?:123)+',s3)) # pulls the patterns that match it and we have non-capturing group so it displays entire string\n",
        "print(re.findall(r'(?:123)+(?:\\d+) = (\\w+)',s3)) #find names where it has repeating 123 in them followed by some digits then has = name"
      ],
      "execution_count": null,
      "outputs": [
        {
          "output_type": "stream",
          "text": [
            "['123123', '123123']\n",
            "['Mike', 'John']\n"
          ],
          "name": "stdout"
        }
      ]
    },
    {
      "cell_type": "markdown",
      "metadata": {
        "id": "3rq28is8NV0q"
      },
      "source": [
        "#### Flag , split, sub\n",
        "^ - matches at Beginning of string\n",
        "\n",
        "$ - matches at Ending of string\n",
        "\n",
        "flags:\n",
        "- re.MULTILINE - Each of the new lines          \n",
        "- re.IGNORECASE - Ignores case           \n",
        "-re.DOTALL      -Includes new line also \\n"
      ]
    },
    {
      "cell_type": "code",
      "metadata": {
        "colab": {
          "base_uri": "https://localhost:8080/"
        },
        "id": "MxF7kKhaLzjH",
        "outputId": "f28bbf56-0c37-402a-9afa-3ffde67c9f9a"
      },
      "source": [
        "text=\"\"\"The longtime Cowboys tight end at \n",
        "age 37. shocked everyone when he stepped away from a \n",
        "cushy gig in the “Monday Night Football” booth to strap his helmet back \n",
        "on and rejoin Dallas. Now back at football level, Witten is finding new ways to \n",
        "motivate himself at age 37.\"\"\"\n",
        "\n",
        "print(re.search(r'^age 37\\.',text)) # check at beginning it is not present\n",
        "print(re.search(r'age 37\\.$',text).group()) # check at end it is  present\n",
        "print(re.search(r'^age 37\\.',text,flags=re.MULTILINE).group()) # check at beginning in each of the new line and finds a match \n",
        "print(re.match(r'^age 37\\.',text,flags=re.MULTILINE))  # MULTILINE does not work with match it works only with search . match gives same non result"
      ],
      "execution_count": null,
      "outputs": [
        {
          "output_type": "stream",
          "text": [
            "None\n",
            "age 37.\n",
            "age 37.\n",
            "None\n"
          ],
          "name": "stdout"
        }
      ]
    },
    {
      "cell_type": "code",
      "metadata": {
        "colab": {
          "base_uri": "https://localhost:8080/"
        },
        "id": "7Y1vWM9TO7tY",
        "outputId": "2661fa8e-9966-433c-e4e0-bdeb82966f62"
      },
      "source": [
        "print(re.findall(r'football',text,flags=re.IGNORECASE)) # ignores case and finds "
      ],
      "execution_count": null,
      "outputs": [
        {
          "output_type": "stream",
          "text": [
            "['Football', 'football']\n"
          ],
          "name": "stdout"
        }
      ]
    },
    {
      "cell_type": "code",
      "metadata": {
        "colab": {
          "base_uri": "https://localhost:8080/"
        },
        "id": "rxIevNS_QcAV",
        "outputId": "156e1b02-ddf9-4c7b-9e87-8c687d45b94b"
      },
      "source": [
        "print(re.match(r'.*',text).group()) # ends at the first line as \\n is encountered\n",
        "print(\"\\n Lets see next with DOTALL\\n\")\n",
        "print(re.match(r'.*',text,flags=re.DOTALL).group()) # pulls whole text\n"
      ],
      "execution_count": null,
      "outputs": [
        {
          "output_type": "stream",
          "text": [
            "The longtime Cowboys tight end at \n",
            "\n",
            " Lets see next with DOTALL\n",
            "\n",
            "The longtime Cowboys tight end at \n",
            "age 37. shocked everyone when he stepped away from a \n",
            "cushy gig in the “Monday Night Football” booth to strap his helmet back \n",
            "on and rejoin Dallas. Now back at football level, Witten is finding new ways to \n",
            "motivate himself at age 37.\n"
          ],
          "name": "stdout"
        }
      ]
    },
    {
      "cell_type": "markdown",
      "metadata": {
        "id": "-jlTcjihGi6m"
      },
      "source": [
        "### re.methods\n",
        "\n",
        "\n",
        "#### re.split"
      ]
    },
    {
      "cell_type": "code",
      "metadata": {
        "colab": {
          "base_uri": "https://localhost:8080/"
        },
        "id": "chGUM7OIRk5c",
        "outputId": "8bf21995-b4e3-4262-c897-92685006356e"
      },
      "source": [
        "s5='This is first line. Followed by Second line. Then the thrid line.'\n",
        "print(re.split('\\.',s5)) # we dont not get the . \n",
        "print(re.split('(\\.)',s5)) # if we give it as a gorup we get .  but it comes a separate element.\n",
        "split='.'\n",
        "[i+split for i in re.split('\\.',s5)] #work around we can use list comprehension "
      ],
      "execution_count": null,
      "outputs": [
        {
          "output_type": "stream",
          "text": [
            "['This is first line', ' Followed by Second line', ' Then the thrid line', '']\n",
            "['This is first line', '.', ' Followed by Second line', '.', ' Then the thrid line', '.', '']\n"
          ],
          "name": "stdout"
        },
        {
          "output_type": "execute_result",
          "data": {
            "text/plain": [
              "['This is first line.',\n",
              " ' Followed by Second line.',\n",
              " ' Then the thrid line.',\n",
              " '.']"
            ]
          },
          "metadata": {
            "tags": []
          },
          "execution_count": 4
        }
      ]
    },
    {
      "cell_type": "code",
      "metadata": {
        "colab": {
          "base_uri": "https://localhost:8080/"
        },
        "id": "McQYIFOjNG1i",
        "outputId": "47971cc6-fb24-4e19-ff0a-ad5172fccc7b"
      },
      "source": [
        "string='<p>I have<span style=\"color:black\">black</span>hair</p>'\n",
        "print(re.split('<[A-Za-z:=\\s\\\"\"/]+>',string))    # give the chars  you want to allow in custom charset . split happens at each of staisfying position\n",
        "print(re.split('<[^<>]+>',string)) # Alternate way is to not include < > in custom char set"
      ],
      "execution_count": null,
      "outputs": [
        {
          "output_type": "stream",
          "text": [
            "['', 'I have', 'black', 'hair', '']\n",
            "['', 'I have', 'black', 'hair', '']\n"
          ],
          "name": "stdout"
        }
      ]
    },
    {
      "cell_type": "markdown",
      "metadata": {
        "id": "7L0ZNGEASkqF"
      },
      "source": [
        "#### Empty stirng problem . We see empty strings at beginning and ending . This can be tackeled using lsit comprehension"
      ]
    },
    {
      "cell_type": "code",
      "metadata": {
        "colab": {
          "base_uri": "https://localhost:8080/"
        },
        "id": "p4iob_LmPCRL",
        "outputId": "919762b5-d681-470d-ded4-830bd6f72d67"
      },
      "source": [
        "print([i for i in re.split('<[A-Za-z:=\\s\\\"\"/]+>',string) if i!=''])"
      ],
      "execution_count": null,
      "outputs": [
        {
          "output_type": "stream",
          "text": [
            "['I have', 'black', 'hair']\n"
          ],
          "name": "stdout"
        }
      ]
    },
    {
      "cell_type": "code",
      "metadata": {
        "colab": {
          "base_uri": "https://localhost:8080/"
        },
        "id": "3oQj2LbwSyUN",
        "outputId": "a4663627-00d0-403c-8075-22e37f542976"
      },
      "source": [
        "#Alternative to split findall\n",
        "re.findall('>([^<]+)',string)"
      ],
      "execution_count": null,
      "outputs": [
        {
          "output_type": "execute_result",
          "data": {
            "text/plain": [
              "['I have', 'black', 'hair']"
            ]
          },
          "metadata": {
            "tags": []
          },
          "execution_count": 31
        }
      ]
    },
    {
      "cell_type": "code",
      "metadata": {
        "colab": {
          "base_uri": "https://localhost:8080/"
        },
        "id": "-8ZtFaOwTj6V",
        "outputId": "b97fcd71-8b84-4555-86b4-ec09fa837dd4"
      },
      "source": [
        "print(re.split(',',',happy ,birthday,'))\n",
        "',happy ,birthday,'.split(',') #string.split\n",
        "list(filter(None,',happy ,birthday,'.split(','))) # use stirng split with filter to remove empty strings"
      ],
      "execution_count": null,
      "outputs": [
        {
          "output_type": "stream",
          "text": [
            "['', 'happy ', 'birthday', '']\n"
          ],
          "name": "stdout"
        },
        {
          "output_type": "execute_result",
          "data": {
            "text/plain": [
              "['happy ', 'birthday']"
            ]
          },
          "metadata": {
            "tags": []
          },
          "execution_count": 38
        }
      ]
    },
    {
      "cell_type": "markdown",
      "metadata": {
        "id": "7JXRIkzndIbn"
      },
      "source": [
        "### re.sub"
      ]
    },
    {
      "cell_type": "code",
      "metadata": {
        "colab": {
          "base_uri": "https://localhost:8080/"
        },
        "id": "HrK5GraWVHxr",
        "outputId": "f123b0b6-5c7f-44ad-f4f9-f0bc8680ff36"
      },
      "source": [
        "string='A has 3 cats B has 4 dogs C has 8 birds'\n",
        "square= lambda x: x**2\n",
        "\n",
        "print((re.findall('(\\d)+',string)))\n",
        "n=((re.findall('(\\d)+',string)))\n",
        "print(list(map(square,[int(i) for i in n])))\n",
        "\n",
        "# ALternatively we can do the same as below with sub\n",
        "\n",
        "print(re.sub('(\\d)+',lambda x: str(square(int(x.group(0)))),string))"
      ],
      "execution_count": null,
      "outputs": [
        {
          "output_type": "stream",
          "text": [
            "['3', '4', '8']\n",
            "[9, 16, 64]\n",
            "A has 9 cats B has 16 dogs C has 64 birds\n"
          ],
          "name": "stdout"
        }
      ]
    },
    {
      "cell_type": "code",
      "metadata": {
        "colab": {
          "base_uri": "https://localhost:8080/",
          "height": 52
        },
        "id": "yUyQhXcadX4x",
        "outputId": "befe60c3-90d5-42bf-b42f-88b52fc32cd4"
      },
      "source": [
        "input='eat laugh study sleep'\n",
        "\n",
        "print(re.sub('(\\w+)','ing',input)) # sub each word with ing \n",
        "list(map(lambda x: x+'ing' ,re.split(' ',input))) #concat ing to each word\n",
        "\n",
        "re.sub('\\w+',lambda x: x.group()+'ing',input) # using sub \n",
        "\n"
      ],
      "execution_count": null,
      "outputs": [
        {
          "output_type": "stream",
          "text": [
            "ing ing ing ing\n"
          ],
          "name": "stdout"
        },
        {
          "output_type": "execute_result",
          "data": {
            "application/vnd.google.colaboratory.intrinsic+json": {
              "type": "string"
            },
            "text/plain": [
              "'eating laughing studying sleeping'"
            ]
          },
          "metadata": {
            "tags": []
          },
          "execution_count": 80
        }
      ]
    },
    {
      "cell_type": "markdown",
      "metadata": {
        "id": "7e_-0spuXB9k"
      },
      "source": [
        "#### Backrefrencing with subs"
      ]
    },
    {
      "cell_type": "code",
      "metadata": {
        "colab": {
          "base_uri": "https://localhost:8080/"
        },
        "id": "-lWLKcLWgyMd",
        "outputId": "c04d864e-4160-4354-ef91-79ef497043e3"
      },
      "source": [
        "string=\"Merry Merry Christmas\"\n",
        "print(re.sub(r'(\\w+) \\1','Happy',string)) \n",
        "print(re.sub(r'(\\w+) \\1',r'Happy \\1',string))  # we are backrefrencing group in the replacement string too so changing Merry Merry to Happy Merry\n",
        "\n",
        "string=\"Hello 2021 NewYear\"\n",
        "print(re.sub(r'(\\w+) (\\d+)',r'Happy \\2',string)) # using group 2 in replacement stirng "
      ],
      "execution_count": null,
      "outputs": [
        {
          "output_type": "stream",
          "text": [
            "Happy Christmas\n",
            "Happy Merry Christmas\n",
            "Happy 2021 NewYear\n"
          ],
          "name": "stdout"
        }
      ]
    },
    {
      "cell_type": "markdown",
      "metadata": {
        "id": "jLWJXcmUcB6C"
      },
      "source": [
        "#### Word Boundries\n",
        "\n",
        "\\b word boundry check both sides and see if there is a alphanumeric character on one side  and non-alpha numeric on other side. (. is not alpha numeric)\n",
        "\n",
        "\\B is opposite which checks for either alpha numeric on both side or non alphanumeric on both sides\n",
        "#### [A-Za-z0-9_] - AlphaNumeric- \\w\n",
        "#### +:@^% - \\W\n",
        "#### . is not AlphaNumeric (space is also not alpha numeric)"
      ]
    },
    {
      "cell_type": "code",
      "metadata": {
        "colab": {
          "base_uri": "https://localhost:8080/"
        },
        "id": "J_kTDyg2Zuwi",
        "outputId": "a79a8953-52d9-44a4-a6dc-ddbb0e39eaf9"
      },
      "source": [
        "string=\"cat catherine catholic wildcat copy uncatchable\" # How to pull the first cat alone\n",
        "\n",
        "pattern=re.compile('cat') #this pulls all words that contain cat\n",
        "print(re.findall(pattern,string))\n",
        "\n",
        "pattern= re.compile('cat ') # this pulls other words that end with cat\n",
        "print(re.findall(pattern,string)) \n",
        "\n",
        "pattern= re.compile(r'\\bcat\\b') # giving word boundries at beginning and ending will  fetch word alone where it is present separately\n",
        "print(re.findall(pattern,string))  #first \\b cursor at \"cat and see on left non alpha and righ alpha so it pulls. \n",
        "                                    #In call other cases it dont have this combo\n",
        "\n",
        "string1=\".cat catherine uncatchable\" # it pulls cat as it considers . as non alpha numeric\n",
        "print(re.findall(pattern,string))  "
      ],
      "execution_count": 4,
      "outputs": [
        {
          "output_type": "stream",
          "text": [
            "['cat', 'cat', 'cat', 'cat', 'cat']\n",
            "['cat ', 'cat ']\n",
            "['cat']\n",
            "['cat']\n"
          ],
          "name": "stdout"
        }
      ]
    },
    {
      "cell_type": "code",
      "metadata": {
        "colab": {
          "base_uri": "https://localhost:8080/"
        },
        "id": "HQ_b7T0YU3Qb",
        "outputId": "6fd53cdb-5667-4473-bdca-614b5fb6a55e"
      },
      "source": [
        "#Below twitter handles 1,2 are valid 3,4 are invalid 5 is valid\n",
        "string='@mytweethandle @mytweet_handle h@tweet @hktweek.com @9vido_h'\n",
        "pattern=re.compile(r'\\b@[\\w]+\\b') # This check for word boundry which is alpha and non alpha on either side which is satisfied by h@tweet . \n",
        "#because cursor is before the @ and sees alpha on left and @ on right which is non alpha hence it pulls it.\n",
        "#for first cursor is at beginning and sees ' to left which is non alpha and @ to right which is also non Alpha and it does not pull\n",
        "print(re.findall(pattern,string)) \n"
      ],
      "execution_count": 65,
      "outputs": [
        {
          "output_type": "stream",
          "text": [
            "['@tweet']\n"
          ],
          "name": "stdout"
        }
      ]
    },
    {
      "cell_type": "code",
      "metadata": {
        "colab": {
          "base_uri": "https://localhost:8080/"
        },
        "id": "LM6UbqLEWAyK",
        "outputId": "f40b8304-341c-489c-e0b7-95817794f43f"
      },
      "source": [
        "# To oversomce problem above lets change \\b to \\B (both sides either alpha or non alphs)\n",
        "string='@mytweethandle @mytweet_handle h@tweet @hktweek.com @9vido_h'\n",
        "pattern=re.compile(r'\\B@[\\w]+\\b') # we see 1,2,5 are retrived as expected but it also pulls 4 @hktweek.com which is not valid\n",
        "print(re.findall(pattern,string)) "
      ],
      "execution_count": 66,
      "outputs": [
        {
          "output_type": "stream",
          "text": [
            "['@mytweethandle', '@mytweet_handle', '@hktweek', '@9vido_h']\n"
          ],
          "name": "stdout"
        }
      ]
    },
    {
      "cell_type": "code",
      "metadata": {
        "id": "xjm0hIBcdciw",
        "colab": {
          "base_uri": "https://localhost:8080/"
        },
        "outputId": "c5bd6b88-1f27-4ef3-f6ae-693197d22723"
      },
      "source": [
        "# As an improvement in next step we have to find a way to igone if there is a . in middle . THis can be done by negative look ahead\n",
        "## Negative Look head with out consuming (?!) we can use like (?:\\.) look ahead and see if there is a . if so discard it\n",
        "string='@mytweethandle @mytweet_handle h@tweet @hktweek.com @9vido_h'\n",
        "pattern=re.compile(r'\\B@[\\w]+\\b(?!\\.)')\n",
        "print(re.findall(pattern,string))"
      ],
      "execution_count": 68,
      "outputs": [
        {
          "output_type": "stream",
          "text": [
            "['@mytweethandle', '@mytweet_handle', '@9vido_h']\n"
          ],
          "name": "stdout"
        }
      ]
    },
    {
      "cell_type": "markdown",
      "metadata": {
        "id": "fMG3VH7UZTVh"
      },
      "source": [
        "#### Capture vs Consume:\n",
        "Capture is used wrt gorups where we have capturing groups which outputs something. Non capturing groups make a match but do not output .\n",
        "\n",
        "Consume - Cursor moves ahead and consumes character.Regular expression it consumes characters eg. \\w+ looks for all alpha numerics . Going though string and all that matches is consumed meaning the cursor is moved \n"
      ]
    },
    {
      "cell_type": "markdown",
      "metadata": {
        "id": "xY00dHyKaQ01"
      },
      "source": [
        "#### Look Arounds\n",
        "\n",
        "Allows us to confirm if some sort of patter is ahead or behind main pattern\n",
        "\n",
        "Positive Look ahead  ?=\n",
        "\n",
        "Negative Look ahead  ?!\n",
        "\n",
        "Positive Look behind ?<=\n",
        "\n",
        "Negative Look behind ?<! \n",
        "\n",
        "#### Simillar syntax to ?:non-capturing groups and ?P (naming gorups)"
      ]
    },
    {
      "cell_type": "code",
      "metadata": {
        "id": "XtfHvc5ramKX"
      },
      "source": [
        "#Req get the second column only if the first column has ABC in it and the last column has active in it. ie 1 and 3 only not second line\n",
        "string =\"\"\"ABC1a   1.1.1.1    249342  active \n",
        "           ABC1    2.2.2.2   352344  inactive\n",
        "           ABC2    3.3.3.3   399322  active\"\"\" "
      ],
      "execution_count": 94,
      "outputs": []
    },
    {
      "cell_type": "code",
      "metadata": {
        "colab": {
          "base_uri": "https://localhost:8080/"
        },
        "id": "R0fRkjarcLSq",
        "outputId": "394bbd78-5469-449b-9a2a-8f421af756aa"
      },
      "source": [
        "pattern=re.compile(r'ABC\\w+\\s+(\\S+)\\s+\\S+\\s+active')\n",
        "print(re.findall(pattern,string))\n",
        "\n",
        "pattern=re.compile(r'ABC\\w+\\s+(\\S+)\\s+\\S+\\s+(?=active)')\n",
        "print(re.findall(pattern,string))"
      ],
      "execution_count": 98,
      "outputs": [
        {
          "output_type": "stream",
          "text": [
            "['1.1.1.1', '3.3.3.3']\n",
            "['1.1.1.1', '3.3.3.3']\n"
          ],
          "name": "stdout"
        }
      ]
    },
    {
      "cell_type": "code",
      "metadata": {
        "colab": {
          "base_uri": "https://localhost:8080/"
        },
        "id": "jZx6MN7KgMI-",
        "outputId": "97acf845-2d27-45f0-d511-4c9a245b49da"
      },
      "source": [
        "#Demo noncapturing gorup vs positive look ahead with search\n",
        "pattern=re.compile(r'ABC\\w+\\s+(\\S+)\\s+\\S+\\s+(?=active)')\n",
        "print(re.search(pattern,string)) # we see that active column is not captured as it is a positive look ahead\n",
        "\n",
        "pattern=re.compile(r'ABC\\w+\\s+(\\S+)\\s+\\S+\\s+(?:active)')\n",
        "print(re.search(pattern,string)) # we see that active column is captured when we use the non-captuing group\n"
      ],
      "execution_count": 100,
      "outputs": [
        {
          "output_type": "stream",
          "text": [
            "<re.Match object; span=(0, 27), match='ABC1a   1.1.1.1    249342  '>\n",
            "<re.Match object; span=(0, 33), match='ABC1a   1.1.1.1    249342  active'>\n"
          ],
          "name": "stdout"
        }
      ]
    },
    {
      "cell_type": "code",
      "metadata": {
        "colab": {
          "base_uri": "https://localhost:8080/"
        },
        "id": "09s-aWxUc3zw",
        "outputId": "50b81e79-41c8-4b8e-d10b-41870dcba8a1"
      },
      "source": [
        "# Eg to show non capturing groups consume vs look ahead/behind do not consume\n",
        "# Find all a's that are surrounded by b \n",
        "string='abababcd' \n",
        "pattern=re.compile(r'(ab)') # this pulls all ab's\n",
        "print(re.findall(pattern,string))\n",
        "\n",
        "pattern=re.compile(r'(?:b)(a)(?:b)') # this pulls only one a because cursor moves\n",
        "print(re.findall(pattern,string))\n",
        "\n",
        "# this pulls all 2 a's . First cursr at a it is not preceeded by b hence goes to b then see if is preceeded by b no so moves to next a then sees \n",
        "#it is preceeded by b and also letter next to this a is a b hence it is shown but the cursor still stays at a.It then moves to b\n",
        "pattern=re.compile(r'(?<=b)(a)(?=b)') \n",
        "print(re.findall(pattern,string))\n",
        "\n"
      ],
      "execution_count": 107,
      "outputs": [
        {
          "output_type": "stream",
          "text": [
            "['ab', 'ab', 'ab']\n",
            "['a']\n",
            "['a', 'a']\n"
          ],
          "name": "stdout"
        }
      ]
    },
    {
      "cell_type": "code",
      "metadata": {
        "colab": {
          "base_uri": "https://localhost:8080/"
        },
        "id": "LepobVuCeJN6",
        "outputId": "300f5288-d071-41dc-dfa5-515dc37e8470"
      },
      "source": [
        "string=\"I love cherries, strawberries, bananas.\"\n",
        "\n",
        "pattern=re.compile(r'(\\w+)(?=,|\\.)') # get words tahat have , or .\n",
        "print(re.findall(pattern,string))"
      ],
      "execution_count": 10,
      "outputs": [
        {
          "output_type": "stream",
          "text": [
            "['cherries', 'strawberries', 'bananas']\n"
          ],
          "name": "stdout"
        }
      ]
    },
    {
      "cell_type": "markdown",
      "metadata": {
        "id": "U2ZaToyof0so"
      },
      "source": [
        "#### Consequtive look around fallacy"
      ]
    },
    {
      "cell_type": "code",
      "metadata": {
        "colab": {
          "base_uri": "https://localhost:8080/"
        },
        "id": "cKIKlQJRiYr1",
        "outputId": "405cc5dc-d0f7-4126-e95a-c43a462e0d77"
      },
      "source": [
        "string=\"\"\"cherries 100 red\n",
        "          apples   150 green\n",
        "          grapes   200\"\"\"\n",
        "\n",
        "pattern=re.compile(r'[A-Za-z]+(?=\\s*)(?=\\d+)(?=\\s*)(?=\\w+)')#checks for bunch of chars followed by spaces and cursor comes back and see for\n",
        "                                                            #digits and comes back  and checks for spaces and comes back and checks for bunch of chars\n",
        "print(re.findall(pattern,string))                           #hence we see empty string\n",
        "\n",
        "#Key take away is though we put look aheads consequtively it will not go and look one after the other in that order .rather each time \n",
        "#cursor comes back and checks the next look ahead. Lets try to put the entire look ahead in one go"
      ],
      "execution_count": 23,
      "outputs": [
        {
          "output_type": "stream",
          "text": [
            "[]\n"
          ],
          "name": "stdout"
        }
      ]
    },
    {
      "cell_type": "code",
      "metadata": {
        "colab": {
          "base_uri": "https://localhost:8080/"
        },
        "id": "QBOvS266geJQ",
        "outputId": "e666aaf3-4cc7-44cd-cbf4-21da4d595167"
      },
      "source": [
        "pattern=re.compile(r'[A-Za-z]+(?=\\s*\\d+\\s*[A-za-z]+)') # put in one look ahead and it check one after the other\n",
        "print(re.findall(pattern,string))  "
      ],
      "execution_count": 27,
      "outputs": [
        {
          "output_type": "stream",
          "text": [
            "['cherries', 'apples']\n"
          ],
          "name": "stdout"
        }
      ]
    },
    {
      "cell_type": "code",
      "metadata": {
        "colab": {
          "base_uri": "https://localhost:8080/"
        },
        "id": "k9DP9-4Qls1r",
        "outputId": "12dc382d-2ca2-4205-d638-10530c94ff03"
      },
      "source": [
        "# Sample password validation to include 1 caps 1 lower 1 digit 1 special char etc\n",
        "string='AZN#3232!abb32..'\n",
        "pattern=re.compile(r'(?=.*[a-z])(?=.*[A-Z])(?=.*[0-9])(?=.*[!.?])\\S+')  # checking for one caps one digit one punct etc and then at last place we are consuming with \\S\n",
        "print(re.search(pattern,string)) \n",
        "string='AZN#3232abb32#'     #special chars are not present hence returns nons\n",
        "print(re.search(pattern,string)) "
      ],
      "execution_count": 66,
      "outputs": [
        {
          "output_type": "stream",
          "text": [
            "<re.Match object; span=(0, 16), match='AZN#3232!abb32..'>\n",
            "None\n"
          ],
          "name": "stdout"
        }
      ]
    },
    {
      "cell_type": "markdown",
      "metadata": {
        "id": "atJJJV_Hwx1m"
      },
      "source": [
        "### Negative Look Arounds ?! ?<!\n"
      ]
    },
    {
      "cell_type": "code",
      "metadata": {
        "colab": {
          "base_uri": "https://localhost:8080/"
        },
        "id": "NTRFy0lKp_2g",
        "outputId": "4dea9266-a1f3-457f-edb7-2762323b75c6"
      },
      "source": [
        "#Find all occupations other than Baking Baker Cook \n",
        "string=\"\"\"\n",
        "  Remaining Party Applicants\n",
        "  \n",
        "  Occupation:  Clown\n",
        "  Occupation:  Baker\n",
        "  Occupation:  Florist\n",
        "  Occupation:  Party Planner\n",
        "  Occupation:  Cook\n",
        "  Occupation:  baker\n",
        "  Occupation:  Electrician\"\"\"\n",
        "\n",
        "pattern=re.compile(r'Occupation:\\s\\s(?!Baker|Baking|Cook).+',flags=re.IGNORECASE) # it will putll occupation: followed by spaces then negative look aheads \n",
        "                                                                   #and at last  it is consumed with .+ any chars\n",
        "print(re.findall(pattern,string))"
      ],
      "execution_count": 82,
      "outputs": [
        {
          "output_type": "stream",
          "text": [
            "['Occupation:  Clown', 'Occupation:  Florist', 'Occupation:  Party Planner', 'Occupation:  Electrician']\n"
          ],
          "name": "stdout"
        }
      ]
    },
    {
      "cell_type": "code",
      "metadata": {
        "colab": {
          "base_uri": "https://localhost:8080/"
        },
        "id": "0c3D0rtd9kiS",
        "outputId": "a3164ba0-7470-48ea-dfb3-204d9c734613"
      },
      "source": [
        "string=\"\"\"Full Invitation List:\n",
        "          Florist: Michel\n",
        "          Baker: John\n",
        "          Author: Seema Patel\n",
        "          Guest: Ashley Jackson\n",
        "          Cook: Sam\n",
        "          Baker: Dan\"\"\"\n",
        "\n",
        "#Find all names other than Baker\n",
        "# Seema Patel will not come because it has 2 words but our pattern is looking for a word that is not preceeded by Baker \n",
        "\n",
        "\n",
        "pattern=re.compile(r'(?<!Baker: )\\b\\w+$',flags=re.IGNORECASE|re.M) #$ with re.M will say that it is at end of each line\n",
        "print(re.findall(pattern,string))\n",
        "\n",
        "# To pull the names that have 2 words we can repeat the pattern with | \n",
        "pattern=re.compile(r'(?<!Baker: )(\\b\\w+$|\\b\\w+\\s\\w+$)',flags=re.IGNORECASE|re.M)  \n",
        "print(re.findall(pattern,string))\n"
      ],
      "execution_count": 152,
      "outputs": [
        {
          "output_type": "stream",
          "text": [
            "['Michel', 'Patel', 'Jackson', 'Sam']\n",
            "['Michel', 'Seema Patel', 'Ashley Jackson', 'Sam']\n"
          ],
          "name": "stdout"
        }
      ]
    },
    {
      "cell_type": "code",
      "metadata": {
        "colab": {
          "base_uri": "https://localhost:8080/"
        },
        "id": "8UNZKZM1zeqt",
        "outputId": "a7c5bb1c-2b6e-4788-9224-e8b195b61701"
      },
      "source": [
        "# To pull the entire string where the is a match instead of name\n",
        "string=\"\"\"Full Invitation List:\n",
        "          Florist: Michel\n",
        "          Baker: John\n",
        "          Author: Seema Patel\n",
        "          Guest: Ashley Jackson\n",
        "          Cook: Sam\n",
        "          Baker: Dan\"\"\"\n",
        "pattern=re.compile(r'^(?!Baker: ).+',flags=re.IGNORECASE|re.M) \n",
        "print(re.findall(pattern,string))\n"
      ],
      "execution_count": 169,
      "outputs": [
        {
          "output_type": "stream",
          "text": [
            "['Full Invitation List:', '          Florist: Michel', '          Baker: John', '          Author: Seema Patel', '          Guest: Ashley Jackson', '          Cook: Sam', '          Baker: Dan']\n"
          ],
          "name": "stdout"
        }
      ]
    },
    {
      "cell_type": "markdown",
      "metadata": {
        "id": "xX1oz8ajS8S-"
      },
      "source": [
        "#### regex module \n",
        "### re do not allow variable lenght in look behinds..work around is we can use regex\n"
      ]
    },
    {
      "cell_type": "code",
      "metadata": {
        "id": "F5g0RiIiW8Lj"
      },
      "source": [
        "import regex"
      ],
      "execution_count": 181,
      "outputs": []
    },
    {
      "cell_type": "code",
      "metadata": {
        "colab": {
          "base_uri": "https://localhost:8080/"
        },
        "id": "_9lZ9B5RS5tl",
        "outputId": "f6e022a2-2e50-466d-fd7b-895cd0532718"
      },
      "source": [
        "# if the col 2 has aplhanumeric then pull the respective col 4\n",
        "string =\"\"\"131 xBC    1111   249342  active\n",
        "           242 AxC    2222   352344  inactive\n",
        "           233 123    3333   399322  active\n",
        "           144 467    4444   324234  active\"\"\" \n",
        "\n",
        "pattern=regex.compile(r'(?<=[A-Za-z]+)\\s+(\\d+)\\s+(?:\\d+)\\s+\\w+$',flags=re.M)\n",
        "print(regex.findall(pattern,string))"
      ],
      "execution_count": 190,
      "outputs": [
        {
          "output_type": "stream",
          "text": [
            "['1111', '2222']\n"
          ],
          "name": "stdout"
        }
      ]
    },
    {
      "cell_type": "code",
      "metadata": {
        "colab": {
          "base_uri": "https://localhost:8080/"
        },
        "id": "VLsplVVY8LsU",
        "outputId": "11125db3-8863-4489-8ade-a9dfdc900a13"
      },
      "source": [
        "# Pull the calc.exe path that do not have system32\n",
        "s1=\"c:\\windows\\system32\\calc.exe\"\n",
        "s2=\"c:\\windows\\test\\system32\\calc.exe\"\n",
        "s3=\"c:\\windows\\new\\system32\\calc.exe\"\n",
        "s4=\"c:\\windows\\tools\\calc.exe\"\n",
        "pattern=regex.compile(r'(?<!system32.*)calc.exe',flags=re.M)\n",
        "print(regex.findall(pattern,s1))\n",
        "print(regex.findall(pattern,s2))\n",
        "print(regex.findall(pattern,s3))\n",
        "print(regex.findall(pattern,s4))"
      ],
      "execution_count": 254,
      "outputs": [
        {
          "output_type": "stream",
          "text": [
            "[]\n",
            "[]\n",
            "[]\n",
            "['calc.exe']\n"
          ],
          "name": "stdout"
        }
      ]
    },
    {
      "cell_type": "markdown",
      "metadata": {
        "id": "QGAVYwNfj5do"
      },
      "source": [
        "### Mask Email"
      ]
    },
    {
      "cell_type": "markdown",
      "metadata": {
        "id": "TbE0RYHHtmM4"
      },
      "source": [
        "#### Using Regular Expression"
      ]
    },
    {
      "cell_type": "code",
      "metadata": {
        "colab": {
          "base_uri": "https://localhost:8080/"
        },
        "id": "luNwuNI1tkGV",
        "outputId": "fb5d4daf-d52b-47ee-953b-490627158848"
      },
      "source": [
        "def mask_email(s):\n",
        "  \"\"\"Check if the email has @\n",
        "     split the email @ to get domain protion\n",
        "     check if the domain has either 1 or 2 dots\n",
        "     mask the id portion with ####\n",
        "     \"\"\"\n",
        "  if '@' in s:\n",
        "    s1,s2=re.split('@',s)\n",
        "    p1=re.compile(r'([A-Za-z]+\\.)')\n",
        "    #print(len(re.findall(p1,s2))) \n",
        "    if (len(re.findall(p1,s2))>0 and len(re.findall(p1,s2))<=2 ):\n",
        "      p2=re.compile(r'\\B[A-Za-z\\d]+[\\.]?[A-Za-z\\d]+(?=\\w)')\n",
        "      #print(re.sub(p2,'####',s1))\n",
        "      return (re.sub(p2,'####',s1)+'@'+s2)\n",
        "    return \"Invalid Email\"\n",
        "  return \"Invalid Email\"\n",
        "\n",
        "s='first.last@gov.edu.incom'  # valid email with 2 dots in domain\n",
        "print(mask_email(s))\n",
        "s='first.last@gov.edu' # valid email with 2 dots in domain\n",
        "print(mask_email(s))\n",
        "s='first.last@gov' # In-valid email with no dots in domain\n",
        "print(mask_email(s))\n",
        "s='first.last@gov.in.com.edu' # In-valid email with 3 dots in domain\n",
        "print(mask_email(s))\n",
        "s='first.lastgov.in.com.edu' # In-valid email without @\n",
        "print(mask_email(s))\n",
        "s='firstlastgovincomedu' # In-valid email without @ and .\n",
        "print(mask_email(s))"
      ],
      "execution_count": 367,
      "outputs": [
        {
          "output_type": "stream",
          "text": [
            "f####t@gov.edu.incom\n",
            "f####t@gov.edu\n",
            "Invalid Email\n",
            "Invalid Email\n",
            "Invalid Email\n",
            "Invalid Email\n"
          ],
          "name": "stdout"
        }
      ]
    },
    {
      "cell_type": "markdown",
      "metadata": {
        "id": "ygWIY6zmt7e5"
      },
      "source": [
        "#### Using String split with out domain validation "
      ]
    },
    {
      "cell_type": "code",
      "metadata": {
        "colab": {
          "base_uri": "https://localhost:8080/"
        },
        "id": "2r2j9Jvvj4M5",
        "outputId": "7fa79acc-e101-4ac6-a76d-1523165c638f"
      },
      "source": [
        "def fun_spl(s):\n",
        "  if '@' in s:\n",
        "    n,d=s.split('@')\n",
        "    return('{0}####{1}@{2}'.format(n[0],n[-1],d))\n",
        "\n",
        "print(fun_spl('abcd@efg.com'))\n",
        "print(fun_spl('abcdefg.com'))\n",
        "print(fun_spl('abcde@fg.com.edu'))"
      ],
      "execution_count": 19,
      "outputs": [
        {
          "output_type": "stream",
          "text": [
            "a####d@efg.com\n",
            "None\n",
            "a####e@fg.com.edu\n"
          ],
          "name": "stdout"
        }
      ]
    },
    {
      "cell_type": "code",
      "metadata": {
        "colab": {
          "base_uri": "https://localhost:8080/"
        },
        "id": "7S647Q20zDDC",
        "outputId": "ae4d9c5a-0bf2-44c5-952a-2362d06ac40d"
      },
      "source": [
        "import re\n",
        "num='(1)-732- 4859-876'\n",
        "num_d=''.join(re.findall('\\d+',num))\n",
        "print(\"Modified Phone number First Method:\",num_d)\n",
        "print(\"First Method Result:\",'###-###-'+num_d[-4:])\n",
        "\n",
        "num_d=re.sub('\\D','',num)\n",
        "print(\"Modified Phone number Second Method:\",num_d)\n",
        "print(\"Second Method Result\",'###-###-'+num_d[-4:])"
      ],
      "execution_count": 48,
      "outputs": [
        {
          "output_type": "stream",
          "text": [
            "Modified Phone number First Method: 17324859876\n",
            "First Method Result: ###-###-9876\n",
            "Modified Phone number Second Method: 17324859876\n",
            "Second Method Result ###-###-9876\n"
          ],
          "name": "stdout"
        }
      ]
    },
    {
      "cell_type": "code",
      "metadata": {
        "colab": {
          "base_uri": "https://localhost:8080/"
        },
        "id": "8dHqQ-xWz15Z",
        "outputId": "4a0c5c0c-39de-40c8-ba21-b6f4dbb6ab95"
      },
      "source": [
        "def ph_mask(num):\n",
        "  num_d=re.sub('\\D','',num)\n",
        "  if len(num_d)>=10:\n",
        "    return ('###-###-'+num_d[-4:])\n",
        "  else:\n",
        "    return \"Invalid Phone Number\"\n",
        "\n",
        "print(ph_mask('(1)-732- 4859-876')) #\n",
        "print(ph_mask('(1)-732-9-876')) # digits less than 10 \n",
        "print(ph_mask('+(91)-732- 4859-876')) #phone number with international code\n"
      ],
      "execution_count": 52,
      "outputs": [
        {
          "output_type": "stream",
          "text": [
            "###-###-9876\n",
            "Invalid Phone Number\n",
            "###-###-9876\n"
          ],
          "name": "stdout"
        }
      ]
    },
    {
      "cell_type": "code",
      "metadata": {
        "colab": {
          "base_uri": "https://localhost:8080/"
        },
        "id": "LQMAhcoY8P1o",
        "outputId": "925a6c0f-37b6-4a94-90d1-216ac133ad0e"
      },
      "source": [
        "#Print in Internation format followed by masking\n",
        "def ph_mask(num):\n",
        "  num_d=re.sub('\\D','',num)\n",
        "  if len(num_d)>=10 and len(num_d)<=15:\n",
        "    return ('+({0})###-###-{1}'.format(num_d[:-10],num_d[-4:]))\n",
        "  else:\n",
        "    return \"Invalid Phone Number\"\n",
        "\n",
        "print(ph_mask('+(91)-732- 4859-876')) #valid with internation code\n",
        "print(ph_mask('+(91242429)-732- 4859-876')) #valid with internation code"
      ],
      "execution_count": 63,
      "outputs": [
        {
          "output_type": "stream",
          "text": [
            "+(91)###-###-9876\n",
            "Invalid Phone Number\n"
          ],
          "name": "stdout"
        }
      ]
    },
    {
      "cell_type": "code",
      "metadata": {
        "id": "a-VtLo8r-TaZ"
      },
      "source": [
        ""
      ],
      "execution_count": null,
      "outputs": []
    }
  ]
}