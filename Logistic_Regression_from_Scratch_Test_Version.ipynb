{
  "nbformat": 4,
  "nbformat_minor": 0,
  "metadata": {
    "colab": {
      "name": "Hari- Logistic Regression from Scratch Assignment.ipynb",
      "provenance": [],
      "collapsed_sections": [],
      "include_colab_link": true
    },
    "kernelspec": {
      "name": "python3",
      "display_name": "Python 3"
    },
    "language_info": {
      "name": "python"
    }
  },
  "cells": [
    {
      "cell_type": "markdown",
      "metadata": {
        "id": "view-in-github",
        "colab_type": "text"
      },
      "source": [
        "<a href=\"https://colab.research.google.com/github/hkolgur/UOH/blob/main/Logistic_Regression_from_Scratch_Test_Version.ipynb\" target=\"_parent\"><img src=\"https://colab.research.google.com/assets/colab-badge.svg\" alt=\"Open In Colab\"/></a>"
      ]
    },
    {
      "cell_type": "markdown",
      "metadata": {
        "id": "YOoMmn6xpOkJ"
      },
      "source": [
        "# Implement Logistic Regression from scratch\n",
        "\n",
        "In this assignment, you will implement Logistic Regression with L1 regularization from scratch and predict the labels of the test data. You will then verify the correctness of the your implementation using multiple \"grader\" functions/cells (provided by us) which will match your implmentation.\n",
        "\n",
        "The grader functions would help you validate the correctness of your code. \n",
        "\n",
        "Please submit the final Colab notebook in the classroom ONLY after you have verified your code using the grader functions/cells.\n",
        "\n",
        "\n",
        "**NOTE: DO NOT change the \"grader\" functions or code snippets written by us.Please add your code in the suggested locations.**\n",
        "\n",
        "Ethics Code:\n",
        "1. You are welcome to read up online resources to implement the code. \n",
        "2. You can also discuss with your classmates on the implmentation over Slack.\n",
        "3. But, the code you write and submit should be yours ONLY. Your code will be compared against other stduents' code and online code snippets to check for plagiarism. If your code is found to be plagiarised, you will be awarded zero-marks for all assignments, which have a 10% weightage in the final marks for this course."
      ]
    },
    {
      "cell_type": "code",
      "metadata": {
        "colab": {
          "base_uri": "https://localhost:8080/"
        },
        "id": "MAlENnFPpQ3Y",
        "outputId": "26507ed2-27a2-4272-a274-8f785150cdfd"
      },
      "source": [
        "# Code to mount google drive in case you are loading the data from your google drive\n",
        "from google.colab import drive\n",
        "drive.mount('/gdrive')\n",
        "%cd /gdrive"
      ],
      "execution_count": 98,
      "outputs": [
        {
          "output_type": "stream",
          "text": [
            "Drive already mounted at /gdrive; to attempt to forcibly remount, call drive.mount(\"/gdrive\", force_remount=True).\n",
            "/gdrive\n"
          ],
          "name": "stdout"
        }
      ]
    },
    {
      "cell_type": "code",
      "metadata": {
        "colab": {
          "base_uri": "https://localhost:8080/"
        },
        "id": "CK7B3kn4dONk",
        "outputId": "5eac08fd-8902-4cb6-e864-c2ffdc178725"
      },
      "source": [
        "ls"
      ],
      "execution_count": 99,
      "outputs": [
        {
          "output_type": "stream",
          "text": [
            "\u001b[0m\u001b[01;34mMyDrive\u001b[0m/\n"
          ],
          "name": "stdout"
        }
      ]
    },
    {
      "cell_type": "code",
      "metadata": {
        "colab": {
          "base_uri": "https://localhost:8080/",
          "height": 417
        },
        "id": "KMnahnQEpfQb",
        "outputId": "fea8dc9d-8b79-4c2e-d677-32fdc08a50a5"
      },
      "source": [
        "# Loading data from csv file\n",
        "import pandas as pd\n",
        "data_path = '/gdrive/My Drive/UOH/LogisticRegression_from_scratch/logistic_regression_assignment_data.csv'\n",
        "\n",
        "df = pd.read_csv(data_path)\n",
        "df"
      ],
      "execution_count": 100,
      "outputs": [
        {
          "output_type": "execute_result",
          "data": {
            "text/html": [
              "<div>\n",
              "<style scoped>\n",
              "    .dataframe tbody tr th:only-of-type {\n",
              "        vertical-align: middle;\n",
              "    }\n",
              "\n",
              "    .dataframe tbody tr th {\n",
              "        vertical-align: top;\n",
              "    }\n",
              "\n",
              "    .dataframe thead th {\n",
              "        text-align: right;\n",
              "    }\n",
              "</style>\n",
              "<table border=\"1\" class=\"dataframe\">\n",
              "  <thead>\n",
              "    <tr style=\"text-align: right;\">\n",
              "      <th></th>\n",
              "      <th>category</th>\n",
              "      <th>text</th>\n",
              "    </tr>\n",
              "  </thead>\n",
              "  <tbody>\n",
              "    <tr>\n",
              "      <th>0</th>\n",
              "      <td>0</td>\n",
              "      <td>worldcom boss  left books alone  former worldc...</td>\n",
              "    </tr>\n",
              "    <tr>\n",
              "      <th>1</th>\n",
              "      <td>1</td>\n",
              "      <td>tigers wary of farrell  gamble  leicester say ...</td>\n",
              "    </tr>\n",
              "    <tr>\n",
              "      <th>2</th>\n",
              "      <td>1</td>\n",
              "      <td>yeading face newcastle in fa cup premiership s...</td>\n",
              "    </tr>\n",
              "    <tr>\n",
              "      <th>3</th>\n",
              "      <td>1</td>\n",
              "      <td>henman hopes ended in dubai third seed tim hen...</td>\n",
              "    </tr>\n",
              "    <tr>\n",
              "      <th>4</th>\n",
              "      <td>1</td>\n",
              "      <td>wilkinson fit to face edinburgh england captai...</td>\n",
              "    </tr>\n",
              "    <tr>\n",
              "      <th>...</th>\n",
              "      <td>...</td>\n",
              "      <td>...</td>\n",
              "    </tr>\n",
              "    <tr>\n",
              "      <th>1012</th>\n",
              "      <td>0</td>\n",
              "      <td>wall street cool to ebay s profit shares in on...</td>\n",
              "    </tr>\n",
              "    <tr>\n",
              "      <th>1013</th>\n",
              "      <td>0</td>\n",
              "      <td>ban on forced retirement under 65 employers wi...</td>\n",
              "    </tr>\n",
              "    <tr>\n",
              "      <th>1014</th>\n",
              "      <td>1</td>\n",
              "      <td>time to get tough on friendlies  for an intern...</td>\n",
              "    </tr>\n",
              "    <tr>\n",
              "      <th>1015</th>\n",
              "      <td>0</td>\n",
              "      <td>christmas shoppers flock to tills shops all ov...</td>\n",
              "    </tr>\n",
              "    <tr>\n",
              "      <th>1016</th>\n",
              "      <td>0</td>\n",
              "      <td>bush budget seeks deep cutbacks president bush...</td>\n",
              "    </tr>\n",
              "  </tbody>\n",
              "</table>\n",
              "<p>1017 rows × 2 columns</p>\n",
              "</div>"
            ],
            "text/plain": [
              "      category                                               text\n",
              "0            0  worldcom boss  left books alone  former worldc...\n",
              "1            1  tigers wary of farrell  gamble  leicester say ...\n",
              "2            1  yeading face newcastle in fa cup premiership s...\n",
              "3            1  henman hopes ended in dubai third seed tim hen...\n",
              "4            1  wilkinson fit to face edinburgh england captai...\n",
              "...        ...                                                ...\n",
              "1012         0  wall street cool to ebay s profit shares in on...\n",
              "1013         0  ban on forced retirement under 65 employers wi...\n",
              "1014         1  time to get tough on friendlies  for an intern...\n",
              "1015         0  christmas shoppers flock to tills shops all ov...\n",
              "1016         0  bush budget seeks deep cutbacks president bush...\n",
              "\n",
              "[1017 rows x 2 columns]"
            ]
          },
          "metadata": {
            "tags": []
          },
          "execution_count": 100
        }
      ]
    },
    {
      "cell_type": "markdown",
      "metadata": {
        "id": "kTQOrw6JCu5D"
      },
      "source": [
        "#### **Note:** Here class-0 is of category \"business\" and class-1 is of category \"sport\""
      ]
    },
    {
      "cell_type": "code",
      "metadata": {
        "colab": {
          "base_uri": "https://localhost:8080/"
        },
        "id": "T0_a8GvRqwzj",
        "outputId": "e53fc86c-f691-483a-83c6-c4bc9cd8555f"
      },
      "source": [
        "# Data Overiview\n",
        "df['category'].value_counts()"
      ],
      "execution_count": 101,
      "outputs": [
        {
          "output_type": "execute_result",
          "data": {
            "text/plain": [
              "1    509\n",
              "0    508\n",
              "Name: category, dtype: int64"
            ]
          },
          "metadata": {
            "tags": []
          },
          "execution_count": 101
        }
      ]
    },
    {
      "cell_type": "markdown",
      "metadata": {
        "id": "RW3eJmVbubx4"
      },
      "source": [
        "### Creating Train and Test Datasets\n"
      ]
    },
    {
      "cell_type": "code",
      "metadata": {
        "colab": {
          "base_uri": "https://localhost:8080/"
        },
        "id": "f5iXh7PusnyJ",
        "outputId": "f35eaa70-e6f9-46cf-8985-246125cc9355"
      },
      "source": [
        "# Splitting the data into train and test\n",
        "\n",
        "from sklearn.model_selection import train_test_split\n",
        "\n",
        "text = df['text']\n",
        "category = df['category']\n",
        "train_text, test_text, train_category, test_category = train_test_split(text, category, random_state=42, stratify=category, test_size=0.01)\n",
        "\n",
        "print(\"Shape of Train_Text = \", train_text.shape)\n",
        "print(\"Shape of Test_Text = \", test_text.shape)\n",
        "print(\"Shape of Train_Category = \", train_category.shape)\n",
        "print(\"Shape of Train_Category = \", test_category.shape)"
      ],
      "execution_count": 102,
      "outputs": [
        {
          "output_type": "stream",
          "text": [
            "Shape of Train_Text =  (1006,)\n",
            "Shape of Test_Text =  (11,)\n",
            "Shape of Train_Category =  (1006,)\n",
            "Shape of Train_Category =  (11,)\n"
          ],
          "name": "stdout"
        }
      ]
    },
    {
      "cell_type": "markdown",
      "metadata": {
        "id": "G6JlCeWPvNPS"
      },
      "source": [
        "## Custom Implementation"
      ]
    },
    {
      "cell_type": "markdown",
      "metadata": {
        "id": "VQRHOpf1vO69"
      },
      "source": [
        "### Instructions:\n",
        "\n",
        "  1. Read in the train_data.\n",
        "  2. Vectorize train_data and test_data using sklearns built in tfidf vectorizer.\n",
        "  3. Ignore unigrams and make use of both **bigrams & trigrams** and also limit the **max features** to **2000** and **minimum document frequency** to **10**.\n",
        "  4. After the tfidf vectors are generated as mentioned above, next task is to column standardize your data.\n",
        "  5. We want you to write in comments in your code, the reason you think for standardizing the data in the above step.\n",
        "  6. You can use sklearn StandardScaler to column standardize your data.\n",
        "  7. Write a function to initialise your weights & bias. And then run its corresponding grader function.\n",
        "  8. Write a custom function to calculate sigmoid of a value. And then run its corresponding grader function to cross check your implementation of sigmoid function.\n",
        "  9. Write a custom function to compute the total loss as the sum of log loss and l1 regularization loss based on true labels and predicted labels and weights. And you can crosscheck your implementation with its corresponding grader.\n",
        "  10. Write a function to compute gradients for your weights and bias terms, which you have to make use of in updating your weights and bias while training your model.\n",
        "  11. Implement a custom train function of logistic regression, wherein you take in the following inputs:\n",
        "        * **X_train** which will be your vectorized text data\n",
        "        * **y_train** which are the labels for your train data\n",
        "        * **alpha** = 0.0001 which is the regularization factor (λ) \n",
        "        * **eta0** = 0.0001 which will be the learning rate   \n",
        "        * **tolerance** = 0.001\n",
        "        \n",
        "  12. In the custom train function you should make use of a custom SGD function to update the weights and bias terms for **each** of your inputs. \n",
        "  13. The custom SGD implemented in the above train function for updating the weights and bias terms should run for many epochs until the difference in loss between two consecutive epochs is less than tolerance.\n",
        "\n",
        "  14. Here one epoch means a complete iteration of your entire train data.\n",
        "  15. Your train function should return the follwing:\n",
        "        * the number of epochs it took to complete the training\n",
        "        * train loss for all epochs\n",
        "        * the values for final weights and bias terms.\n",
        "        \n",
        "  16. Now run the grader function to check whether the weights and bias obtained from your custom implementation are close enough to that of sklearns implementation.\n",
        "  17. Next write a custom predict function which takes in as input the weights and bias values that you computed in your train function, and also takes in the test standardized data as input to predict its labels.\n",
        "  18. Now run the grader function to check the accuracy of your predictions.\n",
        "\n",
        "\n",
        "\n"
      ]
    },
    {
      "cell_type": "markdown",
      "metadata": {
        "id": "1Kb2V8ZXM-6M"
      },
      "source": [
        "###Import necessary libraries"
      ]
    },
    {
      "cell_type": "code",
      "metadata": {
        "id": "a3Zm11bHNGBi"
      },
      "source": [
        "import numpy as np\n",
        "from sklearn.feature_extraction.text import TfidfVectorizer\n",
        "from sklearn.preprocessing import StandardScaler\n",
        "from sklearn import linear_model\n",
        "import matplotlib.pyplot as plt"
      ],
      "execution_count": 246,
      "outputs": []
    },
    {
      "cell_type": "markdown",
      "metadata": {
        "id": "_hfDStz1LvEe"
      },
      "source": [
        "### 1. Vectorize train data and test data using sklearn tf-idf in the below cell\n",
        "\n",
        "\n",
        "\n"
      ]
    },
    {
      "cell_type": "code",
      "metadata": {
        "colab": {
          "base_uri": "https://localhost:8080/"
        },
        "id": "JoiLZawBMI2B",
        "outputId": "9e0ab58d-82a7-4b8f-b87f-884b858b9fe5"
      },
      "source": [
        "'''vectorize train and test data using TF-IDF and store them in train_vectors and test_vectors respectively'''\n",
        "model=TfidfVectorizer(lowercase=True,ngram_range=(2,3),max_features=2000,min_df=10)\n",
        "train_vectors = model.fit_transform(train_text.tolist())\n",
        "test_vectors = model.transform(test_text.tolist())\n",
        "train_vectors.shape, test_vectors.shape"
      ],
      "execution_count": 247,
      "outputs": [
        {
          "output_type": "execute_result",
          "data": {
            "text/plain": [
              "((1006, 2000), (11, 2000))"
            ]
          },
          "metadata": {
            "tags": []
          },
          "execution_count": 247
        }
      ]
    },
    {
      "cell_type": "markdown",
      "metadata": {
        "id": "0igVcuTSN4pS"
      },
      "source": [
        "###2. Column standardize the train and test data"
      ]
    },
    {
      "cell_type": "markdown",
      "metadata": {
        "id": "7zqOC3wx8LWF"
      },
      "source": [
        "What is the reasoning for column standardizing the data?\n"
      ]
    },
    {
      "cell_type": "markdown",
      "metadata": {
        "id": "H4jJ4xm58UPZ"
      },
      "source": [
        "Answer: In Logistic Regression we compute the distance of the point from the plane that separate positive and negative points . To avoid impact of scale on distances we compute , we need to do column standardization ."
      ]
    },
    {
      "cell_type": "code",
      "metadata": {
        "colab": {
          "base_uri": "https://localhost:8080/"
        },
        "id": "D9vQGIN_N8u2",
        "outputId": "6c8ef86d-25c4-47bc-d5ef-650ca4097c1a"
      },
      "source": [
        "'''column standardize the train and test data and store them in train_vectors_stand and test_vectors_stand'''\n",
        "sclar=StandardScaler(with_mean=False)\n",
        "train_vectors_stand =sclar.fit_transform(train_vectors)\n",
        "test_vectors_stand =sclar.transform(test_vectors)\n",
        "train_vectors_stand.shape, test_vectors_stand.shape"
      ],
      "execution_count": 248,
      "outputs": [
        {
          "output_type": "execute_result",
          "data": {
            "text/plain": [
              "((1006, 2000), (11, 2000))"
            ]
          },
          "metadata": {
            "tags": []
          },
          "execution_count": 248
        }
      ]
    },
    {
      "cell_type": "code",
      "metadata": {
        "colab": {
          "base_uri": "https://localhost:8080/"
        },
        "id": "Yq5Ne3WIiUwV",
        "outputId": "e6db8d34-8156-4c32-bf7c-0d35923c70ea"
      },
      "source": [
        "l1=[max(e) for e in train_vectors.toarray().tolist()]\n",
        "max(l1)"
      ],
      "execution_count": 249,
      "outputs": [
        {
          "output_type": "execute_result",
          "data": {
            "text/plain": [
              "0.8952512562635134"
            ]
          },
          "metadata": {
            "tags": []
          },
          "execution_count": 249
        }
      ]
    },
    {
      "cell_type": "markdown",
      "metadata": {
        "id": "b5H1j1bo5e2-"
      },
      "source": [
        "### Grader Function - 1"
      ]
    },
    {
      "cell_type": "code",
      "metadata": {
        "id": "D_wIbcOj3JrV",
        "colab": {
          "base_uri": "https://localhost:8080/"
        },
        "outputId": "414dd3d6-9c06-4280-9c0e-21c03ad262f9"
      },
      "source": [
        "# Grader function to check the initialization of your weights and bias terms.\n",
        "def initialize_weights_bias(d):\n",
        "  weights=np.zeros(d)\n",
        "  #weights=[0]*d # cannot be list because we cannot do .T/dot on vectors\n",
        "  bias=0\n",
        "  return weights,bias\n",
        "\n",
        "def grader_weights_bias(w,b):\n",
        "  assert((len(w)==2000) and b==0)\n",
        "  return True\n",
        "\n",
        "dim = 2000\n",
        "w,b = initialize_weights_bias(dim)\n",
        "grader_1 = grader_weights_bias(w,b)\n",
        "print(\"Grader_1 Status : \", grader_1)"
      ],
      "execution_count": 250,
      "outputs": [
        {
          "output_type": "stream",
          "text": [
            "Grader_1 Status :  True\n"
          ],
          "name": "stdout"
        }
      ]
    },
    {
      "cell_type": "markdown",
      "metadata": {
        "id": "oLGMaOFE6JDF"
      },
      "source": [
        "### 4. Custom function to calculate sigmoid of a value"
      ]
    },
    {
      "cell_type": "code",
      "metadata": {
        "id": "FfP2Z7gv3JpX"
      },
      "source": [
        "import math \n",
        "def custom_sigmoid(z):\n",
        "    ''' In this function, we will return sigmoid of z'''\n",
        "    \n",
        "    # Compute sigmoid(z) and return its value.\n",
        "    # Write your code below.\n",
        "    #print(\"z value is :\",z)\n",
        "    sigmoid=1/(1+math.exp(-z))\n",
        "\n",
        "    return sigmoid"
      ],
      "execution_count": 251,
      "outputs": []
    },
    {
      "cell_type": "markdown",
      "metadata": {
        "id": "lmoPhaX16pJ2"
      },
      "source": [
        "### Grader Function - 2"
      ]
    },
    {
      "cell_type": "code",
      "metadata": {
        "id": "G14xZAg_6x6C",
        "colab": {
          "base_uri": "https://localhost:8080/"
        },
        "outputId": "4d244765-c0ed-4232-8b91-0729ed7413a0"
      },
      "source": [
        "# Grader function to check the implementaiton of sigmoid function\n",
        "\n",
        "def grader_sigmoid(z):\n",
        "  val = custom_sigmoid(z)\n",
        "  assert(val==0.8807970779778823)\n",
        "  return True\n",
        "\n",
        "grader_2 = grader_sigmoid(2)\n",
        "print(\"Grader_2 Status : \", grader_2)"
      ],
      "execution_count": 252,
      "outputs": [
        {
          "output_type": "stream",
          "text": [
            "Grader_2 Status :  True\n"
          ],
          "name": "stdout"
        }
      ]
    },
    {
      "cell_type": "markdown",
      "metadata": {
        "id": "SVTM6TpQ6JTS"
      },
      "source": [
        "### 5.  Custom function to compute loss function"
      ]
    },
    {
      "cell_type": "markdown",
      "metadata": {
        "id": "Q5B5oKpf4h0n"
      },
      "source": [
        "$logloss = -1*\\frac{1}{n}\\Sigma_{for each Y_{true},Y_{pred}}(Y_{true}log10(Y_{pred})+(1-Y_{true})log10(1-Y_{pred}))$ \n"
      ]
    },
    {
      "cell_type": "markdown",
      "metadata": {
        "id": "iMDWzUoYPQxC"
      },
      "source": [
        "(yi)* - log(p(yi)) + (1-yi) * - 1og(p(1-yi)  - Each Term"
      ]
    },
    {
      "cell_type": "markdown",
      "metadata": {
        "id": "AnS1uSrV6CAk"
      },
      "source": [
        "$L1 loss = \\Sigma_{for each w}(|w|)$"
      ]
    },
    {
      "cell_type": "markdown",
      "metadata": {
        "id": "azcvxO3u6lNK"
      },
      "source": [
        "$total loss = logloss + alpha*L1loss$<br>\n",
        "Where alphas is the regularization parameter"
      ]
    },
    {
      "cell_type": "code",
      "metadata": {
        "id": "41ush74x8ueR"
      },
      "source": [
        "def custom_loss(y_true, y_pred, alpha, we):\n",
        "    '''In this function, we will compute total loss which is [(logloss) + (alpha * L1regularization loss)] '''\n",
        "    \n",
        "    # Write your code below.\n",
        "    loss_lg=0\n",
        "    l1_loss=0\n",
        "\n",
        "    for i,pred in enumerate(y_pred):\n",
        "      loss_lg=loss_lg +((1-y_true[i])*-math.log10(1-pred)+y_true[i]*-math.log10(pred))\n",
        "      #print((1-y_true[i])*-math.log10(1-pred)+y_true[i]*-math.log10(pred))\n",
        "    #print(\"Losss\",loss_lg)\n",
        "    logloss= loss_lg/len(y_pred)\n",
        "    #log_loss =\n",
        "    #print(\"Log Loss{} and avg log loss{}:\".format(loss_lg,logloss))\n",
        "    for wt in we:\n",
        "      #print(\"wt:{} and abs(wt){}\".format(wt,abs(wt)))\n",
        "      l1_loss=l1_loss+ abs(wt)\n",
        "    #print(\"L1 loss:\",l1_loss)\n",
        "    #print(\"Alpha and L1 is:\",alpha*l1_loss)\n",
        "    total_loss = logloss + alpha*l1_loss \n",
        "    #print(\"Total Loss:\",total_loss)\n",
        "\n",
        "    return total_loss"
      ],
      "execution_count": 253,
      "outputs": []
    },
    {
      "cell_type": "markdown",
      "metadata": {
        "id": "DYPtH_bM6obu"
      },
      "source": [
        "### Grader Function - 3"
      ]
    },
    {
      "cell_type": "code",
      "metadata": {
        "id": "AeNjSysS829s",
        "colab": {
          "base_uri": "https://localhost:8080/"
        },
        "outputId": "e7f8f50e-35d6-40b0-aec5-542672f8d57d"
      },
      "source": [
        "# Grader function to check the implementaiton of logloss\n",
        "\n",
        "def grader_loss():\n",
        "  true_values = [1,1,0,1,0]\n",
        "  pred_values = [0.9,0.8,0.1,0.8,0.2]\n",
        "  wts= np.array([0.1]*10)\n",
        "  #print(\"W is: \",wts)\n",
        "  alpha= 0.0001\n",
        "  loss = custom_loss(true_values, pred_values,alpha,wts)\n",
        "  #print(\"Total Loss:\",loss)\n",
        "  assert(loss==(0.07644900402910389+0.0001*10*0.1))\n",
        "  return True\n",
        "\n",
        "\n",
        "grader_3 = grader_loss()\n",
        "print(\"Grader_3 Status : \", grader_3)"
      ],
      "execution_count": 254,
      "outputs": [
        {
          "output_type": "stream",
          "text": [
            "Grader_3 Status :  True\n"
          ],
          "name": "stdout"
        }
      ]
    },
    {
      "cell_type": "markdown",
      "metadata": {
        "id": "LQGM1j2B6Jbf"
      },
      "source": [
        "### 6. Custom function to updated weights and bias terms"
      ]
    },
    {
      "cell_type": "markdown",
      "metadata": {
        "id": "FlqoG2CBMAjI"
      },
      "source": [
        "Use the below formula to compute gradient of your weight and bias terms <br>\n",
        "Loss term Li for a single example is given as below: \n",
        "<br>\n",
        "<br>\n",
        "\n",
        "$Li= -(Y_{i}log10(𝝈_{i})-(1-Y_{i})log10(1-𝝈_{i}) + \\frac{alpha}{N}(sum(|w|))\n",
        "$ <br>\n",
        "<br>\n",
        "$Where: 𝝈_{i} = σ(w^{T} x_i+b) $ <br>\n",
        "<br>\n",
        "And: L1 regularization = $\\frac{alpha}{N}(sum(|w|)) $ <br>\n",
        "Alpha: It is the Regularization parameter <br>\n",
        "N : number of training examples<br>\n",
        "σ : sigmoid function <br>\n",
        "<br>\n",
        "<br>\n",
        "<br>\n",
        "$dLi/dw= -Y_{i}x_{i}(1-𝝈_{i}) + (1-Y_{i})x_{i}𝝈_{i} + \\frac{w + (1e-5)}{|w + (1e-5)|}  $<br>\n",
        "NOTE THAT: 1e-5 used in numerator and denominator to avoid division error <br>\n",
        "\n",
        "$dLi/db= -Y_{i}(1-𝝈_{i}) + (1-Y_{i})𝝈_{i}$<br>\n",
        "<br>\n",
        "<br>\n",
        "Hence,<br>\n",
        "$dLi/dw= dw = (𝝈_{i} -Y_{i})x_{i} + \\frac{alpha}{N}\\frac{w + (1e-5)}{|w + (1e-5)|} $<br>\n",
        "1e-5 used in numerator and denominator to avoid division error <br>\n",
        "$dLi/db =  db = 𝝈_{i}-Y_{i}$\n",
        "<br>\n",
        "<br>\n",
        "!!NOTE: USE NEGATIVE GRADIENT WHILE UPDATING"
      ]
    },
    {
      "cell_type": "markdown",
      "metadata": {
        "id": "5UBBkZNJM2Fg"
      },
      "source": [
        "### 6a. Custom function to compute Gradient of loss function wrt weights:"
      ]
    },
    {
      "cell_type": "code",
      "metadata": {
        "id": "hREi7bQxM8h-"
      },
      "source": [
        "def gradient_dw(x, y, w, b, alpha, N):\n",
        "    '''In this function, we will compute the gardient w.r.t. w '''\n",
        "    \n",
        "    # Write your code below.\n",
        "    # print(\"w.shape\",w.shape)\n",
        "    # print(\"x shape\",x.shape)\n",
        "    # print(\"b is: \",b)\n",
        "    # print(\"dot product of w and x: \",np.dot(x.toarray(),w))\n",
        "    # print(\"custom_sigmoid(w.T*x+b):\",custom_sigmoid(np.dot(x.toarray(),w)+b))\n",
        "    dw= (custom_sigmoid(np.dot(x.toarray(),w.T)+b) -y)*x+ (alpha/N)*((w+.00001)/abs(w+.00001))\n",
        "    # print(\"dw shape:\",dw.shape)\n",
        "    #print(\"dw value:\",dw)\n",
        "    return dw\n"
      ],
      "execution_count": 255,
      "outputs": []
    },
    {
      "cell_type": "code",
      "metadata": {
        "colab": {
          "base_uri": "https://localhost:8080/"
        },
        "id": "X2C-hOu0ruBs",
        "outputId": "e09cc293-0633-4259-ec57-26d7636383f8"
      },
      "source": [
        "a1=np.array([2,2,2,2,2])\n",
        "x1=np.array([1,1,1,1,1])\n",
        "b1=np.array([4,4,4,4,4])\n",
        "\n",
        "# print(custom_sigmoid(a1.T*b1+x1) + (a1+.00001)/abs(b1+.00001))\n",
        "# print(custom_sigmoid(np.dot(a1,b1)+x1) + (a1+.00001)/abs(b1+.00001))\n",
        "print(a1.T*b1)\n",
        "print(np.dot(a1,b1))\n",
        "k=np.zeros(5)\n",
        "k.shape\n",
        "k=k.reshape(1,5)\n",
        "k.shape\n",
        "\n",
        "wl=np.array([2,-2,5])\n",
        "print(wl.shape)\n",
        "xl=np.array([4,-4,3])\n",
        "print(x1.shape)\n",
        "print(\"prod\",wl*xl)\n",
        "print(\"dot:\",np.dot(wl,xl))\n"
      ],
      "execution_count": 256,
      "outputs": [
        {
          "output_type": "stream",
          "text": [
            "[8 8 8 8 8]\n",
            "40\n",
            "(3,)\n",
            "(5,)\n",
            "prod [ 8  8 15]\n",
            "dot: 31\n"
          ],
          "name": "stdout"
        }
      ]
    },
    {
      "cell_type": "markdown",
      "metadata": {
        "id": "DyxGabPPM_lL"
      },
      "source": [
        "### 6b.  Custom function to compute Gradient of loss function wrt bias term:"
      ]
    },
    {
      "cell_type": "code",
      "metadata": {
        "id": "mIMxwuBAND0a"
      },
      "source": [
        "def gradient_db(x, y, w, b):\n",
        "    '''In this function, we will compute the gardient w.r.t. b '''\n",
        "    \n",
        "    # Write your code below.\n",
        "    \n",
        "    db=(custom_sigmoid(np.dot(x.toarray(),w.T)+b) -y)\n",
        "\n",
        "    return db"
      ],
      "execution_count": 257,
      "outputs": []
    },
    {
      "cell_type": "code",
      "metadata": {
        "colab": {
          "base_uri": "https://localhost:8080/"
        },
        "id": "4SIRUHESkc7n",
        "outputId": "d64b1699-0cd1-4b30-fb2f-29fca4940e63"
      },
      "source": [
        "\n",
        "train_category.values.shape\n",
        "train_vectors_stand.shape\n",
        "train_vectors_stand[0]\n",
        "train_vectors_stand[0].shape[1]"
      ],
      "execution_count": 258,
      "outputs": [
        {
          "output_type": "execute_result",
          "data": {
            "text/plain": [
              "2000"
            ]
          },
          "metadata": {
            "tags": []
          },
          "execution_count": 258
        }
      ]
    },
    {
      "cell_type": "code",
      "metadata": {
        "colab": {
          "base_uri": "https://localhost:8080/"
        },
        "id": "Pg_hI4q7wVP-",
        "outputId": "03338cd3-aaa6-43c0-a3a3-b7dcf0611f2b"
      },
      "source": [
        "wk=np.ones(2000)\n",
        "print(wk.shape)\n",
        "print(train_vectors_stand[0].shape)\n",
        "np.dot(train_vectors_stand[0].toarray(),wk)"
      ],
      "execution_count": 259,
      "outputs": [
        {
          "output_type": "stream",
          "text": [
            "(2000,)\n",
            "(1, 2000)\n"
          ],
          "name": "stdout"
        },
        {
          "output_type": "execute_result",
          "data": {
            "text/plain": [
              "array([330.74641329])"
            ]
          },
          "metadata": {
            "tags": []
          },
          "execution_count": 259
        }
      ]
    },
    {
      "cell_type": "markdown",
      "metadata": {
        "id": "DA6UuRWA-Pvf"
      },
      "source": [
        "###6c. Custom function to train logistic regression model"
      ]
    },
    {
      "cell_type": "markdown",
      "metadata": {
        "id": "KgdgYdyRX06U"
      },
      "source": [
        "$w^{(t+1)}← w^{(t)}- eta0*(dw^{(t)}) $<br>\n",
        "$b^{(t+1)}←b^{(t)} - eta0*(db^{(t)}) $"
      ]
    },
    {
      "cell_type": "code",
      "metadata": {
        "id": "44nod2Gu-ZWq"
      },
      "source": [
        "#(train_vectors_stand, train_category.values, 0.0001,0.0001,0.001) \n",
        "def custom_train(X_train, y_train,alpha, eta0,tolerance):\n",
        "  \"\"\"\n",
        "  In this function we will compute optimal values for weights and bias terms on\n",
        "  the train data. \n",
        "\n",
        "  Here eta0 is the learning rate and alpha is the regularization term.\n",
        "  \"\"\"\n",
        "  train_loss=[]\n",
        "  y_pred=[]\n",
        "  # Implement the code as follows:\n",
        "\n",
        "  # 1. Initalize the weights (call the initialize_weights(X_train[0]) function)\n",
        "  # 2. Repeat For many epochs until condition \"e\"  fails\n",
        "          # a) for every data point(X_train,y_train)\n",
        "                # compute gradient w.r.to w (call the gradient_dw() function)\n",
        "                # compute gradient w.r.to b (call the gradient_db() function)\n",
        "                # update w, b using the above eqns\n",
        "          # b) predict the output of x_train[for all data points in X_train] using w,b\n",
        "          # c) compute the loss between predicted and actual values (call the loss function)\n",
        "          # d) store all the train loss values in a list\n",
        "          # e) Compare previous loss and current loss, if the difference between loss is not more than or equal to the tolerance, stop the process and return w,b\n",
        "\n",
        "  # 3. Return the values of weights, bias, train_loss and num_epochs \n",
        "  \n",
        "  w1,b1=initialize_weights_bias(X_train[0].shape[1])\n",
        "  #w1=w1.reshape(1,2000)\n",
        "  #print(w1.shape)\n",
        "  num_epochs=0\n",
        "  train_loss.clear()\n",
        "  while(True):\n",
        "    #print(\"Infinate\")\n",
        "    y_pred.clear()\n",
        "    num_epochs += 1\n",
        "    for i,x in enumerate(X_train):\n",
        "      #w1,b1=initialize_weights_bias(x.shape[1])\n",
        "      #print(\"x shape and w1.shape before grad\",x.shape,w1.shape)\n",
        "      #print(\"Before dw\")\n",
        "      #print(\"w1 shape\",w1.shape)\n",
        "      grad_dw=gradient_dw(x,y_train[i],w1,b1,alpha,y_train.shape[0])\n",
        "      #print(\"grad_dw\",grad_dw)\n",
        "      grad_db=gradient_db(x,y_train[i],w1,b1)\n",
        "      #print(grad_dw.shape)\n",
        "      #print(\"grad of db\",grad_db)\n",
        "      #print(grad_db.shape)\n",
        "      w1=w1-eta0*grad_dw\n",
        "      #print(\"grad of db\",grad_db)\n",
        "      b1=b1-eta0*grad_db\n",
        "      #print(\"w1\",w1.shape)\n",
        "      #print(\"x\",x.shape)\n",
        "      #print(\"B1\",b1)\n",
        "      #print(w1.T.reshape(w1.T.shape[0],1)*x+b1)\n",
        "      #print(\"Dot prod:,\",np.dot(x.toarray(),w1.T))\n",
        "      y_pred.append(custom_sigmoid(np.dot(x.toarray(),w1.T)+b1)) \n",
        "    print(\"Len of Y_pred\",len(y_pred))\n",
        "    #print(\"weightttt\",w1)\n",
        "    #print(\"Biasss\",b1)\n",
        "    print(\"Len of  y_train\",len(y_train))\n",
        "    loss_tr=custom_loss(y_train, y_pred, alpha,w)\n",
        "    print(\"loss_tr\",loss_tr)\n",
        "    train_loss.append(loss_tr)\n",
        "    print(\"train_loss array\",train_loss)\n",
        "    print(\"num_epochs\",num_epochs)\n",
        "    print(\"len of train_loss is:\",len(train_loss))\n",
        "    print(\"Loss Difference:\",train_loss[num_epochs-2]-train_loss[num_epochs-1])\n",
        "    print(\"Tollerence is: \",tolerance)\n",
        "    if(num_epochs>1 and (train_loss[num_epochs-2]-train_loss[num_epochs-1])<tolerance):\n",
        "      break\n",
        "  return w1,b1,train_loss,num_epochs\n",
        "  \n",
        "\n",
        "\n"
      ],
      "execution_count": 260,
      "outputs": []
    },
    {
      "cell_type": "code",
      "metadata": {
        "colab": {
          "base_uri": "https://localhost:8080/"
        },
        "id": "h46YOxcpZzgG",
        "outputId": "f29f4426-c8f8-4138-c1b6-b47935d15c3c"
      },
      "source": [
        "train_loss"
      ],
      "execution_count": 261,
      "outputs": [
        {
          "output_type": "execute_result",
          "data": {
            "text/plain": [
              "[0.21071039693014837,\n",
              " 0.12789779912888735,\n",
              " 0.09236735360552176,\n",
              " 0.0728411306682425,\n",
              " 0.06044738113186946,\n",
              " 0.05183881727143685,\n",
              " 0.045483684031713684,\n",
              " 0.040582614034499566,\n",
              " 0.03667718176613776,\n",
              " 0.03348518626855716,\n",
              " 0.03082306523867378,\n",
              " 0.028566038415654433,\n",
              " 0.026626173843664724,\n",
              " 0.02493962250406359,\n",
              " 0.02345883556380749,\n",
              " 0.02214762967527783,\n",
              " 0.02097795190410939,\n",
              " 0.019927696107006242,\n",
              " 0.018979191514232704]"
            ]
          },
          "metadata": {
            "tags": []
          },
          "execution_count": 261
        }
      ]
    },
    {
      "cell_type": "markdown",
      "metadata": {
        "id": "EKKUVLml6pGj"
      },
      "source": [
        "### Grader Function - 4"
      ]
    },
    {
      "cell_type": "code",
      "metadata": {
        "id": "eAgSNFOU3JhN",
        "colab": {
          "base_uri": "https://localhost:8080/"
        },
        "outputId": "5ac52259-f7e1-4a1d-b4fd-36c64b386278"
      },
      "source": [
        "def grader_weights_bias():\n",
        "  # fitting sklearn SGD classifier\n",
        "  clf = linear_model.SGDClassifier(eta0=0.0001, alpha=0.0001, loss='log', random_state=15, penalty='l1', tol=1e-3, learning_rate='constant')\n",
        "  clf.fit(train_vectors_stand,train_category.values)\n",
        "  model_coef= clf.coef_[0]\n",
        "  print(\"Co-efficents from Model are:\",model_coef)\n",
        "  # fitting custom train with same learning rate, regularization and tolerance as of sklearn\n",
        "  w,b,_,epoch = custom_train(train_vectors_stand, train_category.values, 0.0001,0.0001,0.001) \n",
        "  print(\"Co-efficents from Custom model are:\",w)\n",
        "  # checking whether the weights and bias returned by both the implementations are closer\n",
        "  assert((not (w-model_coef>0.02).any())==True)\n",
        "  assert(not (b-clf.intercept_>0.02)==True)\n",
        "  \n",
        "  return True\n",
        "\n",
        "grader_4 = grader_weights_bias()\n",
        "print(\"Grader_4 Status : \", grader_4)"
      ],
      "execution_count": 262,
      "outputs": [
        {
          "output_type": "stream",
          "text": [
            "Co-efficents from Model are: [-0.02692747 -0.02015433  0.02406057 ...  0.02065403  0.02668987\n",
            "  0.02397516]\n",
            "Len of Y_pred 1006\n",
            "Len of  y_train 1006\n",
            "loss_tr 0.21071039693014837\n",
            "train_loss array [0.21071039693014837]\n",
            "num_epochs 1\n",
            "len of train_loss is: 1\n",
            "Loss Difference: 0.0\n",
            "Tollerence is:  0.001\n",
            "Len of Y_pred 1006\n",
            "Len of  y_train 1006\n",
            "loss_tr 0.12789779912888735\n",
            "train_loss array [0.21071039693014837, 0.12789779912888735]\n",
            "num_epochs 2\n",
            "len of train_loss is: 2\n",
            "Loss Difference: 0.08281259780126102\n",
            "Tollerence is:  0.001\n",
            "Len of Y_pred 1006\n",
            "Len of  y_train 1006\n",
            "loss_tr 0.09236735360552176\n",
            "train_loss array [0.21071039693014837, 0.12789779912888735, 0.09236735360552176]\n",
            "num_epochs 3\n",
            "len of train_loss is: 3\n",
            "Loss Difference: 0.035530445523365595\n",
            "Tollerence is:  0.001\n",
            "Len of Y_pred 1006\n",
            "Len of  y_train 1006\n",
            "loss_tr 0.0728411306682425\n",
            "train_loss array [0.21071039693014837, 0.12789779912888735, 0.09236735360552176, 0.0728411306682425]\n",
            "num_epochs 4\n",
            "len of train_loss is: 4\n",
            "Loss Difference: 0.01952622293727925\n",
            "Tollerence is:  0.001\n",
            "Len of Y_pred 1006\n",
            "Len of  y_train 1006\n",
            "loss_tr 0.06044738113186946\n",
            "train_loss array [0.21071039693014837, 0.12789779912888735, 0.09236735360552176, 0.0728411306682425, 0.06044738113186946]\n",
            "num_epochs 5\n",
            "len of train_loss is: 5\n",
            "Loss Difference: 0.012393749536373046\n",
            "Tollerence is:  0.001\n",
            "Len of Y_pred 1006\n",
            "Len of  y_train 1006\n",
            "loss_tr 0.05183881727143685\n",
            "train_loss array [0.21071039693014837, 0.12789779912888735, 0.09236735360552176, 0.0728411306682425, 0.06044738113186946, 0.05183881727143685]\n",
            "num_epochs 6\n",
            "len of train_loss is: 6\n",
            "Loss Difference: 0.008608563860432614\n",
            "Tollerence is:  0.001\n",
            "Len of Y_pred 1006\n",
            "Len of  y_train 1006\n",
            "loss_tr 0.045483684031713684\n",
            "train_loss array [0.21071039693014837, 0.12789779912888735, 0.09236735360552176, 0.0728411306682425, 0.06044738113186946, 0.05183881727143685, 0.045483684031713684]\n",
            "num_epochs 7\n",
            "len of train_loss is: 7\n",
            "Loss Difference: 0.006355133239723164\n",
            "Tollerence is:  0.001\n",
            "Len of Y_pred 1006\n",
            "Len of  y_train 1006\n",
            "loss_tr 0.040582614034499566\n",
            "train_loss array [0.21071039693014837, 0.12789779912888735, 0.09236735360552176, 0.0728411306682425, 0.06044738113186946, 0.05183881727143685, 0.045483684031713684, 0.040582614034499566]\n",
            "num_epochs 8\n",
            "len of train_loss is: 8\n",
            "Loss Difference: 0.004901069997214118\n",
            "Tollerence is:  0.001\n",
            "Len of Y_pred 1006\n",
            "Len of  y_train 1006\n",
            "loss_tr 0.03667718176613776\n",
            "train_loss array [0.21071039693014837, 0.12789779912888735, 0.09236735360552176, 0.0728411306682425, 0.06044738113186946, 0.05183881727143685, 0.045483684031713684, 0.040582614034499566, 0.03667718176613776]\n",
            "num_epochs 9\n",
            "len of train_loss is: 9\n",
            "Loss Difference: 0.0039054322683618053\n",
            "Tollerence is:  0.001\n",
            "Len of Y_pred 1006\n",
            "Len of  y_train 1006\n",
            "loss_tr 0.03348518626855716\n",
            "train_loss array [0.21071039693014837, 0.12789779912888735, 0.09236735360552176, 0.0728411306682425, 0.06044738113186946, 0.05183881727143685, 0.045483684031713684, 0.040582614034499566, 0.03667718176613776, 0.03348518626855716]\n",
            "num_epochs 10\n",
            "len of train_loss is: 10\n",
            "Loss Difference: 0.003191995497580598\n",
            "Tollerence is:  0.001\n",
            "Len of Y_pred 1006\n",
            "Len of  y_train 1006\n",
            "loss_tr 0.03082306523867378\n",
            "train_loss array [0.21071039693014837, 0.12789779912888735, 0.09236735360552176, 0.0728411306682425, 0.06044738113186946, 0.05183881727143685, 0.045483684031713684, 0.040582614034499566, 0.03667718176613776, 0.03348518626855716, 0.03082306523867378]\n",
            "num_epochs 11\n",
            "len of train_loss is: 11\n",
            "Loss Difference: 0.002662121029883384\n",
            "Tollerence is:  0.001\n",
            "Len of Y_pred 1006\n",
            "Len of  y_train 1006\n",
            "loss_tr 0.028566038415654433\n",
            "train_loss array [0.21071039693014837, 0.12789779912888735, 0.09236735360552176, 0.0728411306682425, 0.06044738113186946, 0.05183881727143685, 0.045483684031713684, 0.040582614034499566, 0.03667718176613776, 0.03348518626855716, 0.03082306523867378, 0.028566038415654433]\n",
            "num_epochs 12\n",
            "len of train_loss is: 12\n",
            "Loss Difference: 0.002257026823019346\n",
            "Tollerence is:  0.001\n",
            "Len of Y_pred 1006\n",
            "Len of  y_train 1006\n",
            "loss_tr 0.026626173843664724\n",
            "train_loss array [0.21071039693014837, 0.12789779912888735, 0.09236735360552176, 0.0728411306682425, 0.06044738113186946, 0.05183881727143685, 0.045483684031713684, 0.040582614034499566, 0.03667718176613776, 0.03348518626855716, 0.03082306523867378, 0.028566038415654433, 0.026626173843664724]\n",
            "num_epochs 13\n",
            "len of train_loss is: 13\n",
            "Loss Difference: 0.0019398645719897085\n",
            "Tollerence is:  0.001\n",
            "Len of Y_pred 1006\n",
            "Len of  y_train 1006\n",
            "loss_tr 0.02493962250406359\n",
            "train_loss array [0.21071039693014837, 0.12789779912888735, 0.09236735360552176, 0.0728411306682425, 0.06044738113186946, 0.05183881727143685, 0.045483684031713684, 0.040582614034499566, 0.03667718176613776, 0.03348518626855716, 0.03082306523867378, 0.028566038415654433, 0.026626173843664724, 0.02493962250406359]\n",
            "num_epochs 14\n",
            "len of train_loss is: 14\n",
            "Loss Difference: 0.0016865513396011333\n",
            "Tollerence is:  0.001\n",
            "Len of Y_pred 1006\n",
            "Len of  y_train 1006\n",
            "loss_tr 0.02345883556380749\n",
            "train_loss array [0.21071039693014837, 0.12789779912888735, 0.09236735360552176, 0.0728411306682425, 0.06044738113186946, 0.05183881727143685, 0.045483684031713684, 0.040582614034499566, 0.03667718176613776, 0.03348518626855716, 0.03082306523867378, 0.028566038415654433, 0.026626173843664724, 0.02493962250406359, 0.02345883556380749]\n",
            "num_epochs 15\n",
            "len of train_loss is: 15\n",
            "Loss Difference: 0.0014807869402561\n",
            "Tollerence is:  0.001\n",
            "Len of Y_pred 1006\n",
            "Len of  y_train 1006\n",
            "loss_tr 0.02214762967527783\n",
            "train_loss array [0.21071039693014837, 0.12789779912888735, 0.09236735360552176, 0.0728411306682425, 0.06044738113186946, 0.05183881727143685, 0.045483684031713684, 0.040582614034499566, 0.03667718176613776, 0.03348518626855716, 0.03082306523867378, 0.028566038415654433, 0.026626173843664724, 0.02493962250406359, 0.02345883556380749, 0.02214762967527783]\n",
            "num_epochs 16\n",
            "len of train_loss is: 16\n",
            "Loss Difference: 0.0013112058885296624\n",
            "Tollerence is:  0.001\n",
            "Len of Y_pred 1006\n",
            "Len of  y_train 1006\n",
            "loss_tr 0.02097795190410939\n",
            "train_loss array [0.21071039693014837, 0.12789779912888735, 0.09236735360552176, 0.0728411306682425, 0.06044738113186946, 0.05183881727143685, 0.045483684031713684, 0.040582614034499566, 0.03667718176613776, 0.03348518626855716, 0.03082306523867378, 0.028566038415654433, 0.026626173843664724, 0.02493962250406359, 0.02345883556380749, 0.02214762967527783, 0.02097795190410939]\n",
            "num_epochs 17\n",
            "len of train_loss is: 17\n",
            "Loss Difference: 0.001169677771168439\n",
            "Tollerence is:  0.001\n",
            "Len of Y_pred 1006\n",
            "Len of  y_train 1006\n",
            "loss_tr 0.019927696107006242\n",
            "train_loss array [0.21071039693014837, 0.12789779912888735, 0.09236735360552176, 0.0728411306682425, 0.06044738113186946, 0.05183881727143685, 0.045483684031713684, 0.040582614034499566, 0.03667718176613776, 0.03348518626855716, 0.03082306523867378, 0.028566038415654433, 0.026626173843664724, 0.02493962250406359, 0.02345883556380749, 0.02214762967527783, 0.02097795190410939, 0.019927696107006242]\n",
            "num_epochs 18\n",
            "len of train_loss is: 18\n",
            "Loss Difference: 0.0010502557971031473\n",
            "Tollerence is:  0.001\n",
            "Len of Y_pred 1006\n",
            "Len of  y_train 1006\n",
            "loss_tr 0.018979191514232704\n",
            "train_loss array [0.21071039693014837, 0.12789779912888735, 0.09236735360552176, 0.0728411306682425, 0.06044738113186946, 0.05183881727143685, 0.045483684031713684, 0.040582614034499566, 0.03667718176613776, 0.03348518626855716, 0.03082306523867378, 0.028566038415654433, 0.026626173843664724, 0.02493962250406359, 0.02345883556380749, 0.02214762967527783, 0.02097795190410939, 0.019927696107006242, 0.018979191514232704]\n",
            "num_epochs 19\n",
            "len of train_loss is: 19\n",
            "Loss Difference: 0.0009485045927735379\n",
            "Tollerence is:  0.001\n",
            "Co-efficents from Custom model are: [[-0.02331322 -0.0180137   0.02007448 ...  0.01832593  0.02251139\n",
            "   0.02023576]]\n",
            "Grader_4 Status :  True\n"
          ],
          "name": "stdout"
        }
      ]
    },
    {
      "cell_type": "markdown",
      "metadata": {
        "id": "GHrNKvsemncP"
      },
      "source": [
        "### 7. Plot the train loss with x as epoch number and y as train loss"
      ]
    },
    {
      "cell_type": "code",
      "metadata": {
        "id": "OJ_7XOwzmvvi",
        "colab": {
          "base_uri": "https://localhost:8080/",
          "height": 1000
        },
        "outputId": "77eb49b1-b631-4cf0-851d-ed5dfb0e001b"
      },
      "source": [
        "# plotting graph for epoch vs loss for train and test data\n",
        "\n",
        "w,b,train_loss,epochs = custom_train(train_vectors_stand, train_category.values, 0.0001,0.0001,0.001)\n",
        "plt.plot(range(epochs),train_loss,label='train curve') \n",
        "plt.title('epoch vs loss')\n",
        "plt.legend()\n",
        "plt.xlabel('epoch')\n",
        "plt.ylabel('loss')\n",
        "plt.show()"
      ],
      "execution_count": 263,
      "outputs": [
        {
          "output_type": "stream",
          "text": [
            "Len of Y_pred 1006\n",
            "Len of  y_train 1006\n",
            "loss_tr 0.21071039693014837\n",
            "train_loss array [0.21071039693014837]\n",
            "num_epochs 1\n",
            "len of train_loss is: 1\n",
            "Loss Difference: 0.0\n",
            "Tollerence is:  0.001\n",
            "Len of Y_pred 1006\n",
            "Len of  y_train 1006\n",
            "loss_tr 0.12789779912888735\n",
            "train_loss array [0.21071039693014837, 0.12789779912888735]\n",
            "num_epochs 2\n",
            "len of train_loss is: 2\n",
            "Loss Difference: 0.08281259780126102\n",
            "Tollerence is:  0.001\n",
            "Len of Y_pred 1006\n",
            "Len of  y_train 1006\n",
            "loss_tr 0.09236735360552176\n",
            "train_loss array [0.21071039693014837, 0.12789779912888735, 0.09236735360552176]\n",
            "num_epochs 3\n",
            "len of train_loss is: 3\n",
            "Loss Difference: 0.035530445523365595\n",
            "Tollerence is:  0.001\n",
            "Len of Y_pred 1006\n",
            "Len of  y_train 1006\n",
            "loss_tr 0.0728411306682425\n",
            "train_loss array [0.21071039693014837, 0.12789779912888735, 0.09236735360552176, 0.0728411306682425]\n",
            "num_epochs 4\n",
            "len of train_loss is: 4\n",
            "Loss Difference: 0.01952622293727925\n",
            "Tollerence is:  0.001\n",
            "Len of Y_pred 1006\n",
            "Len of  y_train 1006\n",
            "loss_tr 0.06044738113186946\n",
            "train_loss array [0.21071039693014837, 0.12789779912888735, 0.09236735360552176, 0.0728411306682425, 0.06044738113186946]\n",
            "num_epochs 5\n",
            "len of train_loss is: 5\n",
            "Loss Difference: 0.012393749536373046\n",
            "Tollerence is:  0.001\n",
            "Len of Y_pred 1006\n",
            "Len of  y_train 1006\n",
            "loss_tr 0.05183881727143685\n",
            "train_loss array [0.21071039693014837, 0.12789779912888735, 0.09236735360552176, 0.0728411306682425, 0.06044738113186946, 0.05183881727143685]\n",
            "num_epochs 6\n",
            "len of train_loss is: 6\n",
            "Loss Difference: 0.008608563860432614\n",
            "Tollerence is:  0.001\n",
            "Len of Y_pred 1006\n",
            "Len of  y_train 1006\n",
            "loss_tr 0.045483684031713684\n",
            "train_loss array [0.21071039693014837, 0.12789779912888735, 0.09236735360552176, 0.0728411306682425, 0.06044738113186946, 0.05183881727143685, 0.045483684031713684]\n",
            "num_epochs 7\n",
            "len of train_loss is: 7\n",
            "Loss Difference: 0.006355133239723164\n",
            "Tollerence is:  0.001\n",
            "Len of Y_pred 1006\n",
            "Len of  y_train 1006\n",
            "loss_tr 0.040582614034499566\n",
            "train_loss array [0.21071039693014837, 0.12789779912888735, 0.09236735360552176, 0.0728411306682425, 0.06044738113186946, 0.05183881727143685, 0.045483684031713684, 0.040582614034499566]\n",
            "num_epochs 8\n",
            "len of train_loss is: 8\n",
            "Loss Difference: 0.004901069997214118\n",
            "Tollerence is:  0.001\n",
            "Len of Y_pred 1006\n",
            "Len of  y_train 1006\n",
            "loss_tr 0.03667718176613776\n",
            "train_loss array [0.21071039693014837, 0.12789779912888735, 0.09236735360552176, 0.0728411306682425, 0.06044738113186946, 0.05183881727143685, 0.045483684031713684, 0.040582614034499566, 0.03667718176613776]\n",
            "num_epochs 9\n",
            "len of train_loss is: 9\n",
            "Loss Difference: 0.0039054322683618053\n",
            "Tollerence is:  0.001\n",
            "Len of Y_pred 1006\n",
            "Len of  y_train 1006\n",
            "loss_tr 0.03348518626855716\n",
            "train_loss array [0.21071039693014837, 0.12789779912888735, 0.09236735360552176, 0.0728411306682425, 0.06044738113186946, 0.05183881727143685, 0.045483684031713684, 0.040582614034499566, 0.03667718176613776, 0.03348518626855716]\n",
            "num_epochs 10\n",
            "len of train_loss is: 10\n",
            "Loss Difference: 0.003191995497580598\n",
            "Tollerence is:  0.001\n",
            "Len of Y_pred 1006\n",
            "Len of  y_train 1006\n",
            "loss_tr 0.03082306523867378\n",
            "train_loss array [0.21071039693014837, 0.12789779912888735, 0.09236735360552176, 0.0728411306682425, 0.06044738113186946, 0.05183881727143685, 0.045483684031713684, 0.040582614034499566, 0.03667718176613776, 0.03348518626855716, 0.03082306523867378]\n",
            "num_epochs 11\n",
            "len of train_loss is: 11\n",
            "Loss Difference: 0.002662121029883384\n",
            "Tollerence is:  0.001\n",
            "Len of Y_pred 1006\n",
            "Len of  y_train 1006\n",
            "loss_tr 0.028566038415654433\n",
            "train_loss array [0.21071039693014837, 0.12789779912888735, 0.09236735360552176, 0.0728411306682425, 0.06044738113186946, 0.05183881727143685, 0.045483684031713684, 0.040582614034499566, 0.03667718176613776, 0.03348518626855716, 0.03082306523867378, 0.028566038415654433]\n",
            "num_epochs 12\n",
            "len of train_loss is: 12\n",
            "Loss Difference: 0.002257026823019346\n",
            "Tollerence is:  0.001\n",
            "Len of Y_pred 1006\n",
            "Len of  y_train 1006\n",
            "loss_tr 0.026626173843664724\n",
            "train_loss array [0.21071039693014837, 0.12789779912888735, 0.09236735360552176, 0.0728411306682425, 0.06044738113186946, 0.05183881727143685, 0.045483684031713684, 0.040582614034499566, 0.03667718176613776, 0.03348518626855716, 0.03082306523867378, 0.028566038415654433, 0.026626173843664724]\n",
            "num_epochs 13\n",
            "len of train_loss is: 13\n",
            "Loss Difference: 0.0019398645719897085\n",
            "Tollerence is:  0.001\n",
            "Len of Y_pred 1006\n",
            "Len of  y_train 1006\n",
            "loss_tr 0.02493962250406359\n",
            "train_loss array [0.21071039693014837, 0.12789779912888735, 0.09236735360552176, 0.0728411306682425, 0.06044738113186946, 0.05183881727143685, 0.045483684031713684, 0.040582614034499566, 0.03667718176613776, 0.03348518626855716, 0.03082306523867378, 0.028566038415654433, 0.026626173843664724, 0.02493962250406359]\n",
            "num_epochs 14\n",
            "len of train_loss is: 14\n",
            "Loss Difference: 0.0016865513396011333\n",
            "Tollerence is:  0.001\n",
            "Len of Y_pred 1006\n",
            "Len of  y_train 1006\n",
            "loss_tr 0.02345883556380749\n",
            "train_loss array [0.21071039693014837, 0.12789779912888735, 0.09236735360552176, 0.0728411306682425, 0.06044738113186946, 0.05183881727143685, 0.045483684031713684, 0.040582614034499566, 0.03667718176613776, 0.03348518626855716, 0.03082306523867378, 0.028566038415654433, 0.026626173843664724, 0.02493962250406359, 0.02345883556380749]\n",
            "num_epochs 15\n",
            "len of train_loss is: 15\n",
            "Loss Difference: 0.0014807869402561\n",
            "Tollerence is:  0.001\n",
            "Len of Y_pred 1006\n",
            "Len of  y_train 1006\n",
            "loss_tr 0.02214762967527783\n",
            "train_loss array [0.21071039693014837, 0.12789779912888735, 0.09236735360552176, 0.0728411306682425, 0.06044738113186946, 0.05183881727143685, 0.045483684031713684, 0.040582614034499566, 0.03667718176613776, 0.03348518626855716, 0.03082306523867378, 0.028566038415654433, 0.026626173843664724, 0.02493962250406359, 0.02345883556380749, 0.02214762967527783]\n",
            "num_epochs 16\n",
            "len of train_loss is: 16\n",
            "Loss Difference: 0.0013112058885296624\n",
            "Tollerence is:  0.001\n",
            "Len of Y_pred 1006\n",
            "Len of  y_train 1006\n",
            "loss_tr 0.02097795190410939\n",
            "train_loss array [0.21071039693014837, 0.12789779912888735, 0.09236735360552176, 0.0728411306682425, 0.06044738113186946, 0.05183881727143685, 0.045483684031713684, 0.040582614034499566, 0.03667718176613776, 0.03348518626855716, 0.03082306523867378, 0.028566038415654433, 0.026626173843664724, 0.02493962250406359, 0.02345883556380749, 0.02214762967527783, 0.02097795190410939]\n",
            "num_epochs 17\n",
            "len of train_loss is: 17\n",
            "Loss Difference: 0.001169677771168439\n",
            "Tollerence is:  0.001\n",
            "Len of Y_pred 1006\n",
            "Len of  y_train 1006\n",
            "loss_tr 0.019927696107006242\n",
            "train_loss array [0.21071039693014837, 0.12789779912888735, 0.09236735360552176, 0.0728411306682425, 0.06044738113186946, 0.05183881727143685, 0.045483684031713684, 0.040582614034499566, 0.03667718176613776, 0.03348518626855716, 0.03082306523867378, 0.028566038415654433, 0.026626173843664724, 0.02493962250406359, 0.02345883556380749, 0.02214762967527783, 0.02097795190410939, 0.019927696107006242]\n",
            "num_epochs 18\n",
            "len of train_loss is: 18\n",
            "Loss Difference: 0.0010502557971031473\n",
            "Tollerence is:  0.001\n",
            "Len of Y_pred 1006\n",
            "Len of  y_train 1006\n",
            "loss_tr 0.018979191514232704\n",
            "train_loss array [0.21071039693014837, 0.12789779912888735, 0.09236735360552176, 0.0728411306682425, 0.06044738113186946, 0.05183881727143685, 0.045483684031713684, 0.040582614034499566, 0.03667718176613776, 0.03348518626855716, 0.03082306523867378, 0.028566038415654433, 0.026626173843664724, 0.02493962250406359, 0.02345883556380749, 0.02214762967527783, 0.02097795190410939, 0.019927696107006242, 0.018979191514232704]\n",
            "num_epochs 19\n",
            "len of train_loss is: 19\n",
            "Loss Difference: 0.0009485045927735379\n",
            "Tollerence is:  0.001\n"
          ],
          "name": "stdout"
        },
        {
          "output_type": "display_data",
          "data": {
            "image/png": "[encoded data removed]",
            "text/plain": [
              "<Figure size 432x288 with 1 Axes>"
            ]
          },
          "metadata": {
            "tags": [],
            "needs_background": "light"
          }
        }
      ]
    },
    {
      "cell_type": "markdown",
      "metadata": {
        "id": "IYy8iqhrAne2"
      },
      "source": [
        "### 8. Custom function to make predictions using logistic regression model"
      ]
    },
    {
      "cell_type": "code",
      "metadata": {
        "id": "w2gy5NvAlC_6"
      },
      "source": [
        "def predict(w,b, X):\n",
        "    '''function to predict label given weights, bias and standardized data'''\n",
        "    t_predictions=[]\n",
        "    for x1 in X:\n",
        "      tst_pred=custom_sigmoid(np.dot(x1.toarray(),w.T)+b)\n",
        "      print(\"prediction is \",tst_pred)\n",
        "      t_predictions.append(tst_pred) \n",
        "    print(\"All predicitons from pred function before return:\",t_predictions)\n",
        "    predictions=np.zeros(X.shape[0])\n",
        "    for i,ele in enumerate(t_predictions):\n",
        "      if (ele<=0.5):\n",
        "        predictions[i]=0\n",
        "      else:\n",
        "        predictions[i]=1\n",
        "    \n",
        "    print(\"Numpy predicitons converted\",predictions)\n",
        "    return predictions #it should be a numpy array"
      ],
      "execution_count": 283,
      "outputs": []
    },
    {
      "cell_type": "code",
      "metadata": {
        "colab": {
          "base_uri": "https://localhost:8080/"
        },
        "id": "l0_T2jGhbndD",
        "outputId": "d3f2bd40-32d9-4abc-de02-75fadb478e74"
      },
      "source": [
        "test_vectors_stand.shape[0]"
      ],
      "execution_count": 271,
      "outputs": [
        {
          "output_type": "execute_result",
          "data": {
            "text/plain": [
              "11"
            ]
          },
          "metadata": {
            "tags": []
          },
          "execution_count": 271
        }
      ]
    },
    {
      "cell_type": "markdown",
      "metadata": {
        "id": "EY3E_yv2OGiD"
      },
      "source": [
        "### Grader Function - 5"
      ]
    },
    {
      "cell_type": "code",
      "metadata": {
        "id": "eKYawSBtlRD7",
        "colab": {
          "base_uri": "https://localhost:8080/"
        },
        "outputId": "e51c2e2c-4b66-4026-e5e3-717d0c245a30"
      },
      "source": [
        "def grader_predict():\n",
        "  ''' grader to check the test accuracy'''\n",
        "  # w,b,_,_ = custom_train(train_vectors_stand, train_category.values, 0.0001,0.0001,0.001)\n",
        "  # print(\"After Train in Predict\")\n",
        "  print(\"one\")\n",
        "  test_preds= predict(w,b,test_vectors_stand)\n",
        "  print(\"two\",test_preds)\n",
        "  print(\"actuals\",test_category)\n",
        "  test_accuracy= (np.sum(test_category==test_preds)/len(test_preds))*100\n",
        "  print(\"Three\",test_accuracy)\n",
        "  if(test_accuracy>=90):\n",
        "    print(\"Success!\")\n",
        "  else:\n",
        "    print(\"Failed! \\n Test accuracy = \", test_accuracy)\n",
        "  return\n",
        "  \n",
        "grader_predict()"
      ],
      "execution_count": 284,
      "outputs": [
        {
          "output_type": "stream",
          "text": [
            "one\n",
            "prediction is  0.8773279387770337\n",
            "prediction is  0.004810998870344215\n",
            "prediction is  0.9905644999421929\n",
            "prediction is  0.10019583199955427\n",
            "prediction is  0.9093202344543\n",
            "prediction is  0.9216191717567307\n",
            "prediction is  0.03211623603342575\n",
            "prediction is  0.9958631266380925\n",
            "prediction is  0.06770579830075057\n",
            "prediction is  0.9768437525097754\n",
            "prediction is  0.029299652342819303\n",
            "All predicitons from pred function before return: [0.8773279387770337, 0.004810998870344215, 0.9905644999421929, 0.10019583199955427, 0.9093202344543, 0.9216191717567307, 0.03211623603342575, 0.9958631266380925, 0.06770579830075057, 0.9768437525097754, 0.029299652342819303]\n",
            "Numpy predicitons converted [1. 0. 1. 0. 1. 1. 0. 1. 0. 1. 0.]\n",
            "two [1. 0. 1. 0. 1. 1. 0. 1. 0. 1. 0.]\n",
            "actuals 788    1\n",
            "532    0\n",
            "321    1\n",
            "687    0\n",
            "62     1\n",
            "761    1\n",
            "883    0\n",
            "347    1\n",
            "199    0\n",
            "301    1\n",
            "195    0\n",
            "Name: category, dtype: int64\n",
            "Three 100.0\n",
            "Success!\n"
          ],
          "name": "stdout"
        }
      ]
    }
  ]
}