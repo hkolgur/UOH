{
  "nbformat": 4,
  "nbformat_minor": 0,
  "metadata": {
    "colab": {
      "name": "solve_for_x.ipynb",
      "provenance": [],
      "authorship_tag": "ABX9TyN6U7GkpB9szSw77wFDiLDg",
      "include_colab_link": true
    },
    "kernelspec": {
      "name": "python3",
      "display_name": "Python 3"
    },
    "language_info": {
      "name": "python"
    }
  },
  "cells": [
    {
      "cell_type": "markdown",
      "metadata": {
        "id": "view-in-github",
        "colab_type": "text"
      },
      "source": [
        "<a href=\"https://colab.research.google.com/github/hkolgur/UOH/blob/main/solve_for_x.ipynb\" target=\"_parent\"><img src=\"https://colab.research.google.com/assets/colab-badge.svg\" alt=\"Open In Colab\"/></a>"
      ]
    },
    {
      "cell_type": "markdown",
      "metadata": {
        "id": "Fd-Zht_flcHp"
      },
      "source": [
        "# Find x such that (x**5-x**4+2*x**3-x**2+x=3"
      ]
    },
    {
      "cell_type": "code",
      "metadata": {
        "colab": {
          "base_uri": "https://localhost:8080/"
        },
        "id": "eIU58gKLlX_e",
        "outputId": "d2597431-32a5-4003-b8bf-5f5e8177eda3"
      },
      "source": [
        "def fun(x):\n",
        "  return (x**5-x**4+2*x**3-x**2+x-3)\n",
        "\n",
        "x_l=1\n",
        "x_u=1.2\n",
        "x= (x_l+x_u)/2\n",
        "#print(fun(1))  # Test case to see if funciton is working correctly\n",
        "\n",
        "while(abs(fun(x))>0.00001):\n",
        "  #print(x_l,x_u)\n",
        "  x= (x_l+x_u)/2\n",
        "  if (fun(x)>0):\n",
        "    x_u=x\n",
        "  else:\n",
        "    x_l=x\n",
        "  print(fun(x),x_l,x_u)\n",
        "print(x,fun(x))\n",
        "#print(round(x,5))\n"
      ],
      "execution_count": 4,
      "outputs": [
        {
          "output_type": "stream",
          "text": [
            "-0.30158999999999914 1.1 1.2\n",
            "0.13160093749999957 1.1 1.15\n",
            "-0.092742919921875 1.125 1.15\n",
            "0.017432059020995982 1.125 1.1375\n",
            "-0.03814708003044043 1.13125 1.1375\n",
            "-0.010481364690364536 1.134375 1.1375\n",
            "0.003444265311275174 1.134375 1.1359374999999998\n",
            "-0.003526305338481528 1.1351562499999999 1.1359374999999998\n",
            "-4.296077602639059e-05 1.1355468749999997 1.1359374999999998\n",
            "0.001700166845602702 1.1355468749999997 1.1357421874999998\n",
            "0.0008284817082149232 1.1355468749999997 1.1356445312499996\n",
            "0.00039273013806750967 1.1355468749999997 1.1355957031249997\n",
            "0.00017487709946628627 1.1355468749999997 1.1355712890624998\n",
            "6.59562663880564e-05 1.1355468749999997 1.1355590820312498\n",
            "1.149727135363321e-05 1.1355468749999997 1.1355529785156246\n",
            "-1.5731870791846347e-05 1.1355499267578122 1.1355529785156246\n",
            "-2.1173293340837063e-06 1.1355514526367183 1.1355529785156246\n",
            "1.1355514526367183 -2.1173293340837063e-06\n"
          ],
          "name": "stdout"
        }
      ]
    }
  ]
}