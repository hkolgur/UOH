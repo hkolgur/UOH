{
  "nbformat": 4,
  "nbformat_minor": 0,
  "metadata": {
    "colab": {
      "name": "Area_btwn_curves.ipynb",
      "provenance": [],
      "authorship_tag": "ABX9TyN/hAJDADtMw2QtOYZD3JEG",
      "include_colab_link": true
    },
    "kernelspec": {
      "name": "python3",
      "display_name": "Python 3"
    },
    "language_info": {
      "name": "python"
    }
  },
  "cells": [
    {
      "cell_type": "markdown",
      "metadata": {
        "id": "view-in-github",
        "colab_type": "text"
      },
      "source": [
        "<a href=\"https://colab.research.google.com/github/hkolgur/UOH/blob/main/Area_btwn_curves.ipynb\" target=\"_parent\"><img src=\"https://colab.research.google.com/assets/colab-badge.svg\" alt=\"Open In Colab\"/></a>"
      ]
    },
    {
      "cell_type": "markdown",
      "metadata": {
        "id": "VlEnvs12Rc08"
      },
      "source": [
        "## AUC and Area Between the Curves"
      ]
    },
    {
      "cell_type": "markdown",
      "metadata": {
        "id": "1AfqPU6SCdHt"
      },
      "source": [
        "#### Area Under the Curve Example"
      ]
    },
    {
      "cell_type": "code",
      "metadata": {
        "colab": {
          "base_uri": "https://localhost:8080/"
        },
        "id": "xrhTAO8NoJkM",
        "outputId": "959ea2e5-0024-48db-f58a-5e17d4b72dd0"
      },
      "source": [
        "def fun_cube(x):\n",
        "  return (x**3)\n",
        "def fun_ex(x):\n",
        "  return math.e**x\n",
        "\n",
        "# Compute Area under the curve for x**3\n",
        "x_cube=1.85\n",
        "delta_cube=0.01\n",
        "area_cube1=0\n",
        "while(x_cube<4):\n",
        "  area_cube1 += fun_cube(x_cube)*delta_cube.    #split the curve to smaller rectangles and compute area of the rectangle as l*b\n",
        "  x_cube += delta_cube\n",
        "\n",
        "# Compute Area under the curve for e**x\n",
        "e_x=1.85\n",
        "delta_e_x=0.01\n",
        "area_e_x1=0\n",
        "while(e_x<4):\n",
        "  area_e_x1 += fun_ex(e_x)*delta_e_x.          #split the curve to smaller rectangles and compute area of the rectangle as l*b\n",
        "  e_x += delta_e_x\n",
        "\n",
        "print(\"x e**x AUC between 1.85 and 4 is:\",area_e_x1)\n",
        "print(\"x**3 AUC between 1.85 and 4 is:\",area_cube1)\n",
        "print(\"Area Between the curves 1.85 and 4 is::\",abs(area_cube1-area_e_x1))\n",
        "   "
      ],
      "execution_count": 9,
      "outputs": [
        {
          "output_type": "stream",
          "text": [
            "x e**x AUC between 1.85 and 4 is: 48.54352234373743\n",
            "x**3 AUC between 1.85 and 4 is: 61.42359599999853\n",
            "Area Between the curves 1.85 and 4 is:: 12.880073656261104\n"
          ],
          "name": "stdout"
        }
      ]
    },
    {
      "cell_type": "markdown",
      "metadata": {
        "id": "E2AE78vSCg_7"
      },
      "source": [
        "#### Area Between the curve Example\n",
        "####    Compute Area between the curves from 0 to  + 4 for curves e**x and x**3 .\n",
        "Note: we see these curves intersect in 2 places and e**x is over x**3 in one region and x**3 is over e**x in other region"
      ]
    },
    {
      "cell_type": "code",
      "metadata": {
        "colab": {
          "base_uri": "https://localhost:8080/"
        },
        "id": "ez65WGvmARYu",
        "outputId": "10bfa7d1-bbd5-432b-90e1-1dbb885d2cf6"
      },
      "source": [
        "import math\n",
        "def fun_cube(x):\n",
        "  return abs(x**3-math.e**x)  #take abs as the curves overtake one other in this region\n",
        "\n",
        "# Compute Area under the curve for x**3 and e**x \n",
        "x_cube=0\n",
        "delta_cube=0.01\n",
        "area_cube1=0\n",
        "while(x_cube<4):\n",
        "  area_cube1 += fun_cube(x_cube)*delta_cube+ 0.5*delta_cube*(fun_cube(x_cube+delta_cube)-fun_cube(x_cube))   #split the curve to smaller rectangles and compute area of the rectangle as l*b\n",
        "  x_cube += delta_cube\n",
        "\n",
        "\n",
        "print(\"Area between x**3 and e**x in range 0 and 4 is:\",area_cube1)\n",
        "\n",
        "   "
      ],
      "execution_count": 6,
      "outputs": [
        {
          "output_type": "stream",
          "text": [
            "Area between x**3 and e**x in range 0 and 4 is: 15.358570288972933\n"
          ],
          "name": "stdout"
        }
      ]
    },
    {
      "cell_type": "code",
      "metadata": {
        "id": "gLD7AeMFAfrp"
      },
      "source": [
        ""
      ],
      "execution_count": null,
      "outputs": []
    }
  ]
}