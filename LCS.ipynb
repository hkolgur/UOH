{
  "nbformat": 4,
  "nbformat_minor": 0,
  "metadata": {
    "colab": {
      "name": "LCS.ipynb",
      "provenance": [],
      "authorship_tag": "ABX9TyNeqTZ+G8ifxLJdRA2iajdf",
      "include_colab_link": true
    },
    "kernelspec": {
      "name": "python3",
      "display_name": "Python 3"
    }
  },
  "cells": [
    {
      "cell_type": "markdown",
      "metadata": {
        "id": "view-in-github",
        "colab_type": "text"
      },
      "source": [
        "<a href=\"https://colab.research.google.com/github/hkolgur/UOH/blob/main/LCS.ipynb\" target=\"_parent\"><img src=\"https://colab.research.google.com/assets/colab-badge.svg\" alt=\"Open In Colab\"/></a>"
      ]
    },
    {
      "cell_type": "markdown",
      "metadata": {
        "id": "Y5jJqyGXaMF1"
      },
      "source": [
        "# Find Longest Common Subsequence using Dynamic Programming\n",
        "### Time Complexity O(m*n)"
      ]
    },
    {
      "cell_type": "code",
      "metadata": {
        "colab": {
          "base_uri": "https://localhost:8080/"
        },
        "id": "_Qma0YUxAgLn",
        "outputId": "9ccd5b80-7caf-4933-9641-458699f20e3b"
      },
      "source": [
        "\n",
        "def LCS(S1,S2):\n",
        "  m=len(s1)\n",
        "  n=len(s2)\n",
        "  L = [[None]*(n+1) for i in range(m+1)] \n",
        "  #print(L)\n",
        "  for i in range(0,m+1):\n",
        "    for j in range(0,n+1):\n",
        "      if i==0 or j==0 :\n",
        "        L[i][j]=0\n",
        "        print(\"i or j is zero:\")\n",
        "      elif s1[i-1]==s2[j-1]:\n",
        "        L[i][j]=(L[i-1][j-1] + 1)\n",
        "        print(\"last letter match s[i-1]:{} s[j-1]:{} and L:{} \",s1[i-1],s2[j-1],L)\n",
        "       # print(\"found Match\",L[i][j])\n",
        "      else:\n",
        "       # print(\"max of{} and {} \".format(L[i-1][j-2],L[i-2][j-1]))\n",
        "        L[i][j]=max(L[i-1][j],L[i][j-1])\n",
        "        print(\"From previous matches:\",L)\n",
        "    \n",
        "  #print(\"max before return\",m-1,n-1)\n",
        "  return L[m][n]\n",
        "\n",
        "s1=\"QPQRR\"\n",
        "s2=\"PQPRQRP\"\n",
        "# s1=\"P\"\n",
        "# s2=\"P\"\n",
        "print(LCS(s1,s2))\n",
        "\n",
        "  "
      ],
      "execution_count": 60,
      "outputs": [
        {
          "output_type": "stream",
          "text": [
            "i or j is zero:\n",
            "i or j is zero:\n",
            "i or j is zero:\n",
            "i or j is zero:\n",
            "i or j is zero:\n",
            "i or j is zero:\n",
            "i or j is zero:\n",
            "i or j is zero:\n",
            "i or j is zero:\n",
            "From previous matches: [[0, 0, 0, 0, 0, 0, 0, 0], [0, 0, None, None, None, None, None, None], [None, None, None, None, None, None, None, None], [None, None, None, None, None, None, None, None], [None, None, None, None, None, None, None, None], [None, None, None, None, None, None, None, None]]\n",
            "last letter match s[i-1]:{} s[j-1]:{} and L:{}  Q Q [[0, 0, 0, 0, 0, 0, 0, 0], [0, 0, 1, None, None, None, None, None], [None, None, None, None, None, None, None, None], [None, None, None, None, None, None, None, None], [None, None, None, None, None, None, None, None], [None, None, None, None, None, None, None, None]]\n",
            "From previous matches: [[0, 0, 0, 0, 0, 0, 0, 0], [0, 0, 1, 1, None, None, None, None], [None, None, None, None, None, None, None, None], [None, None, None, None, None, None, None, None], [None, None, None, None, None, None, None, None], [None, None, None, None, None, None, None, None]]\n",
            "From previous matches: [[0, 0, 0, 0, 0, 0, 0, 0], [0, 0, 1, 1, 1, None, None, None], [None, None, None, None, None, None, None, None], [None, None, None, None, None, None, None, None], [None, None, None, None, None, None, None, None], [None, None, None, None, None, None, None, None]]\n",
            "last letter match s[i-1]:{} s[j-1]:{} and L:{}  Q Q [[0, 0, 0, 0, 0, 0, 0, 0], [0, 0, 1, 1, 1, 1, None, None], [None, None, None, None, None, None, None, None], [None, None, None, None, None, None, None, None], [None, None, None, None, None, None, None, None], [None, None, None, None, None, None, None, None]]\n",
            "From previous matches: [[0, 0, 0, 0, 0, 0, 0, 0], [0, 0, 1, 1, 1, 1, 1, None], [None, None, None, None, None, None, None, None], [None, None, None, None, None, None, None, None], [None, None, None, None, None, None, None, None], [None, None, None, None, None, None, None, None]]\n",
            "From previous matches: [[0, 0, 0, 0, 0, 0, 0, 0], [0, 0, 1, 1, 1, 1, 1, 1], [None, None, None, None, None, None, None, None], [None, None, None, None, None, None, None, None], [None, None, None, None, None, None, None, None], [None, None, None, None, None, None, None, None]]\n",
            "i or j is zero:\n",
            "last letter match s[i-1]:{} s[j-1]:{} and L:{}  P P [[0, 0, 0, 0, 0, 0, 0, 0], [0, 0, 1, 1, 1, 1, 1, 1], [0, 1, None, None, None, None, None, None], [None, None, None, None, None, None, None, None], [None, None, None, None, None, None, None, None], [None, None, None, None, None, None, None, None]]\n",
            "From previous matches: [[0, 0, 0, 0, 0, 0, 0, 0], [0, 0, 1, 1, 1, 1, 1, 1], [0, 1, 1, None, None, None, None, None], [None, None, None, None, None, None, None, None], [None, None, None, None, None, None, None, None], [None, None, None, None, None, None, None, None]]\n",
            "last letter match s[i-1]:{} s[j-1]:{} and L:{}  P P [[0, 0, 0, 0, 0, 0, 0, 0], [0, 0, 1, 1, 1, 1, 1, 1], [0, 1, 1, 2, None, None, None, None], [None, None, None, None, None, None, None, None], [None, None, None, None, None, None, None, None], [None, None, None, None, None, None, None, None]]\n",
            "From previous matches: [[0, 0, 0, 0, 0, 0, 0, 0], [0, 0, 1, 1, 1, 1, 1, 1], [0, 1, 1, 2, 2, None, None, None], [None, None, None, None, None, None, None, None], [None, None, None, None, None, None, None, None], [None, None, None, None, None, None, None, None]]\n",
            "From previous matches: [[0, 0, 0, 0, 0, 0, 0, 0], [0, 0, 1, 1, 1, 1, 1, 1], [0, 1, 1, 2, 2, 2, None, None], [None, None, None, None, None, None, None, None], [None, None, None, None, None, None, None, None], [None, None, None, None, None, None, None, None]]\n",
            "From previous matches: [[0, 0, 0, 0, 0, 0, 0, 0], [0, 0, 1, 1, 1, 1, 1, 1], [0, 1, 1, 2, 2, 2, 2, None], [None, None, None, None, None, None, None, None], [None, None, None, None, None, None, None, None], [None, None, None, None, None, None, None, None]]\n",
            "last letter match s[i-1]:{} s[j-1]:{} and L:{}  P P [[0, 0, 0, 0, 0, 0, 0, 0], [0, 0, 1, 1, 1, 1, 1, 1], [0, 1, 1, 2, 2, 2, 2, 2], [None, None, None, None, None, None, None, None], [None, None, None, None, None, None, None, None], [None, None, None, None, None, None, None, None]]\n",
            "i or j is zero:\n",
            "From previous matches: [[0, 0, 0, 0, 0, 0, 0, 0], [0, 0, 1, 1, 1, 1, 1, 1], [0, 1, 1, 2, 2, 2, 2, 2], [0, 1, None, None, None, None, None, None], [None, None, None, None, None, None, None, None], [None, None, None, None, None, None, None, None]]\n",
            "last letter match s[i-1]:{} s[j-1]:{} and L:{}  Q Q [[0, 0, 0, 0, 0, 0, 0, 0], [0, 0, 1, 1, 1, 1, 1, 1], [0, 1, 1, 2, 2, 2, 2, 2], [0, 1, 2, None, None, None, None, None], [None, None, None, None, None, None, None, None], [None, None, None, None, None, None, None, None]]\n",
            "From previous matches: [[0, 0, 0, 0, 0, 0, 0, 0], [0, 0, 1, 1, 1, 1, 1, 1], [0, 1, 1, 2, 2, 2, 2, 2], [0, 1, 2, 2, None, None, None, None], [None, None, None, None, None, None, None, None], [None, None, None, None, None, None, None, None]]\n",
            "From previous matches: [[0, 0, 0, 0, 0, 0, 0, 0], [0, 0, 1, 1, 1, 1, 1, 1], [0, 1, 1, 2, 2, 2, 2, 2], [0, 1, 2, 2, 2, None, None, None], [None, None, None, None, None, None, None, None], [None, None, None, None, None, None, None, None]]\n",
            "last letter match s[i-1]:{} s[j-1]:{} and L:{}  Q Q [[0, 0, 0, 0, 0, 0, 0, 0], [0, 0, 1, 1, 1, 1, 1, 1], [0, 1, 1, 2, 2, 2, 2, 2], [0, 1, 2, 2, 2, 3, None, None], [None, None, None, None, None, None, None, None], [None, None, None, None, None, None, None, None]]\n",
            "From previous matches: [[0, 0, 0, 0, 0, 0, 0, 0], [0, 0, 1, 1, 1, 1, 1, 1], [0, 1, 1, 2, 2, 2, 2, 2], [0, 1, 2, 2, 2, 3, 3, None], [None, None, None, None, None, None, None, None], [None, None, None, None, None, None, None, None]]\n",
            "From previous matches: [[0, 0, 0, 0, 0, 0, 0, 0], [0, 0, 1, 1, 1, 1, 1, 1], [0, 1, 1, 2, 2, 2, 2, 2], [0, 1, 2, 2, 2, 3, 3, 3], [None, None, None, None, None, None, None, None], [None, None, None, None, None, None, None, None]]\n",
            "i or j is zero:\n",
            "From previous matches: [[0, 0, 0, 0, 0, 0, 0, 0], [0, 0, 1, 1, 1, 1, 1, 1], [0, 1, 1, 2, 2, 2, 2, 2], [0, 1, 2, 2, 2, 3, 3, 3], [0, 1, None, None, None, None, None, None], [None, None, None, None, None, None, None, None]]\n",
            "From previous matches: [[0, 0, 0, 0, 0, 0, 0, 0], [0, 0, 1, 1, 1, 1, 1, 1], [0, 1, 1, 2, 2, 2, 2, 2], [0, 1, 2, 2, 2, 3, 3, 3], [0, 1, 2, None, None, None, None, None], [None, None, None, None, None, None, None, None]]\n",
            "From previous matches: [[0, 0, 0, 0, 0, 0, 0, 0], [0, 0, 1, 1, 1, 1, 1, 1], [0, 1, 1, 2, 2, 2, 2, 2], [0, 1, 2, 2, 2, 3, 3, 3], [0, 1, 2, 2, None, None, None, None], [None, None, None, None, None, None, None, None]]\n",
            "last letter match s[i-1]:{} s[j-1]:{} and L:{}  R R [[0, 0, 0, 0, 0, 0, 0, 0], [0, 0, 1, 1, 1, 1, 1, 1], [0, 1, 1, 2, 2, 2, 2, 2], [0, 1, 2, 2, 2, 3, 3, 3], [0, 1, 2, 2, 3, None, None, None], [None, None, None, None, None, None, None, None]]\n",
            "From previous matches: [[0, 0, 0, 0, 0, 0, 0, 0], [0, 0, 1, 1, 1, 1, 1, 1], [0, 1, 1, 2, 2, 2, 2, 2], [0, 1, 2, 2, 2, 3, 3, 3], [0, 1, 2, 2, 3, 3, None, None], [None, None, None, None, None, None, None, None]]\n",
            "last letter match s[i-1]:{} s[j-1]:{} and L:{}  R R [[0, 0, 0, 0, 0, 0, 0, 0], [0, 0, 1, 1, 1, 1, 1, 1], [0, 1, 1, 2, 2, 2, 2, 2], [0, 1, 2, 2, 2, 3, 3, 3], [0, 1, 2, 2, 3, 3, 4, None], [None, None, None, None, None, None, None, None]]\n",
            "From previous matches: [[0, 0, 0, 0, 0, 0, 0, 0], [0, 0, 1, 1, 1, 1, 1, 1], [0, 1, 1, 2, 2, 2, 2, 2], [0, 1, 2, 2, 2, 3, 3, 3], [0, 1, 2, 2, 3, 3, 4, 4], [None, None, None, None, None, None, None, None]]\n",
            "i or j is zero:\n",
            "From previous matches: [[0, 0, 0, 0, 0, 0, 0, 0], [0, 0, 1, 1, 1, 1, 1, 1], [0, 1, 1, 2, 2, 2, 2, 2], [0, 1, 2, 2, 2, 3, 3, 3], [0, 1, 2, 2, 3, 3, 4, 4], [0, 1, None, None, None, None, None, None]]\n",
            "From previous matches: [[0, 0, 0, 0, 0, 0, 0, 0], [0, 0, 1, 1, 1, 1, 1, 1], [0, 1, 1, 2, 2, 2, 2, 2], [0, 1, 2, 2, 2, 3, 3, 3], [0, 1, 2, 2, 3, 3, 4, 4], [0, 1, 2, None, None, None, None, None]]\n",
            "From previous matches: [[0, 0, 0, 0, 0, 0, 0, 0], [0, 0, 1, 1, 1, 1, 1, 1], [0, 1, 1, 2, 2, 2, 2, 2], [0, 1, 2, 2, 2, 3, 3, 3], [0, 1, 2, 2, 3, 3, 4, 4], [0, 1, 2, 2, None, None, None, None]]\n",
            "last letter match s[i-1]:{} s[j-1]:{} and L:{}  R R [[0, 0, 0, 0, 0, 0, 0, 0], [0, 0, 1, 1, 1, 1, 1, 1], [0, 1, 1, 2, 2, 2, 2, 2], [0, 1, 2, 2, 2, 3, 3, 3], [0, 1, 2, 2, 3, 3, 4, 4], [0, 1, 2, 2, 3, None, None, None]]\n",
            "From previous matches: [[0, 0, 0, 0, 0, 0, 0, 0], [0, 0, 1, 1, 1, 1, 1, 1], [0, 1, 1, 2, 2, 2, 2, 2], [0, 1, 2, 2, 2, 3, 3, 3], [0, 1, 2, 2, 3, 3, 4, 4], [0, 1, 2, 2, 3, 3, None, None]]\n",
            "last letter match s[i-1]:{} s[j-1]:{} and L:{}  R R [[0, 0, 0, 0, 0, 0, 0, 0], [0, 0, 1, 1, 1, 1, 1, 1], [0, 1, 1, 2, 2, 2, 2, 2], [0, 1, 2, 2, 2, 3, 3, 3], [0, 1, 2, 2, 3, 3, 4, 4], [0, 1, 2, 2, 3, 3, 4, None]]\n",
            "From previous matches: [[0, 0, 0, 0, 0, 0, 0, 0], [0, 0, 1, 1, 1, 1, 1, 1], [0, 1, 1, 2, 2, 2, 2, 2], [0, 1, 2, 2, 2, 3, 3, 3], [0, 1, 2, 2, 3, 3, 4, 4], [0, 1, 2, 2, 3, 3, 4, 4]]\n",
            "4\n"
          ],
          "name": "stdout"
        }
      ]
    },
    {
      "cell_type": "code",
      "metadata": {
        "id": "O4S3Im1aJcl5"
      },
      "source": [
        ""
      ],
      "execution_count": null,
      "outputs": []
    }
  ]
}