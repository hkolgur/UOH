{
  "nbformat": 4,
  "nbformat_minor": 0,
  "metadata": {
    "colab": {
      "name": "LInked_List.ipynb",
      "provenance": [],
      "collapsed_sections": [],
      "authorship_tag": "ABX9TyOHKGUxI0j5Snn9PTGWJ72p",
      "include_colab_link": true
    },
    "kernelspec": {
      "name": "python3",
      "display_name": "Python 3"
    }
  },
  "cells": [
    {
      "cell_type": "markdown",
      "metadata": {
        "id": "view-in-github",
        "colab_type": "text"
      },
      "source": [
        "<a href=\"https://colab.research.google.com/github/hkolgur/UOH/blob/main/LInked_List.ipynb\" target=\"_parent\"><img src=\"https://colab.research.google.com/assets/colab-badge.svg\" alt=\"Open In Colab\"/></a>"
      ]
    },
    {
      "cell_type": "markdown",
      "metadata": {
        "id": "tVbCwcRrLhFZ"
      },
      "source": [
        "# Linked List"
      ]
    },
    {
      "cell_type": "code",
      "metadata": {
        "colab": {
          "base_uri": "https://localhost:8080/"
        },
        "id": "mkMIojLJl5pD",
        "outputId": "89eaad0d-8ae1-42a0-8851-c17ad24dc1f8"
      },
      "source": [
        "from google.colab import drive \n",
        "drive.mount('/content/drive')"
      ],
      "execution_count": 1,
      "outputs": [
        {
          "output_type": "stream",
          "text": [
            "Mounted at /content/drive\n"
          ],
          "name": "stdout"
        }
      ]
    },
    {
      "cell_type": "code",
      "metadata": {
        "colab": {
          "base_uri": "https://localhost:8080/"
        },
        "id": "9eFhiswTmCLV",
        "outputId": "28fffeeb-5343-4ba9-b0a2-18d657794ee7"
      },
      "source": [
        "\n",
        "class Node:\n",
        "  def __init__(self,data):\n",
        "    \"\"\"Defining a Node element\"\"\" \n",
        "    self.data=data\n",
        "    self.next=None\n",
        "\n",
        "class SList:\n",
        "  def __init__(self):\n",
        "    \"\"\"Defining Single Linked List class to hold the head element\"\"\" \n",
        "    self.head=None\n",
        "  \n",
        "  def display_list(self):\n",
        "    \"\"\"Display List elements\"\"\" \n",
        "    printval=self.head\n",
        "    while printval != None :\n",
        "      print(printval.data)\n",
        "      printval=printval.next\n",
        "\n",
        "  def add_at_beginning(self,newdata):\n",
        "    \"\"\"Add a node at the beginning of the List\"\"\" \n",
        "    new=Node(newdata)\n",
        "    new.next=self.head\n",
        "    self.head=new\n",
        "  \n",
        "  def add_at_end(self,newdata):\n",
        "    \"\"\"Add a node at the end of the List\"\"\"  \n",
        "    new=Node(newdata)\n",
        "    if self.head == None:\n",
        "      self.head=new\n",
        "      return\n",
        "    printval=self.head\n",
        "    while (printval.next !=None ) :\n",
        "      printval=printval.next\n",
        "    printval.next=new\n",
        "\n",
        "  def del_node(self,delvalue):\n",
        "    \"\"\"Delete an node form the list if the passed value is present\"\"\"  \n",
        "    current=self.head\n",
        "    prev=None \n",
        "\n",
        "    try:\n",
        "      while ((current.data != delvalue ) and current !=None ):\n",
        "        prev=current\n",
        "        current=current.next\n",
        "    except:\n",
        "      print(\"Requested Item {} -is not present in the List\".format(delvalue))\n",
        "      return \n",
        "\n",
        "    if ( current.data==delvalue):\n",
        "      if (prev==None):\n",
        "        #Tryign to remove first element in the list \n",
        "        self.head=current.next\n",
        "      else:\n",
        "        prev.next=current.next\n",
        "      return\n",
        "    else:\n",
        "      print(\"Requested Item {} is not present in the List\".format(delvalue))\n",
        "\n",
        "list1=SList()\n",
        "n1=Node(\"First Element\")\n",
        "list1.head=n1\n",
        "n2=Node(\"Second Element\") \n",
        "n3=Node(\"Fourth Element\") \n",
        "\n",
        "# Link First Node of the linked list to second node\n",
        "n1.next=n2\n",
        "\n",
        "# Link Second Node of the linked list to third node\n",
        "n2.next=n3\n",
        "\n",
        "print(\"Displaying List:\")\n",
        "list1.display_list()\n",
        "\n",
        "addfirst=\"Zero Element\"\n",
        "print(\"\\nAdding  element:{} --at the Beginning of the list:\".format(addfirst))\n",
        "list1.add_at_beginning(addfirst)\n",
        "list1.display_list()\n",
        "\n",
        "addlast=\"Fifth Element\"\n",
        "print(\"\\nAdding element: {} --at the End of the list:\".format(addlast))\n",
        "list1.add_at_end(addlast)\n",
        "list1.display_list()\n",
        "\n",
        "#delvalue=\"Second Element\"\n",
        "delvalue=\"Fifth Element\"\n",
        "print(\"\\n Deleting element: {} --form the list:\".format(delvalue))\n",
        "list1.del_node(delvalue)\n",
        "list1.display_list()\n",
        "\n",
        "print(\"\\nDeleting all elements except first Node:\")\n",
        "list1.del_node(\"First Element\")\n",
        "list1.del_node(\"Second Element\")\n",
        "list1.del_node(\"Fourth Element\")\n",
        "list1.display_list()"
      ],
      "execution_count": 58,
      "outputs": [
        {
          "output_type": "stream",
          "text": [
            "Displaying List:\n",
            "First Element\n",
            "Second Element\n",
            "Fourth Element\n",
            "\n",
            "Adding  element:Zero Element --at the Beginning of the list:\n",
            "Zero Element\n",
            "First Element\n",
            "Second Element\n",
            "Fourth Element\n",
            "\n",
            "Adding element: Fifth Element --at the End of the list:\n",
            "Zero Element\n",
            "First Element\n",
            "Second Element\n",
            "Fourth Element\n",
            "Fifth Element\n",
            "\n",
            " Deleting element: Fifth Element --form the list:\n",
            "Zero Element\n",
            "First Element\n",
            "Second Element\n",
            "Fourth Element\n",
            "\n",
            "Deleting all elements except first Node:\n",
            "Zero Element\n"
          ],
          "name": "stdout"
        }
      ]
    },
    {
      "cell_type": "code",
      "metadata": {
        "id": "m-AOvNcALxk6"
      },
      "source": [
        ""
      ],
      "execution_count": null,
      "outputs": []
    }
  ]
}