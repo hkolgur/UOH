{
  "nbformat": 4,
  "nbformat_minor": 0,
  "metadata": {
    "colab": {
      "name": "stairs.ipynb",
      "provenance": [],
      "authorship_tag": "ABX9TyMZ8cBYAshfGVfLLVT+tlH1",
      "include_colab_link": true
    },
    "kernelspec": {
      "name": "python3",
      "display_name": "Python 3"
    }
  },
  "cells": [
    {
      "cell_type": "markdown",
      "metadata": {
        "id": "view-in-github",
        "colab_type": "text"
      },
      "source": [
        "<a href=\"https://colab.research.google.com/github/hkolgur/UOH/blob/main/stairs.ipynb\" target=\"_parent\"><img src=\"https://colab.research.google.com/assets/colab-badge.svg\" alt=\"Open In Colab\"/></a>"
      ]
    },
    {
      "cell_type": "code",
      "metadata": {
        "colab": {
          "base_uri": "https://localhost:8080/"
        },
        "id": "1SmPo7OZt7Ot",
        "outputId": "1e126acf-f6ef-446a-fb8c-3f9dbb98a5ce"
      },
      "source": [
        "from google.colab import drive \n",
        "drive.mount('/content/drive')"
      ],
      "execution_count": 1,
      "outputs": [
        {
          "output_type": "stream",
          "text": [
            "Mounted at /content/drive\n"
          ],
          "name": "stdout"
        }
      ]
    },
    {
      "cell_type": "markdown",
      "metadata": {
        "id": "qqXU9MtIgOvj"
      },
      "source": [
        "## Problem:\n",
        "###You are climbing a staircase. It takes \"n\" steps to reach the top.Each time you can either climb 1 or 2 steps. In how many distinct ways can you climb to the top?"
      ]
    },
    {
      "cell_type": "markdown",
      "metadata": {
        "id": "Xu5l9Fdbf_Zp"
      },
      "source": [
        "## Using Recursion"
      ]
    },
    {
      "cell_type": "code",
      "metadata": {
        "colab": {
          "base_uri": "https://localhost:8080/"
        },
        "id": "FLqioYDAuEyg",
        "outputId": "8c634b58-8b14-49f8-91b7-6c0e5c2d4e06"
      },
      "source": [
        "\n",
        "\n",
        "def stairs(n):\n",
        "  if n<= 1 :\n",
        "    return 1\n",
        "  else:\n",
        "    return (stairs(n-2) + stairs(n-1))\n",
        "  \n",
        "\n",
        "# Accept a number form user\n",
        "n=int(input(\"Enter a number between 1 and 30:\"))\n",
        "if ( n <1 or n >30 ):\n",
        "  quit()\n",
        "no_ways=stairs(n)\n",
        "print(no_ways)\n"
      ],
      "execution_count": 13,
      "outputs": [
        {
          "output_type": "stream",
          "text": [
            "Enter a number between 1 and 30:5\n",
            "8\n"
          ],
          "name": "stdout"
        }
      ]
    },
    {
      "cell_type": "markdown",
      "metadata": {
        "id": "Wion4RbNf71Z"
      },
      "source": [
        "## USing Dynamic Programming"
      ]
    },
    {
      "cell_type": "code",
      "metadata": {
        "colab": {
          "base_uri": "https://localhost:8080/"
        },
        "id": "4PXbvTqIc5nm",
        "outputId": "a657c4da-64b4-4e85-b606-a9f0836c6fdc"
      },
      "source": [
        "def stairs(n):\n",
        "  ways=[]\n",
        "  ways.append(1)\n",
        "  ways.append(2)\n",
        "  #print(ways)\n",
        "  for i in range(2,n):\n",
        "    ways.append(ways[i-2] + ways[i-1])\n",
        "  #print(ways)\n",
        "  return ways[n-1] \n",
        "# Accept a number form user\n",
        "n=int(input(\"Enter a number between 1 and 30:\"))\n",
        "if ( n <1 or n >30 ):\n",
        "  quit()\n",
        "no_ways=stairs(n)\n",
        "print(no_ways)\n"
      ],
      "execution_count": 29,
      "outputs": [
        {
          "output_type": "stream",
          "text": [
            "Enter a number between 1 and 30:10\n",
            "89\n"
          ],
          "name": "stdout"
        }
      ]
    },
    {
      "cell_type": "code",
      "metadata": {
        "id": "aM4NlmqzvMY1"
      },
      "source": [
        "2\n"
      ],
      "execution_count": null,
      "outputs": []
    }
  ]
}