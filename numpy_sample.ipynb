{
  "nbformat": 4,
  "nbformat_minor": 0,
  "metadata": {
    "colab": {
      "name": "numpy_sample.ipynb",
      "provenance": [],
      "authorship_tag": "ABX9TyOERRXLLmV2FufNMyZwLEa1",
      "include_colab_link": true
    },
    "kernelspec": {
      "name": "python3",
      "display_name": "Python 3"
    }
  },
  "cells": [
    {
      "cell_type": "markdown",
      "metadata": {
        "id": "view-in-github",
        "colab_type": "text"
      },
      "source": [
        "<a href=\"https://colab.research.google.com/github/hkolgur/UOH/blob/main/numpy_sample.ipynb\" target=\"_parent\"><img src=\"https://colab.research.google.com/assets/colab-badge.svg\" alt=\"Open In Colab\"/></a>"
      ]
    },
    {
      "cell_type": "markdown",
      "metadata": {
        "id": "uQMRdakG0A1u"
      },
      "source": [
        "## Reshape an Numpy array\n",
        "#### You are given a space separated list of nine integers. Your task is to convert this list into a 3 x 3  NumPy array.\n",
        "\n",
        "Input Format:\n",
        "\n",
        "A single line of input containing  space separated integers.\n",
        "\n",
        "Output Format\n",
        "\n",
        "Print the 3 x 3  NumPy array."
      ]
    },
    {
      "cell_type": "code",
      "metadata": {
        "colab": {
          "base_uri": "https://localhost:8080/"
        },
        "id": "8hCWXx7b2RG8",
        "outputId": "2e9949a0-8300-45d4-b8fc-25daaebcaa0b"
      },
      "source": [
        "arr_np=(np.array([int(x) for x in (input()).split(' ')])) # accept string of int and convert them to numpy array\n",
        "arr_np.shape=(3,3)\n",
        "print(arr_np)"
      ],
      "execution_count": 21,
      "outputs": [
        {
          "output_type": "stream",
          "text": [
            "1 2 3 4 5 6 7 8 9\n",
            "[[1 2 3]\n",
            " [4 5 6]\n",
            " [7 8 9]]\n"
          ],
          "name": "stdout"
        }
      ]
    },
    {
      "cell_type": "markdown",
      "metadata": {
        "id": "e_2zEhKX_mTo"
      },
      "source": [
        "#### You are given a 2-D array with dimensions N x M \n",
        "Your task is to perform the min function over axis  and then find the max of that.\n",
        "\n",
        "Input Format\n",
        "\n",
        "The first line of input contains the space separated values of  and .\n",
        "The next  lines contains  space separated integers.\n",
        "\n",
        "Output Format\n",
        "\n",
        "Compute the min along axis  and then print the max of that result."
      ]
    },
    {
      "cell_type": "code",
      "metadata": {
        "colab": {
          "base_uri": "https://localhost:8080/"
        },
        "id": "5qSiY73_ytoS",
        "outputId": "795fb19c-c7bc-440e-9451-4f9a51d883f9"
      },
      "source": [
        "import numpy as np\n",
        "arr_shape=([int(x) for x in (input()).split(' ')])\n",
        "nums=np.array([])\n",
        "for i in range (0,arr_shape[0]):\n",
        "  arr_ele=np.array([int(y) for y in (input()).split(' ')])\n",
        "  if len(arr_ele)!=arr_shape[1]:\n",
        "    print(\"Bug\")\n",
        "    break\n",
        "  else:\n",
        "    nums=np.append(nums,arr_ele)\n",
        "    \n",
        "nums.shape=(arr_shape[0],arr_shape[1])\n",
        "print(int((nums.min(axis=1)).max()))\n",
        "\n"
      ],
      "execution_count": 47,
      "outputs": [
        {
          "output_type": "stream",
          "text": [
            "2 2\n",
            "5 6\n",
            "5 9\n",
            "5\n"
          ],
          "name": "stdout"
        }
      ]
    },
    {
      "cell_type": "markdown",
      "metadata": {
        "id": "LE3JhPRiR0dP"
      },
      "source": [
        "### You are given two integer arrays of size N x P   and M x P  (M & N are rows, and P is the column). Your task is to concatenate the arrays along axis=0.\n",
        "\n",
        "Input Format\n",
        "\n",
        "The first line contains space separated integers N,M and P.\n",
        "The next N lines contains the space separated elements of the P columns.\n",
        "After that, the next M lines contains the space separated elements of the  P columns.\n",
        "\n",
        "Output Format\n",
        "\n",
        "Print the concatenated array of size (N + M) x P X.\n",
        "\n"
      ]
    },
    {
      "cell_type": "code",
      "metadata": {
        "colab": {
          "base_uri": "https://localhost:8080/"
        },
        "id": "K-Eg6pqQ5Etw",
        "outputId": "3e37fab2-0a1f-4aed-edad-f023bdc9b7bc"
      },
      "source": [
        "arr_shape=([int(x) for x in (input()).split(' ')])\n",
        "arr1=np.array([],dtype=int)\n",
        "arr2=np.array([],dtype=int)\n",
        "for i in range (0,arr_shape[0]):\n",
        "  arr_ele=np.array([int(y) for y in (input()).split(' ')])\n",
        "  if len(arr_ele)!=arr_shape[2]:\n",
        "    break\n",
        "  else:\n",
        "    arr1=np.append(arr1,arr_ele)\n",
        "\n",
        "for j in range (0,arr_shape[1]):\n",
        "  arr_ele=np.array([int(y) for y in (input()).split(' ')])\n",
        "  if len(arr_ele)!=arr_shape[2]:\n",
        "     break\n",
        "  else:\n",
        "     arr2=np.append(arr2,arr_ele)\n",
        "\n",
        "arr1.shape=(arr_shape[0],arr_shape[2])\n",
        "arr2.shape=(arr_shape[1],arr_shape[2])\n",
        "print(np.concatenate((arr1,arr2),axis=0))"
      ],
      "execution_count": 71,
      "outputs": [
        {
          "output_type": "stream",
          "text": [
            "4 3 2\n",
            "1 2\n",
            "1 2\n",
            "1 2\n",
            "1 2\n",
            "3 4\n",
            "3 4\n",
            "3 4\n",
            "[[1 2]\n",
            " [1 2]\n",
            " [1 2]\n",
            " [1 2]\n",
            " [3 4]\n",
            " [3 4]\n",
            " [3 4]]\n"
          ],
          "name": "stdout"
        }
      ]
    },
    {
      "cell_type": "markdown",
      "metadata": {
        "id": "LLwcmEMVX5k4"
      },
      "source": [
        "### Your task is to print an array of size N x M with its main diagonal elements as 1's and 0's everywhere else.\n",
        "\n",
        "Input Format\n",
        "\n",
        "A single line containing the space separated values of N and M.\n",
        "N denotes the rows.\n",
        "M denotes the columns.\n",
        "\n"
      ]
    },
    {
      "cell_type": "code",
      "metadata": {
        "colab": {
          "base_uri": "https://localhost:8080/"
        },
        "id": "Qy8Zvm6-RVE0",
        "outputId": "cd283226-c00b-4a5c-dcdb-145f1d79b943"
      },
      "source": [
        "\n",
        "np.set_printoptions(legacy='1.13')\n",
        "arr_shape=([int(x) for x in (input()).split(' ')])\n",
        "print(np.eye(arr_shape[0],arr_shape[1]))"
      ],
      "execution_count": 76,
      "outputs": [
        {
          "output_type": "stream",
          "text": [
            "4 3\n",
            "[[ 1.  0.  0.]\n",
            " [ 0.  1.  0.]\n",
            " [ 0.  0.  1.]\n",
            " [ 0.  0.  0.]]\n"
          ],
          "name": "stdout"
        }
      ]
    },
    {
      "cell_type": "markdown",
      "metadata": {
        "id": "qYzM06DVy-2p"
      },
      "source": [
        "## Govem two arrays A and B. Both have dimensions of N x N. Compute their matrix product.\n",
        "\n",
        "Input Format\n",
        "\n",
        "The first line contains the integer N.\n",
        "The next  lines contains N space separated integers of array A.\n",
        "The following N lines contains  space separated integers of array B.\n",
        "\n",
        "Output Format\n",
        "\n",
        "Print the matrix multiplication of A and B."
      ]
    },
    {
      "cell_type": "code",
      "metadata": {
        "colab": {
          "base_uri": "https://localhost:8080/"
        },
        "id": "6OCQFMaeWiWo",
        "outputId": "e23ed79a-552d-483b-9886-060d96c5e958"
      },
      "source": [
        "import numpy as np\n",
        "arr_shape=int(input())\n",
        "arr1=np.array([],dtype=int)\n",
        "arr2=np.array([],dtype=int)\n",
        "for i in range (0,arr_shape):\n",
        "  arr_ele=np.array([int(y) for y in (input()).split(' ')])\n",
        "  if len(arr_ele)!=arr_shape:\n",
        "    break\n",
        "  else:\n",
        "    arr1=np.append(arr1,arr_ele)\n",
        "\n",
        "for j in range (0,arr_shape):\n",
        "  arr_ele=np.array([int(y) for y in (input()).split(' ')])\n",
        "  if len(arr_ele)!=arr_shape:\n",
        "     break\n",
        "  else:\n",
        "     arr2=np.append(arr2,arr_ele)\n",
        "\n",
        "arr1.shape=(arr_shape,arr_shape)\n",
        "arr2.shape=(arr_shape,arr_shape)\n",
        "\n",
        "prod=np.array([],dtype=int)\n",
        "for i in range(0,arr_shape):\n",
        "  for j in range(0,arr_shape):\n",
        "    prod=np.append(prod,np.dot(arr1[i],arr2[:,j]))\n",
        "    #prod.append(np.dot(arr1[i],arr2[:,j]))\n",
        "prod.shape=(arr_shape,arr_shape)\n",
        "print(prod)\n"
      ],
      "execution_count": 34,
      "outputs": [
        {
          "output_type": "stream",
          "text": [
            "2\n",
            "1 2\n",
            "3 4\n",
            "1 2\n",
            "3 4\n",
            "[[ 7 10]\n",
            " [15 22]]\n"
          ],
          "name": "stdout"
        }
      ]
    },
    {
      "cell_type": "code",
      "metadata": {
        "colab": {
          "base_uri": "https://localhost:8080/"
        },
        "id": "c40OA8MBsUHN",
        "outputId": "03864532-2fce-4bf8-ad7e-1b14e881db7a"
      },
      "source": [
        ""
      ],
      "execution_count": 33,
      "outputs": [
        {
          "output_type": "stream",
          "text": [
            "[[ 7 10]\n",
            " [15 22]]\n"
          ],
          "name": "stdout"
        }
      ]
    },
    {
      "cell_type": "code",
      "metadata": {
        "id": "8pHKCuxuunCW"
      },
      "source": [
        ""
      ],
      "execution_count": null,
      "outputs": []
    }
  ]
}