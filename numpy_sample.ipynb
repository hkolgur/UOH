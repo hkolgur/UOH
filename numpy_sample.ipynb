{
  "nbformat": 4,
  "nbformat_minor": 0,
  "metadata": {
    "colab": {
      "name": "numpy_sample.ipynb",
      "provenance": [],
      "include_colab_link": true
    },
    "kernelspec": {
      "name": "python3",
      "display_name": "Python 3"
    }
  },
  "cells": [
    {
      "cell_type": "markdown",
      "metadata": {
        "id": "view-in-github",
        "colab_type": "text"
      },
      "source": [
        "<a href=\"https://colab.research.google.com/github/hkolgur/UOH/blob/main/numpy_sample.ipynb\" target=\"_parent\"><img src=\"https://colab.research.google.com/assets/colab-badge.svg\" alt=\"Open In Colab\"/></a>"
      ]
    },
    {
      "cell_type": "markdown",
      "metadata": {
        "id": "uQMRdakG0A1u"
      },
      "source": [
        "## Reshape an Numpy array\n",
        "#### You are given a space separated list of nine integers. Your task is to convert this list into a 3 x 3  NumPy array.\n",
        "\n",
        "Input Format:\n",
        "\n",
        "A single line of input containing  space separated integers.\n",
        "\n",
        "Output Format\n",
        "\n",
        "Print the 3 x 3  NumPy array."
      ]
    },
    {
      "cell_type": "code",
      "metadata": {
        "colab": {
          "base_uri": "https://localhost:8080/"
        },
        "id": "8hCWXx7b2RG8",
        "outputId": "2e9949a0-8300-45d4-b8fc-25daaebcaa0b"
      },
      "source": [
        "arr_np=(np.array([int(x) for x in (input()).split(' ')])) # accept string of int and convert them to numpy array\n",
        "arr_np.shape=(3,3)\n",
        "print(arr_np)"
      ],
      "execution_count": null,
      "outputs": [
        {
          "output_type": "stream",
          "text": [
            "1 2 3 4 5 6 7 8 9\n",
            "[[1 2 3]\n",
            " [4 5 6]\n",
            " [7 8 9]]\n"
          ],
          "name": "stdout"
        }
      ]
    },
    {
      "cell_type": "markdown",
      "metadata": {
        "id": "e_2zEhKX_mTo"
      },
      "source": [
        "#### You are given a 2-D array with dimensions N x M \n",
        "Your task is to perform the min function over axis  and then find the max of that.\n",
        "\n",
        "Input Format\n",
        "\n",
        "The first line of input contains the space separated values of  and .\n",
        "The next  lines contains  space separated integers.\n",
        "\n",
        "Output Format\n",
        "\n",
        "Compute the min along axis 1 and then print the max of that result."
      ]
    },
    {
      "cell_type": "code",
      "metadata": {
        "colab": {
          "base_uri": "https://localhost:8080/"
        },
        "id": "5qSiY73_ytoS",
        "outputId": "795fb19c-c7bc-440e-9451-4f9a51d883f9"
      },
      "source": [
        "import numpy as np\n",
        "arr_shape=([int(x) for x in (input()).split(' ')])\n",
        "nums=np.array([])\n",
        "for i in range (0,arr_shape[0]):\n",
        "  arr_ele=np.array([int(y) for y in (input()).split(' ')])\n",
        "  if len(arr_ele)!=arr_shape[1]:\n",
        "    print(\"Bug\")\n",
        "    break\n",
        "  else:\n",
        "    nums=np.append(nums,arr_ele)\n",
        "    \n",
        "nums.shape=(arr_shape[0],arr_shape[1])\n",
        "print(int((nums.min(axis=1)).max()))\n",
        "\n"
      ],
      "execution_count": null,
      "outputs": [
        {
          "output_type": "stream",
          "text": [
            "2 2\n",
            "5 6\n",
            "5 9\n",
            "5\n"
          ],
          "name": "stdout"
        }
      ]
    },
    {
      "cell_type": "markdown",
      "metadata": {
        "id": "LE3JhPRiR0dP"
      },
      "source": [
        "### You are given two integer arrays of size N x P   and M x P  (M & N are rows, and P is the column). Your task is to concatenate the arrays along axis=0.\n",
        "\n",
        "Input Format\n",
        "\n",
        "The first line contains space separated integers N,M and P.\n",
        "The next N lines contains the space separated elements of the P columns.\n",
        "After that, the next M lines contains the space separated elements of the  P columns.\n",
        "\n",
        "Output Format\n",
        "\n",
        "Print the concatenated array of size (N + M) x P X.\n",
        "\n"
      ]
    },
    {
      "cell_type": "code",
      "metadata": {
        "colab": {
          "base_uri": "https://localhost:8080/"
        },
        "id": "K-Eg6pqQ5Etw",
        "outputId": "3e37fab2-0a1f-4aed-edad-f023bdc9b7bc"
      },
      "source": [
        "arr_shape=([int(x) for x in (input()).split(' ')])\n",
        "arr1=np.array([],dtype=int)\n",
        "arr2=np.array([],dtype=int)\n",
        "for i in range (0,arr_shape[0]):\n",
        "  arr_ele=np.array([int(y) for y in (input()).split(' ')])\n",
        "  if len(arr_ele)!=arr_shape[2]:\n",
        "    break\n",
        "  else:\n",
        "    arr1=np.append(arr1,arr_ele)\n",
        "\n",
        "for j in range (0,arr_shape[1]):\n",
        "  arr_ele=np.array([int(y) for y in (input()).split(' ')])\n",
        "  if len(arr_ele)!=arr_shape[2]:\n",
        "     break\n",
        "  else:\n",
        "     arr2=np.append(arr2,arr_ele)\n",
        "\n",
        "arr1.shape=(arr_shape[0],arr_shape[2])\n",
        "arr2.shape=(arr_shape[1],arr_shape[2])\n",
        "print(np.concatenate((arr1,arr2),axis=0))"
      ],
      "execution_count": null,
      "outputs": [
        {
          "output_type": "stream",
          "text": [
            "4 3 2\n",
            "1 2\n",
            "1 2\n",
            "1 2\n",
            "1 2\n",
            "3 4\n",
            "3 4\n",
            "3 4\n",
            "[[1 2]\n",
            " [1 2]\n",
            " [1 2]\n",
            " [1 2]\n",
            " [3 4]\n",
            " [3 4]\n",
            " [3 4]]\n"
          ],
          "name": "stdout"
        }
      ]
    },
    {
      "cell_type": "markdown",
      "metadata": {
        "id": "LLwcmEMVX5k4"
      },
      "source": [
        "### Your task is to print an array of size N x M with its main diagonal elements as 1's and 0's everywhere else.\n",
        "\n",
        "Input Format\n",
        "\n",
        "A single line containing the space separated values of N and M.\n",
        "N denotes the rows.\n",
        "M denotes the columns.\n",
        "\n"
      ]
    },
    {
      "cell_type": "code",
      "metadata": {
        "colab": {
          "base_uri": "https://localhost:8080/"
        },
        "id": "Qy8Zvm6-RVE0",
        "outputId": "cd283226-c00b-4a5c-dcdb-145f1d79b943"
      },
      "source": [
        "\n",
        "np.set_printoptions(legacy='1.13')\n",
        "arr_shape=([int(x) for x in (input()).split(' ')])\n",
        "print(np.eye(arr_shape[0],arr_shape[1]))"
      ],
      "execution_count": null,
      "outputs": [
        {
          "output_type": "stream",
          "text": [
            "4 3\n",
            "[[ 1.  0.  0.]\n",
            " [ 0.  1.  0.]\n",
            " [ 0.  0.  1.]\n",
            " [ 0.  0.  0.]]\n"
          ],
          "name": "stdout"
        }
      ]
    },
    {
      "cell_type": "markdown",
      "metadata": {
        "id": "qYzM06DVy-2p"
      },
      "source": [
        "## Given two arrays A and B. Both have dimensions of N x N. Compute their matrix product.\n",
        "\n",
        "Input Format\n",
        "\n",
        "The first line contains the integer N.\n",
        "The next  lines contains N space separated integers of array A.\n",
        "The following N lines contains  space separated integers of array B.\n",
        "\n",
        "Output Format\n",
        "\n",
        "Print the matrix multiplication of A and B."
      ]
    },
    {
      "cell_type": "code",
      "metadata": {
        "colab": {
          "base_uri": "https://localhost:8080/"
        },
        "id": "6OCQFMaeWiWo",
        "outputId": "e23ed79a-552d-483b-9886-060d96c5e958"
      },
      "source": [
        "import numpy as np\n",
        "arr_shape=int(input())\n",
        "arr1=np.array([],dtype=int)\n",
        "arr2=np.array([],dtype=int)\n",
        "for i in range (0,arr_shape):\n",
        "  arr_ele=np.array([int(y) for y in (input()).split(' ')])\n",
        "  if len(arr_ele)!=arr_shape:\n",
        "    break\n",
        "  else:\n",
        "    arr1=np.append(arr1,arr_ele)\n",
        "\n",
        "for j in range (0,arr_shape):\n",
        "  arr_ele=np.array([int(y) for y in (input()).split(' ')])\n",
        "  if len(arr_ele)!=arr_shape:\n",
        "     break\n",
        "  else:\n",
        "     arr2=np.append(arr2,arr_ele)\n",
        "\n",
        "arr1.shape=(arr_shape,arr_shape)\n",
        "arr2.shape=(arr_shape,arr_shape)\n",
        "\n",
        "prod=np.array([],dtype=int)\n",
        "for i in range(0,arr_shape):\n",
        "  for j in range(0,arr_shape):\n",
        "    prod=np.append(prod,np.dot(arr1[i],arr2[:,j]))\n",
        "    #prod.append(np.dot(arr1[i],arr2[:,j]))\n",
        "prod.shape=(arr_shape,arr_shape)\n",
        "print(prod)\n"
      ],
      "execution_count": null,
      "outputs": [
        {
          "output_type": "stream",
          "text": [
            "2\n",
            "1 2\n",
            "3 4\n",
            "1 2\n",
            "3 4\n",
            "[[ 7 10]\n",
            " [15 22]]\n"
          ],
          "name": "stdout"
        }
      ]
    },
    {
      "cell_type": "code",
      "metadata": {
        "colab": {
          "base_uri": "https://localhost:8080/"
        },
        "id": "c40OA8MBsUHN",
        "outputId": "03864532-2fce-4bf8-ad7e-1b14e881db7a"
      },
      "source": [
        ""
      ],
      "execution_count": null,
      "outputs": [
        {
          "output_type": "stream",
          "text": [
            "[[ 7 10]\n",
            " [15 22]]\n"
          ],
          "name": "stdout"
        }
      ]
    },
    {
      "cell_type": "markdown",
      "metadata": {
        "id": "UIIt2SD8yaZH"
      },
      "source": [
        "### Samples for reshape with row ,colum major order"
      ]
    },
    {
      "cell_type": "code",
      "metadata": {
        "id": "8pHKCuxuunCW",
        "outputId": "3e781a2f-d3d1-44f3-d0a4-4190649ba67b",
        "colab": {
          "base_uri": "https://localhost:8080/"
        }
      },
      "source": [
        "import numpy as np\n",
        "A1=np.random.rand(4,5)\n",
        "print(A1)\n",
        "print(np.reshape(A1,20,'F')) #column major order \n",
        "print(np.reshape(A1,(10,-1),'C')) #row major Order and -1 tells find the right combination of cols to match 10 rows \n",
        "print(np.reshape(A1,(-1,4),'C'))"
      ],
      "execution_count": 16,
      "outputs": [
        {
          "output_type": "stream",
          "text": [
            "[[0.09632491 0.23437318 0.20916619 0.42238196 0.30834031]\n",
            " [0.97132382 0.54364912 0.91814548 0.20957888 0.77402023]\n",
            " [0.44176645 0.65003268 0.48506922 0.65836844 0.87822264]\n",
            " [0.65690055 0.03909743 0.18879068 0.15333778 0.18728533]]\n",
            "[0.09632491 0.97132382 0.44176645 0.65690055 0.23437318 0.54364912\n",
            " 0.65003268 0.03909743 0.20916619 0.91814548 0.48506922 0.18879068\n",
            " 0.42238196 0.20957888 0.65836844 0.15333778 0.30834031 0.77402023\n",
            " 0.87822264 0.18728533]\n",
            "[[0.09632491 0.23437318]\n",
            " [0.20916619 0.42238196]\n",
            " [0.30834031 0.97132382]\n",
            " [0.54364912 0.91814548]\n",
            " [0.20957888 0.77402023]\n",
            " [0.44176645 0.65003268]\n",
            " [0.48506922 0.65836844]\n",
            " [0.87822264 0.65690055]\n",
            " [0.03909743 0.18879068]\n",
            " [0.15333778 0.18728533]]\n",
            "[[0.09632491 0.23437318 0.20916619 0.42238196]\n",
            " [0.30834031 0.97132382 0.54364912 0.91814548]\n",
            " [0.20957888 0.77402023 0.44176645 0.65003268]\n",
            " [0.48506922 0.65836844 0.87822264 0.65690055]\n",
            " [0.03909743 0.18879068 0.15333778 0.18728533]]\n"
          ],
          "name": "stdout"
        }
      ]
    },
    {
      "cell_type": "markdown",
      "metadata": {
        "id": "_RX8RBcv2AQl"
      },
      "source": [
        "### hstack and vstack samples"
      ]
    },
    {
      "cell_type": "code",
      "metadata": {
        "id": "WsEa_kKtyuVV",
        "outputId": "1b3388a1-5a3a-4492-f99f-74d3ebe8a879",
        "colab": {
          "base_uri": "https://localhost:8080/"
        }
      },
      "source": [
        "ar1=np.random.rand(5,4)\n",
        "ar2=np.random.rand(5,2)\n",
        "ar3=np.hstack((ar1,ar2)). #need to pass as a tuple \n",
        "print(ar3)"
      ],
      "execution_count": 18,
      "outputs": [
        {
          "output_type": "stream",
          "text": [
            "[[0.8431019  0.04615418 0.58128942 0.77128768 0.63757809 0.26144811]\n",
            " [0.32831315 0.99434641 0.04626395 0.43379594 0.43603995 0.22106864]\n",
            " [0.38271254 0.14322281 0.21515411 0.75425861 0.17632618 0.15462471]\n",
            " [0.16388181 0.41381496 0.16183516 0.19029679 0.63986334 0.94162193]\n",
            " [0.49366367 0.68952875 0.08632532 0.55785811 0.04786715 0.35546589]]\n"
          ],
          "name": "stdout"
        }
      ]
    },
    {
      "cell_type": "code",
      "metadata": {
        "id": "DL8STFEY2Tbp",
        "outputId": "576a0541-359e-4fc3-f6b8-0eb4d76dcec0",
        "colab": {
          "base_uri": "https://localhost:8080/"
        }
      },
      "source": [
        "ar4=np.random.rand(2,3)\n",
        "ar5=np.random.rand(4,3)\n",
        "ar6=np.vstack((ar4,ar5)) #need to pass as a tuple \n",
        "print(ar6)"
      ],
      "execution_count": 19,
      "outputs": [
        {
          "output_type": "stream",
          "text": [
            "[[0.27403359 0.83421101 0.69169139]\n",
            " [0.0154781  0.54279037 0.96378672]\n",
            " [0.98486244 0.43411363 0.70300367]\n",
            " [0.17633782 0.71804131 0.42976871]\n",
            " [0.70663936 0.2216331  0.32267373]\n",
            " [0.0118082  0.84501857 0.03246997]]\n"
          ],
          "name": "stdout"
        }
      ]
    },
    {
      "cell_type": "code",
      "metadata": {
        "id": "8bbJE_No3cNS"
      },
      "source": [
        "ar7=np.random.rand(2,3)\n",
        "ar8=np.random.rand(4,3)\n",
        "ar9=np.vstack((ar7,ar8)) #need to pass as a tuple \n",
        "print(ar6)"
      ],
      "execution_count": null,
      "outputs": []
    },
    {
      "cell_type": "code",
      "metadata": {
        "id": "L7mdi93ZPgs5",
        "outputId": "c2abba35-571b-4c82-bf92-cf9d7d4bdd0b",
        "colab": {
          "base_uri": "https://localhost:8080/"
        }
      },
      "source": [
        "arr1=np.random.rand(3,4,2)\n",
        "arr2=np.random.rand(3,5,2) # (3,5,1) does not work\n",
        "print(np.hstack((arr1,arr2)))"
      ],
      "execution_count": 24,
      "outputs": [
        {
          "output_type": "stream",
          "text": [
            "[[[0.5423802  0.57386918]\n",
            "  [0.73031658 0.24521932]\n",
            "  [0.9873554  0.96030483]\n",
            "  [0.50440769 0.37156437]\n",
            "  [0.43833252 0.63321151]\n",
            "  [0.55653523 0.4687567 ]\n",
            "  [0.71445128 0.01849895]\n",
            "  [0.57571726 0.90422235]\n",
            "  [0.54881708 0.27069078]]\n",
            "\n",
            " [[0.97857355 0.78671336]\n",
            "  [0.83145335 0.88962003]\n",
            "  [0.96098978 0.15216662]\n",
            "  [0.07676526 0.66278915]\n",
            "  [0.83663411 0.27063906]\n",
            "  [0.51188051 0.18550728]\n",
            "  [0.58692007 0.35522184]\n",
            "  [0.48259763 0.41715497]\n",
            "  [0.62228719 0.68071963]]\n",
            "\n",
            " [[0.86422966 0.82717076]\n",
            "  [0.34276304 0.62757747]\n",
            "  [0.90328366 0.42700989]\n",
            "  [0.34197479 0.16066288]\n",
            "  [0.74506805 0.99300456]\n",
            "  [0.71802621 0.23294001]\n",
            "  [0.27252901 0.22406397]\n",
            "  [0.31354497 0.21980347]\n",
            "  [0.36157888 0.2031893 ]]]\n"
          ],
          "name": "stdout"
        }
      ]
    },
    {
      "cell_type": "markdown",
      "metadata": {
        "id": "vAilMF2nRded"
      },
      "source": [
        "### Using concatenate "
      ]
    },
    {
      "cell_type": "code",
      "metadata": {
        "id": "d0S6e02MPk77",
        "outputId": "f91b125f-ce67-4532-f3d1-46612171ec8d",
        "colab": {
          "base_uri": "https://localhost:8080/"
        }
      },
      "source": [
        "ar1=np.random.rand(5,4)\n",
        "ar2=np.random.rand(5,2)\n",
        "ar3=np.concatenate((ar1,ar2),axis=1)  #need to pass as a tuple \n",
        "print(ar3)"
      ],
      "execution_count": 26,
      "outputs": [
        {
          "output_type": "stream",
          "text": [
            "[[0.86462134 0.35513845 0.63562545 0.47188479 0.0655617  0.53777879]\n",
            " [0.87871765 0.45794376 0.10616504 0.20460695 0.04762233 0.22976181]\n",
            " [0.98482817 0.41102726 0.1961948  0.03332936 0.41578131 0.856352  ]\n",
            " [0.05297695 0.79886349 0.06026274 0.36272293 0.67244133 0.16746051]\n",
            " [0.00426684 0.75124554 0.61545122 0.53568488 0.47766359 0.31180879]]\n"
          ],
          "name": "stdout"
        }
      ]
    },
    {
      "cell_type": "code",
      "metadata": {
        "id": "l4XP36WFR8qn",
        "outputId": "bddf2a87-7495-46e1-beae-648d7c737bd3",
        "colab": {
          "base_uri": "https://localhost:8080/"
        }
      },
      "source": [
        "ar1=np.random.rand(2,3)\n",
        "ar2=np.random.rand(5,3)\n",
        "ar3=np.concatenate((ar1,ar2),axis=0)  #need to pass as a tuple \n",
        "print(ar3)"
      ],
      "execution_count": 27,
      "outputs": [
        {
          "output_type": "stream",
          "text": [
            "[[0.88378682 0.03500564 0.26261877]\n",
            " [0.87178572 0.32258341 0.36824749]\n",
            " [0.19711905 0.68236751 0.52896391]\n",
            " [0.21550544 0.54330523 0.63914296]\n",
            " [0.8979677  0.88271843 0.99500719]\n",
            " [0.18493142 0.94911072 0.10284698]\n",
            " [0.47506062 0.1048698  0.21033438]]\n"
          ],
          "name": "stdout"
        }
      ]
    },
    {
      "cell_type": "code",
      "metadata": {
        "id": "K92nVhloSG5J"
      },
      "source": [
        ""
      ],
      "execution_count": null,
      "outputs": []
    }
  ]
}