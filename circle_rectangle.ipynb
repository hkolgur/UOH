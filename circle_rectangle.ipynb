{
  "nbformat": 4,
  "nbformat_minor": 0,
  "metadata": {
    "colab": {
      "name": "circle_rectangle.ipynb",
      "provenance": [],
      "authorship_tag": "ABX9TyNESs7OiYe/nHh0hLe30Ajw",
      "include_colab_link": true
    },
    "kernelspec": {
      "name": "python3",
      "display_name": "Python 3"
    },
    "language_info": {
      "name": "python"
    }
  },
  "cells": [
    {
      "cell_type": "markdown",
      "metadata": {
        "id": "view-in-github",
        "colab_type": "text"
      },
      "source": [
        "<a href=\"https://colab.research.google.com/github/hkolgur/UOH/blob/main/circle_rectangle.ipynb\" target=\"_parent\"><img src=\"https://colab.research.google.com/assets/colab-badge.svg\" alt=\"Open In Colab\"/></a>"
      ]
    },
    {
      "cell_type": "markdown",
      "metadata": {
        "id": "551idgMwqj-F"
      },
      "source": [
        "### Check if a point lies in/on/out of Circle"
      ]
    },
    {
      "cell_type": "code",
      "metadata": {
        "colab": {
          "base_uri": "https://localhost:8080/"
        },
        "id": "jyi420AIncx3",
        "outputId": "fceac9b1-4e12-4567-f678-eb07d1615a7b"
      },
      "source": [
        "import math\n",
        "def distance_btwn_points(c1,c2,x1,y1):\n",
        "  return (math.sqrt((x1-c1)**2+(y1-c2)**2))\n",
        "\n",
        "\n",
        "r,c1,c2=map(int,(input(\"Enter Radius and Center of the circle Seperated by comas\").split(',')))\n",
        "x1,y1=map(int,input(\"Enter the point x,y separated by coma\").split(','))\n",
        "\n",
        "d=distance_btwn_points(c1,c2,x1,y1)\n",
        "\n",
        "if d==r:\n",
        "  print(\"point{},{} lies on the Circle with center {},{} and radius:{}\".format(x1,y1,c1,c2,r))\n",
        "elif d>r:\n",
        "  print(\"point{},{} lies outside the Circle with center {},{} and radius:{}\".format(x1,y1,c1,c2,r))\n",
        "else:\n",
        "  print(\"point{},{} lies inside the Circle with center {},{} and radius:{}\".format(x1,y1,c1,c2,r))"
      ],
      "execution_count": null,
      "outputs": [
        {
          "output_type": "stream",
          "text": [
            "Enter Radius and Center of the circle Seperated by comas2,3,4\n",
            "Enter the point x,y separated by coma2,3\n",
            "point2,3 lies inside the Circle with center 3,4 and radius:2\n"
          ],
          "name": "stdout"
        }
      ]
    },
    {
      "cell_type": "markdown",
      "metadata": {
        "id": "4mooORE7s8j2"
      },
      "source": [
        "### Check if a point is inside or outside of Rectangle"
      ]
    },
    {
      "cell_type": "code",
      "metadata": {
        "colab": {
          "base_uri": "https://localhost:8080/"
        },
        "id": "XpMX0FzYnfhX",
        "outputId": "b5f3a647-ab35-4d69-c89d-808bcc78cc6e"
      },
      "source": [
        "tx1,ty1=map(int,(input(\"Enter top diagonal vertices x,y separated by coma\").split(',')))\n",
        "bx1,by1=map(int,(input(\"Enter bottom diagonal vertices x,y separated by coma\").split(',')))\n",
        "x1,y1=map(int,input(\"Enter the point x,y separated by coma\").split(','))\n",
        "\n",
        "if(x1>tx1 and x1 <bx1) and (y1<ty1 and y1>by1):\n",
        "  print(\"point is inside the Rectangle\")\n",
        "else:\n",
        "  print(\"point is outside of  the Rectangle\")"
      ],
      "execution_count": null,
      "outputs": [
        {
          "output_type": "stream",
          "text": [
            "Enter top diagonal vertices x,y separated by coma1,4\n",
            "Enter bottom diagonal vertices x,y separated by coma5,1\n",
            "Enter the point x,y separated by coma2,2\n",
            "point is inside the Rectangle\n"
          ],
          "name": "stdout"
        }
      ]
    },
    {
      "cell_type": "markdown",
      "metadata": {
        "id": "Rvk_CyVEUQIy"
      },
      "source": [
        "### Check if 2 circles interset excatly at one point or not"
      ]
    },
    {
      "cell_type": "code",
      "metadata": {
        "id": "drFTYZb9tAFZ",
        "outputId": "dfdac225-f2de-4806-a96c-bbb63d0dba16",
        "colab": {
          "base_uri": "https://localhost:8080/"
        }
      },
      "source": [
        "import math\n",
        "\n",
        "def sqr_distance_btwn_points(c1_x1,c1_y1,c2_x1,c2_y1):\n",
        "  return (((c2_x1-c1_x1)**2+(c2_y1-c1_y1)**2))\n",
        "\n",
        "r1,c1_x1,c1_y1=map(int,(input(\"Enter radius,center of first circle separated by coma\").split(',')))\n",
        "r2,c2_x1,c2_y1=map(int,(input(\"Enter radius,center of second circle separated by coma\").split(',')))\n",
        "d=sqr_distance_btwn_points(c1_x1,c1_y1,c2_x1,c2_y1)\n",
        "print(\"Distance between Centers is: {} and r1+r2 is :{}\".format(d,(r1+r2)))\n",
        "if d==(r1+r2):\n",
        "  print(\"Circles Intersect excatly at one point\")\n",
        "elif d>(r1+r2):\n",
        "  print(\"Circles Donot Intersect\")\n",
        "else:\n",
        "  print(\"Circles Intersect at more than one point or one lies with in other\")"
      ],
      "execution_count": 9,
      "outputs": [
        {
          "output_type": "stream",
          "text": [
            "Enter radius,center of first circle separated by coma1,2,2\n",
            "Enter radius,center of second circle separated by coma1,3,3\n",
            "Distance between Centers is: 2 and r1+r2 is :2\n",
            "Circles Intersect excatly at one point\n"
          ],
          "name": "stdout"
        }
      ]
    },
    {
      "cell_type": "code",
      "metadata": {
        "id": "nfPur1fKVoOd"
      },
      "source": [
        ""
      ],
      "execution_count": null,
      "outputs": []
    }
  ]
}