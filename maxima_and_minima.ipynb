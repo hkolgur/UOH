{
  "nbformat": 4,
  "nbformat_minor": 0,
  "metadata": {
    "colab": {
      "name": "maxima_and_minima.ipynb",
      "provenance": [],
      "authorship_tag": "ABX9TyNJ1qAZMAdNKFNr3oLK5mJn",
      "include_colab_link": true
    },
    "kernelspec": {
      "name": "python3",
      "display_name": "Python 3"
    },
    "language_info": {
      "name": "python"
    }
  },
  "cells": [
    {
      "cell_type": "markdown",
      "metadata": {
        "id": "view-in-github",
        "colab_type": "text"
      },
      "source": [
        "<a href=\"https://colab.research.google.com/github/hkolgur/UOH/blob/main/maxima_and_minima.ipynb\" target=\"_parent\"><img src=\"https://colab.research.google.com/assets/colab-badge.svg\" alt=\"Open In Colab\"/></a>"
      ]
    },
    {
      "cell_type": "markdown",
      "metadata": {
        "id": "C_MCwoDImW9R"
      },
      "source": [
        "### Compute maxima of function sin(x)/x between range -2 and +2"
      ]
    },
    {
      "cell_type": "code",
      "metadata": {
        "colab": {
          "base_uri": "https://localhost:8080/"
        },
        "id": "f2Hud3UdmR3x",
        "outputId": "fe399112-85cc-4f02-9003-621565f32f0f"
      },
      "source": [
        "import math\n",
        "import random\n",
        "\n",
        "def sinx_x(x):\n",
        "  if x==0:\n",
        "    #return math.nan # casn return NAN but will fail in computations hence return 1\n",
        "    return math.nan\n",
        "  else:\n",
        "    return (math.sin(x)/x)\n",
        "\n",
        "#Below use the defination of derivative to compute slope. It works for any f(x) ie it can be sin(x/)/x or any other function \n",
        "def slope(x):\n",
        "  delta=0.0001\n",
        "  return ((sinx_x(x+delta)-sinx_x(x))/delta)      # sin_x(x) component becomes 0 for x=0 hence it will return nan. xyz-nan is nan\n",
        "\n",
        "low=-2\n",
        "high=+2\n",
        "mid=((low+high)/2)\n",
        "while (True):\n",
        "  if math.isnan(slope(mid)):\n",
        "    print(\"in nan\")\n",
        "    mid = mid + (random.random()/100)\n",
        "  if (abs(slope(mid))<0.0001):\n",
        "    break\n",
        "  #print(\"mid 1\",mid)\n",
        "  #mid=((low+high)/2)          #If we put mid here the above random noise gets overidden hence moving down \n",
        "  #print(\"mid 2\",mid,slope(mid))\n",
        "  if slope(mid)>0:\n",
        "    low=mid\n",
        "  else:\n",
        "    high=mid\n",
        "  \n",
        "  print(\"slope ,Low , High , Mid\",slope(mid),low,high,mid)\n",
        "  mid=((low+high)/2)\n",
        "print(\"\\nslope value:{} at the point:{}\".format((slope(mid)),mid))"
      ],
      "execution_count": 285,
      "outputs": [
        {
          "output_type": "stream",
          "text": [
            "in nan\n",
            "slope ,Low , High , Mid -0.0015947983778019648 -2 0.004734406084121525 0.004734406084121525\n",
            "slope ,Low , High , Mid 0.3005901272679079 -0.9976327969579393 0.004734406084121525 -0.9976327969579393\n",
            "slope ,Low , High , Mid 0.16142482382686119 -0.49644919543690885 0.004734406084121525 -0.49644919543690885\n",
            "slope ,Low , High , Mid 0.08144179877378477 -0.24585739467639367 0.004734406084121525 -0.24585739467639367\n",
            "slope ,Low , High , Mid 0.04011218864397037 -0.12056149429613608 0.004734406084121525 -0.12056149429613608\n",
            "slope ,Low , High , Mid 0.01928139086615488 -0.05791354410600728 0.004734406084121525 -0.05791354410600728\n",
            "slope ,Low , High , Mid 0.008845899912568456 -0.026589569010942875 0.004734406084121525 -0.026589569010942875\n",
            "slope ,Low , High , Mid 0.0036258175850623076 -0.010927581463410675 0.004734406084121525 -0.010927581463410675\n",
            "slope ,Low , High , Mid 0.0010155282870183413 -0.003096587689644575 0.004734406084121525 -0.003096587689644575\n",
            "slope ,Low , High , Mid -0.00028963637710432977 -0.003096587689644575 0.0008189091972384749 0.0008189091972384749\n",
            "slope ,Low , High , Mid 0.0003629463707355285 -0.0011388392462030501 0.0008189091972384749 -0.0011388392462030501\n",
            "\n",
            "slope value:3.665500680760658e-05 at the point:-0.0001599650244822876\n"
          ],
          "name": "stdout"
        }
      ]
    },
    {
      "cell_type": "markdown",
      "metadata": {
        "id": "KlFwfPG9eiAG"
      },
      "source": [
        "## Compute minima of function sin(x)/x between range 2 and 6"
      ]
    },
    {
      "cell_type": "code",
      "metadata": {
        "colab": {
          "base_uri": "https://localhost:8080/"
        },
        "id": "D2A0N_uUeqa9",
        "outputId": "1915fcf1-ea8c-4668-d826-ec37908b3795"
      },
      "source": [
        "import math\n",
        "import random\n",
        "def sin_x(x):\n",
        "  if x==0:\n",
        "    return math.nan\n",
        "  else:\n",
        "    return (math.sin(x)/x)\n",
        "\n",
        "def slope(x):\n",
        "  delta=0.0001\n",
        "  return (sin_x(x+delta)-sin_x(x))/delta\n",
        "\n",
        "low=2\n",
        "high=6\n",
        "mid=(low+high)/2\n",
        "\n",
        "while(True):\n",
        "  if math.isnan(slope(mid)):\n",
        "    print(\"in nan\")\n",
        "    mid = mid + (random.random()/100)\n",
        "  if (abs(slope(mid))<0.001):\n",
        "    break\n",
        "  #print(\"mid 1\",low,high,mid)\n",
        "  mid=(low+high)/2\n",
        "  #print(\"mid 2\",low,high,mid)\n",
        "  if slope(mid)<0:\n",
        "    low=mid\n",
        "  else:\n",
        "    high=mid\n",
        "  print(\"slope is:{} at point {}\".format((slope(mid)),mid))\n",
        "  #mid=(low+high)/2\n",
        "print(\"Final slope is:{} at point {}\".format((slope(mid)),mid))\n",
        "\n",
        "\n"
      ],
      "execution_count": 291,
      "outputs": [
        {
          "output_type": "stream",
          "text": [
            "slope is:-0.11609838649562221 at point 4.0\n",
            "slope is:0.09509709528537913 at point 5.0\n",
            "slope is:0.0014404107603893657 at point 4.5\n",
            "slope is:-0.05540034548667805 at point 4.25\n",
            "slope is:-0.026351889800269035 at point 4.375\n",
            "slope is:-0.012281553102844178 at point 4.4375\n",
            "slope is:-0.005374953504222457 at point 4.46875\n",
            "slope is:-0.0019556129760012197 at point 4.484375\n",
            "slope is:-0.00025465507480504357 at point 4.4921875\n",
            "Final slope is:-0.00025465507480504357 at point 4.4921875\n"
          ],
          "name": "stdout"
        }
      ]
    },
    {
      "cell_type": "markdown",
      "metadata": {
        "id": "71wtbfbV8RbA"
      },
      "source": [
        "## Compute Maxima/Minima of x**2+sin(x)+2*x"
      ]
    },
    {
      "cell_type": "code",
      "metadata": {
        "colab": {
          "base_uri": "https://localhost:8080/"
        },
        "id": "VCr9NJV9f4Dj",
        "outputId": "17557688-16fb-47b0-c9c3-6567eae5b737"
      },
      "source": [
        "import math\n",
        "import random\n",
        "\n",
        "def sinx_x(x):\n",
        "    return (x**2+math.sin(x)+2*x)\n",
        "\n",
        "#Below use the defination of derivative to compute slope. It works for any f(x) ie it can be sin(x/)/x or any other function \n",
        "def slope(x):\n",
        "  delta=0.0001\n",
        "  return ((sinx_x(x+delta)-sinx_x(x))/delta)      # sin_x(x) component becomes 0 for x=0 hence it will return nan. xyz-nan is nan\n",
        "\n",
        "low=-2\n",
        "high=0.5\n",
        "mid=((low+high)/2)\n",
        "while (True):\n",
        "  if (abs(slope(mid))<0.0001):\n",
        "    break\n",
        "  if slope(mid)<0:\n",
        "    low=mid\n",
        "  else:\n",
        "    high=mid\n",
        "  \n",
        "  print(\"slope ,Low , High , Mid\",slope(mid),low,high,mid)\n",
        "  mid=((low+high)/2)\n",
        "print(\"\\nslope value:{} at the point:{}\".format((slope(mid)),mid))"
      ],
      "execution_count": 292,
      "outputs": [
        {
          "output_type": "stream",
          "text": [
            "slope ,Low , High , Mid 1.2318229495900113 -2 -0.75 -0.75\n",
            "slope ,Low , High , Mid -0.5553032476823816 -1.375 -0.75 -1.375\n",
            "slope ,Low , High , Mid 0.36183334563677505 -1.375 -1.0625 -1.0625\n",
            "slope ,Low , High , Mid -0.09253371539008626 -1.21875 -1.0625 -1.21875\n",
            "slope ,Low , High , Mid 0.13592197051881527 -1.21875 -1.140625 -1.140625\n",
            "slope ,Low , High , Mid 0.02198496885430501 -1.21875 -1.1796875 -1.1796875\n",
            "slope ,Low , High , Mid -0.03520511346444266 -1.19921875 -1.1796875 -1.19921875\n",
            "slope ,Low , High , Mid -0.006592323904541786 -1.189453125 -1.1796875 -1.189453125\n",
            "slope ,Low , High , Mid 0.007700813575706178 -1.189453125 -1.1845703125 -1.1845703125\n",
            "slope ,Low , High , Mid 0.000555360866183463 -1.189453125 -1.18701171875 -1.18701171875\n",
            "slope ,Low , High , Mid -0.0030182033539105646 -1.188232421875 -1.18701171875 -1.188232421875\n",
            "slope ,Low , High , Mid -0.001231351594022101 -1.1876220703125 -1.18701171875 -1.1876220703125\n",
            "slope ,Low , High , Mid -0.00033797793896894746 -1.18731689453125 -1.18701171875 -1.18731689453125\n",
            "slope ,Low , High , Mid 0.00010869582123262944 -1.18731689453125 -1.187164306640625 -1.187164306640625\n",
            "slope ,Low , High , Mid -0.00011463996862914883 -1.1872406005859375 -1.187164306640625 -1.1872406005859375\n",
            "\n",
            "slope value:-2.971800583395634e-06 at the point:-1.1872024536132812\n"
          ],
          "name": "stdout"
        }
      ]
    },
    {
      "cell_type": "code",
      "metadata": {
        "colab": {
          "base_uri": "https://localhost:8080/"
        },
        "id": "M4uxX2WCiDLb",
        "outputId": "c7525cfc-1f0e-40f0-eb4b-45cf883ed5a8"
      },
      "source": [
        "math.nan<0 #Return False. if mid is computed after adding random then mid gets reset and it ends up in nan for sin(x)/x function and it compares if nan <0 in next\n",
        "#if and it returns false and going to else to assign high=mid"
      ],
      "execution_count": 266,
      "outputs": [
        {
          "output_type": "execute_result",
          "data": {
            "text/plain": [
              "False"
            ]
          },
          "metadata": {
            "tags": []
          },
          "execution_count": 266
        }
      ]
    },
    {
      "cell_type": "code",
      "metadata": {
        "id": "0WaB2U8Z03ds"
      },
      "source": [
        ""
      ],
      "execution_count": null,
      "outputs": []
    }
  ]
}