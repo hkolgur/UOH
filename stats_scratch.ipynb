{
  "nbformat": 4,
  "nbformat_minor": 0,
  "metadata": {
    "colab": {
      "name": "stats_scratch.ipynb",
      "provenance": [],
      "authorship_tag": "ABX9TyPCxH6sPih2hD5/guMziNCz",
      "include_colab_link": true
    },
    "kernelspec": {
      "name": "python3",
      "display_name": "Python 3"
    },
    "language_info": {
      "name": "python"
    }
  },
  "cells": [
    {
      "cell_type": "markdown",
      "metadata": {
        "id": "view-in-github",
        "colab_type": "text"
      },
      "source": [
        "<a href=\"https://colab.research.google.com/github/hkolgur/UOH/blob/main/stats_scratch.ipynb\" target=\"_parent\"><img src=\"https://colab.research.google.com/assets/colab-badge.svg\" alt=\"Open In Colab\"/></a>"
      ]
    },
    {
      "cell_type": "markdown",
      "metadata": {
        "id": "_2x6clTXEW1Q"
      },
      "source": [
        "Given a list of numbers, please implement these follwing metrics in Stats from scratch without using NumPy/SciPy/other libraries. Try and use simple loops/conditional statements/functions/sorting-algorithms to compute these metrics. Once you compute these metrics, compare them against the values obtained using standard libraries like NumPy/SciPy to see that your code is correct. There are no test cases for this problem. Following metrics need to be implemented from scratch:\n",
        "\n",
        "Mean\n",
        "\n",
        "Median\n",
        "\n",
        "Variance\n",
        "\n",
        "Std-dev\n",
        "\n",
        "IQR (Inter-Quartile Range)\n",
        "\n",
        "90th percentile\n",
        "\n",
        "99th percentile\n",
        "\n",
        "Median Absolute Deviation"
      ]
    },
    {
      "cell_type": "markdown",
      "metadata": {
        "id": "mv8R92CiGCzo"
      },
      "source": [
        "# Compute Mean"
      ]
    },
    {
      "cell_type": "code",
      "metadata": {
        "id": "X7--SC4TFSN7"
      },
      "source": [
        "import numpy as np"
      ],
      "execution_count": 1,
      "outputs": []
    },
    {
      "cell_type": "code",
      "metadata": {
        "colab": {
          "base_uri": "https://localhost:8080/"
        },
        "id": "zEdjmMKUETg3",
        "outputId": "14b587c8-a0e9-4fd7-ea89-a9c9991ded1f"
      },
      "source": [
        "x=[1,2,3,4,5,6,7,8,9,10]\n",
        "np_x=np.array(x)\n",
        "sum=0\n",
        "for ele in x:\n",
        "  sum=sum+ele\n",
        "mean= sum/len(x)\n",
        "print(\" Mean from scratch is :\", mean)\n",
        "print(\" Mean from libraries is :\", np.mean(np_x))"
      ],
      "execution_count": 2,
      "outputs": [
        {
          "output_type": "stream",
          "text": [
            " Mean from scratch is : 5.5\n",
            " Mean from libraries is : 5.5\n"
          ],
          "name": "stdout"
        }
      ]
    },
    {
      "cell_type": "markdown",
      "metadata": {
        "id": "akhNldrNGFqB"
      },
      "source": [
        "# Compute Median\n",
        "Steps: sort elements , if odd number of elements then take mid else take avg of n/2 and n/2+1 elements"
      ]
    },
    {
      "cell_type": "code",
      "metadata": {
        "id": "nVaLbycGE6kC"
      },
      "source": [
        "#merge_sort(x,)"
      ],
      "execution_count": 3,
      "outputs": []
    },
    {
      "cell_type": "code",
      "metadata": {
        "colab": {
          "base_uri": "https://localhost:8080/"
        },
        "id": "h87ghjgnGsZT",
        "outputId": "842f630c-ab50-4c3b-c2bd-ad61c7bdd00a"
      },
      "source": [
        "median=0\n",
        "l=len(x)\n",
        "print(\"Number of elements in list\",l)\n",
        "\n",
        "if len(x)%2!=0:\n",
        "  median= x[int(l/2)]\n",
        "else:\n",
        "  median= (x[int((l-1)/2)] + x[int((l+1)/2)])/2\n",
        "\n",
        "print(\"Median Calculated from Scratch :\", median)\n",
        "print(\"Median form libraries is:\",np.median(np_x))"
      ],
      "execution_count": 4,
      "outputs": [
        {
          "output_type": "stream",
          "text": [
            "Number of elements in list 10\n",
            "Median Calculated from Scratch : 5.5\n",
            "Median form libraries is: 5.5\n"
          ],
          "name": "stdout"
        }
      ]
    },
    {
      "cell_type": "code",
      "metadata": {
        "colab": {
          "base_uri": "https://localhost:8080/"
        },
        "id": "UWrz3R_aIC4N",
        "outputId": "21a038b5-86e6-49a0-fc9f-18bf0f77fc0b"
      },
      "source": [
        "variance,sum_sqr=0,0\n",
        "for ele in x:\n",
        "  sum_sqr=sum_sqr+ (ele-mean)*(ele-mean)\n",
        "variance=sum_sqr/l\n",
        "\n",
        "print(\"Variance Calculated from Scratch :\", variance)\n",
        "print(\"Variance form libraries is:\",np.var(np_x))"
      ],
      "execution_count": 5,
      "outputs": [
        {
          "output_type": "stream",
          "text": [
            "Variance Calculated from Scratch : 8.25\n",
            "Variance form libraries is: 8.25\n"
          ],
          "name": "stdout"
        }
      ]
    },
    {
      "cell_type": "code",
      "metadata": {
        "colab": {
          "base_uri": "https://localhost:8080/"
        },
        "id": "XxcuFS2MTP1k",
        "outputId": "cf30ef85-6910-401c-e913-0b2f7343276e"
      },
      "source": [
        "import math\n",
        "print(\"Std Deviation Calculated from Scratch :\",math.sqrt(variance))\n",
        "print(\"Std Deviation Calculated from Scratch :\",np.std(np_x))\n"
      ],
      "execution_count": 6,
      "outputs": [
        {
          "output_type": "stream",
          "text": [
            "Std Deviation Calculated from Scratch : 2.8722813232690143\n",
            "Std Deviation Calculated from Scratch : 2.8722813232690143\n"
          ],
          "name": "stdout"
        }
      ]
    },
    {
      "cell_type": "code",
      "metadata": {
        "colab": {
          "base_uri": "https://localhost:8080/"
        },
        "id": "rJMnes8Bf1u_",
        "outputId": "918b68e7-1802-4078-872c-2cddeb5a927d"
      },
      "source": [
        "#Inter Quartile Range 75th - 25th \n",
        "print(\"List:\",x)\n",
        "if l%2!=0:\n",
        "  idx_25=0.25*(l)\n",
        "  idx_75=0.75*(l)\n",
        "  p_25=x[idx_25]\n",
        "  p_75=x[idx_75]\n",
        "  print(\"25th Percentile is :\",p_25)\n",
        "  print(\"75th Percentile is :\",p_75)\n",
        "  #IQR = 75th - 25th \n",
        "  print(\"IQR Calculated from scratch is: \",p_75 - p_25)\n",
        "  print(\"IQR from Libraries:\",np.percentile(np_x,75)-np.percentile(np_x,25))\n",
        "else:\n",
        "  idx_25=0.25*(l+1)\n",
        "  print(\"floor and ceil of 25 are :\",math.floor(idx_25),math.ceil(idx_25))\n",
        "  p_25=(x[math.floor(idx_25)-1] + x[math.ceil(idx_25)-1])/2\n",
        "  idx_75=0.75*(l+1)\n",
        "  print(\"floor and ceil of 75 are :\",math.floor(idx_75),math.ceil(idx_75))\n",
        "  p_75=(x[math.floor(idx_75)-1] + x[math.ceil(idx_75)-1])/2\n",
        "  print(\"25th Percentile is :\",p_25)\n",
        "  print(\"75th Percentile is :\",p_75)\n",
        "  #IQR = 75th - 25th \n",
        "  print(\"25th Percentile from library is :\",np.percentile(np_x,25))\n",
        "  print(\"75th Percentile from library is :\",np.percentile(np_x,75))\n",
        "  print(\"IQR Calculated from scratch is: \",p_75-p_25)\n",
        "  print(\"IQR from Libraries:\",np.percentile(np_x,75)-np.percentile(np_x,25))"
      ],
      "execution_count": 7,
      "outputs": [
        {
          "output_type": "stream",
          "text": [
            "List: [1, 2, 3, 4, 5, 6, 7, 8, 9, 10]\n",
            "floor and ceil of 25 are : 2 3\n",
            "floor and ceil of 75 are : 8 9\n",
            "25th Percentile is : 2.5\n",
            "75th Percentile is : 8.5\n",
            "25th Percentile from library is : 3.25\n",
            "75th Percentile from library is : 7.75\n",
            "IQR Calculated from scratch is:  6.0\n",
            "IQR from Libraries: 4.5\n"
          ],
          "name": "stdout"
        }
      ]
    },
    {
      "cell_type": "code",
      "metadata": {
        "colab": {
          "base_uri": "https://localhost:8080/"
        },
        "id": "DGTJsvXNfi2F",
        "outputId": "fc1fb99e-1d8a-4009-da82-7d66396c5eea"
      },
      "source": [
        "print(np.percentile(np_x,75))\n",
        "print(np.percentile(np_x,25))\n"
      ],
      "execution_count": 8,
      "outputs": [
        {
          "output_type": "stream",
          "text": [
            "7.75\n",
            "3.25\n"
          ],
          "name": "stdout"
        }
      ]
    },
    {
      "cell_type": "code",
      "metadata": {
        "colab": {
          "base_uri": "https://localhost:8080/"
        },
        "id": "Iq0AEmQsTYls",
        "outputId": "737322a1-6ef3-4203-d1c7-3fc8a3275cf2"
      },
      "source": [
        "np.percentile(x,np.arange(25,100,25))"
      ],
      "execution_count": 9,
      "outputs": [
        {
          "output_type": "execute_result",
          "data": {
            "text/plain": [
              "array([3.25, 5.5 , 7.75])"
            ]
          },
          "metadata": {
            "tags": []
          },
          "execution_count": 9
        }
      ]
    },
    {
      "cell_type": "code",
      "metadata": {
        "id": "g2MoDpKSj0zm"
      },
      "source": [
        ""
      ],
      "execution_count": 9,
      "outputs": []
    }
  ]
}