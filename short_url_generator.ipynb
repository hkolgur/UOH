{
  "nbformat": 4,
  "nbformat_minor": 0,
  "metadata": {
    "colab": {
      "name": "short_url_generator.ipynb",
      "provenance": [],
      "authorship_tag": "ABX9TyNVVt0ksTQTCwzECbPyYPIZ",
      "include_colab_link": true
    },
    "kernelspec": {
      "name": "python3",
      "display_name": "Python 3"
    }
  },
  "cells": [
    {
      "cell_type": "markdown",
      "metadata": {
        "id": "view-in-github",
        "colab_type": "text"
      },
      "source": [
        "<a href=\"https://colab.research.google.com/github/hkolgur/UOH/blob/main/short_url_generator.ipynb\" target=\"_parent\"><img src=\"https://colab.research.google.com/assets/colab-badge.svg\" alt=\"Open In Colab\"/></a>"
      ]
    },
    {
      "cell_type": "markdown",
      "metadata": {
        "id": "mev-87-N0x2A"
      },
      "source": [
        "# Random short url generator"
      ]
    },
    {
      "cell_type": "code",
      "metadata": {
        "id": "yCbP0XSKruW_"
      },
      "source": [
        "import string\n",
        "import random"
      ],
      "execution_count": 3,
      "outputs": []
    },
    {
      "cell_type": "markdown",
      "metadata": {
        "id": "5rmlU8AJ1GXN"
      },
      "source": [
        "### Sample tests"
      ]
    },
    {
      "cell_type": "code",
      "metadata": {
        "colab": {
          "base_uri": "https://localhost:8080/",
          "height": 35
        },
        "id": "SOhgH9nGr8Py",
        "outputId": "4f1a67c5-60ed-4262-f51f-656d20ff073a"
      },
      "source": [
        "#generate random  uppercase characters and digits of lenght 10\n",
        "''.join(random.SystemRandom().choice(string.ascii_uppercase + string.digits) for _ in range(10))"
      ],
      "execution_count": 5,
      "outputs": [
        {
          "output_type": "execute_result",
          "data": {
            "application/vnd.google.colaboratory.intrinsic+json": {
              "type": "string"
            },
            "text/plain": [
              "'WR36L1R486'"
            ]
          },
          "metadata": {
            "tags": []
          },
          "execution_count": 5
        }
      ]
    },
    {
      "cell_type": "code",
      "metadata": {
        "colab": {
          "base_uri": "https://localhost:8080/",
          "height": 35
        },
        "id": "tJ3jt4IIsHc9",
        "outputId": "a6ea87f8-72c3-4c1b-e0ed-0b69a0da1b69"
      },
      "source": [
        "#generate random  lowercase characters and digits of lenght 10\n",
        "''.join(random.choice(string.ascii_lowercase + string.digits) for i in range(0,10))"
      ],
      "execution_count": 18,
      "outputs": [
        {
          "output_type": "execute_result",
          "data": {
            "application/vnd.google.colaboratory.intrinsic+json": {
              "type": "string"
            },
            "text/plain": [
              "'5oteirhus6'"
            ]
          },
          "metadata": {
            "tags": []
          },
          "execution_count": 18
        }
      ]
    },
    {
      "cell_type": "markdown",
      "metadata": {
        "id": "0MQlCHcC1KZX"
      },
      "source": [
        "## Logic to generate short url"
      ]
    },
    {
      "cell_type": "code",
      "metadata": {
        "colab": {
          "base_uri": "https://localhost:8080/"
        },
        "id": "qAcY7OkVtAs0",
        "outputId": "ca8cfa9f-679f-4068-ff94-fe0588f0f64b"
      },
      "source": [
        "#Define 2 dictionaries to store long and short urls as key value pairs\n",
        "d_long={}\n",
        "d_short={}\n",
        "\n",
        "def generate_short_url(longurl):\n",
        "  \"\"\"-Takes long url as input\n",
        "  -checks if a corresponding short url is alreay present\n",
        "  - If short url is not present then generate a random short url with lowercase chars and digits of length 6-10\n",
        "  -Store long and short urls in data frames.\n",
        "  -return short url\"\"\"\n",
        "  \n",
        "  if longurl in d_long: \n",
        "    r=d_long[longurl]\n",
        "    #print(\"ALready present\")\n",
        "  else:\n",
        "    l=random.randint(6,10)\n",
        "    short_url=(''.join(random.choice(string.ascii_lowercase + string.digits) for i in range(0,l)))\n",
        "    d_short[short_url]=longurl\n",
        "    r=\"www.mini.com/\"+short_url\n",
        "    d_long[longurl]=r\n",
        "  return r\n",
        "\n",
        "def get_long_url(shorturl):\n",
        "  \"\"\"-Takes shorturl \n",
        "  -extracts key from shorturl \n",
        "  -return longurl with the key extracted\"\"\"\n",
        "  k=shorturl[13:]\n",
        "  if k in d_short:\n",
        "    return d_short[k]\n",
        "  else:\n",
        "    print(\"long url not present for: \",shorturl)\n",
        "\n",
        "query_url=\"www.google.com/flights/hyd_ord/date\"\n",
        "short_url=generate_short_url(query_url)\n",
        "print(\"Short url for: {} is: {}\".format(query_url,short_url))\n",
        "print(\"Long url for: {} is: {}\".format(short_url,get_long_url(short_url))) "
      ],
      "execution_count": 68,
      "outputs": [
        {
          "output_type": "stream",
          "text": [
            "Short url for: www.google.com/flights/hyd_ord/date is: www.mini.com/rcnlpqs\n",
            "Long url for: www.mini.com/rcnlpqs is: www.google.com/flights/hyd_ord/date\n"
          ],
          "name": "stdout"
        }
      ]
    },
    {
      "cell_type": "code",
      "metadata": {
        "id": "wgQ93POy6f1z"
      },
      "source": [
        ""
      ],
      "execution_count": null,
      "outputs": []
    }
  ]
}