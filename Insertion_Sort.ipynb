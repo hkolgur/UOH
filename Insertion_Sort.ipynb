{
  "nbformat": 4,
  "nbformat_minor": 0,
  "metadata": {
    "colab": {
      "name": "Insertion_Sort.ipynb",
      "provenance": [],
      "collapsed_sections": [],
      "authorship_tag": "ABX9TyMSVD169ia49gtlr/BXtAXl",
      "include_colab_link": true
    },
    "kernelspec": {
      "name": "python3",
      "display_name": "Python 3"
    }
  },
  "cells": [
    {
      "cell_type": "markdown",
      "metadata": {
        "id": "view-in-github",
        "colab_type": "text"
      },
      "source": [
        "<a href=\"https://colab.research.google.com/github/hkolgur/UOH/blob/main/Insertion_Sort.ipynb\" target=\"_parent\"><img src=\"https://colab.research.google.com/assets/colab-badge.svg\" alt=\"Open In Colab\"/></a>"
      ]
    },
    {
      "cell_type": "code",
      "metadata": {
        "colab": {
          "base_uri": "https://localhost:8080/"
        },
        "id": "paRojszcEEr_",
        "outputId": "c187c424-db11-4bb3-dd46-aeed8958f920"
      },
      "source": [
        "from google.colab import drive \n",
        "drive.mount('/content/drive')"
      ],
      "execution_count": 1,
      "outputs": [
        {
          "output_type": "stream",
          "text": [
            "Mounted at /content/drive\n"
          ],
          "name": "stdout"
        }
      ]
    },
    {
      "cell_type": "markdown",
      "metadata": {
        "id": "XJJxdDO5EPEx"
      },
      "source": [
        "## Insertion Sort"
      ]
    },
    {
      "cell_type": "markdown",
      "metadata": {
        "id": "9eXXoUTnaeFg"
      },
      "source": [
        "### 1.Insertion Sort: It is called inplace sorting: A sort algorithm in which the sorted items occupy the same storage as the original ones. These algorithms may use o(n) additional memory for bookkeeping, but at most a constant number of items are kept in auxiliary memory at any time. Also known as sort in place.\n",
        "\n",
        "### 2.Stable sort(property): what is stable sort? when both elements are repeated/same(eg 5,5) if these repeated elements appear in same  order as in the input ..that is we are not shifting first 5 with second 5),then it is called stable sort.ex: If we are doing sorting on multiple columns eg. firsrt on name then on price , if sorting algorithm has stable property, in final sorted we can see items sortedy by price and then for products with same price, they are sorted name wise . If algorithm is not stable then the order of elements will change and it will not be in order of alphabet \n",
        "\n",
        "###3. Online Sorting Property:  If the input array size is not known at the beginning but it keeps on increasing as time progresses then it is eg: we send a request for cab pickup then cab drivers send response with time to arrive and based on their time and best rating you choose them. Now the array that stores response form cab drivers will keep on increasing as each second progress as different cab drivers my respond slightly at different time. If the sorting algorithm is able to sort the data as it arrives, it is called Online sorting algorithm.\n"
      ]
    },
    {
      "cell_type": "code",
      "metadata": {
        "colab": {
          "base_uri": "https://localhost:8080/"
        },
        "id": "Kc15D54dEGai",
        "outputId": "29c121f6-3d6d-4025-e701-b7fb0e28a013"
      },
      "source": [
        "\n",
        "import time\n",
        "\n",
        "def insertion_sort(int_unsorted):\n",
        "  \"\"\"Takes an unsorted list as input and sorts the list in ascending order\"\"\"\n",
        "  for i in range(1,len(int_unsorted)):\n",
        "    for j in range(0,i):\n",
        "      if int_unsorted[i]<int_unsorted[j]:\n",
        "        temp=int_unsorted[i]\n",
        "        int_unsorted[i]=int_unsorted[j]\n",
        "        int_unsorted[j]=temp\n",
        "\n",
        "\n",
        "# input_stirng=(input(\"Enter Elements separated by coma\")).split(',')\n",
        "# int_unsorted=[int(x) for x in input_stirng]\n",
        "test=[i for i in range (10000,1,-1)]\n",
        "#insertion_sort(int_unsorted)\n",
        "start=time.time()\n",
        "insertion_sort(test)\n",
        "\n",
        "#print(int_unsorted,time.time()-start)\n",
        "#print(test)\n",
        "print(\"Total Time consumed:\",time.time()-start)"
      ],
      "execution_count": 2,
      "outputs": [
        {
          "output_type": "stream",
          "text": [
            "Total Time consumed: 8.39642071723938\n"
          ],
          "name": "stdout"
        }
      ]
    },
    {
      "cell_type": "code",
      "metadata": {
        "id": "k0qGbmaMEOW_",
        "colab": {
          "base_uri": "https://localhost:8080/"
        },
        "outputId": "36dffcb9-5cdd-4005-b1ce-9015fb834587"
      },
      "source": [
        "import time\n",
        "\n",
        "def insertion_sort(int_unsorted):\n",
        "  \"\"\"Takes an unsorted list as input and sorts the list in ascending order\"\"\"\n",
        "  for j in range(1,len(int_unsorted)):\n",
        "    key=int_unsorted[j]\n",
        "    i=j-1\n",
        "    while (i>=0 and key<int_unsorted[i]):\n",
        "        int_unsorted[i+1]=int_unsorted[i]\n",
        "        i=i-1\n",
        "    int_unsorted[i+1]=key\n",
        "    \n",
        "# input_stirng=(input(\"Enter Elements separated by coma\")).split(',')\n",
        "# int_unsorted=[int(x) for x in input_stirng]\n",
        "test=[i for i in range (10000,1,-1)]\n",
        "start=time.time()\n",
        "\n",
        "#insertion_sort(int_unsorted)\n",
        "insertion_sort(test)\n",
        "\n",
        "#print(int_unsorted,time.time()-start)\n",
        "#print(test)\n",
        "print(\"Total Time consumed:\",time.time()-start)"
      ],
      "execution_count": null,
      "outputs": [
        {
          "output_type": "stream",
          "text": [
            "Total Time consumed: 7.903972387313843\n"
          ],
          "name": "stdout"
        }
      ]
    },
    {
      "cell_type": "code",
      "metadata": {
        "id": "N3nt8QsuLOHY"
      },
      "source": [
        ""
      ],
      "execution_count": null,
      "outputs": []
    }
  ]
}