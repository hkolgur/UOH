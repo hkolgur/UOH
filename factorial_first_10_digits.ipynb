{
  "nbformat": 4,
  "nbformat_minor": 0,
  "metadata": {
    "colab": {
      "name": "factorial_first_10_digits.ipynb",
      "provenance": [],
      "authorship_tag": "ABX9TyNos+1+zmlXEP5EUslG8g9N",
      "include_colab_link": true
    },
    "kernelspec": {
      "name": "python3",
      "display_name": "Python 3"
    },
    "language_info": {
      "name": "python"
    }
  },
  "cells": [
    {
      "cell_type": "markdown",
      "metadata": {
        "id": "view-in-github",
        "colab_type": "text"
      },
      "source": [
        "<a href=\"https://colab.research.google.com/github/hkolgur/UOH/blob/main/factorial_first_10_digits.ipynb\" target=\"_parent\"><img src=\"https://colab.research.google.com/assets/colab-badge.svg\" alt=\"Open In Colab\"/></a>"
      ]
    },
    {
      "cell_type": "markdown",
      "metadata": {
        "id": "waCimNiRsfdV"
      },
      "source": [
        "## Compute factorial of a number and display first n digits "
      ]
    },
    {
      "cell_type": "code",
      "metadata": {
        "colab": {
          "base_uri": "https://localhost:8080/"
        },
        "id": "LfRL1ViWOvTu",
        "outputId": "6e2b11b4-9e58-4c37-883c-96e0ba26bd54"
      },
      "source": [
        "def mul(r,n,first_n):\n",
        "  \"\"\"Input previous factorial , next number to be multiplied \n",
        "  returns the product that is stored each of the digits as elements of list\n",
        "  Multiply the next number with each of the individual digits form the previous factorial\n",
        "  \"\"\"\n",
        "  carry=0\n",
        "  if not(isinstance(r,list)):\n",
        "    r = [int(x) for x in str(r)]\n",
        "  #r1=[None]*(first_n)\n",
        "  r1=[None]*(500)\n",
        "  i=len(r)-1\n",
        "  j=0\n",
        "  while(i>=0):\n",
        "    last_digit=(r[i]*n + carry) % 10 \n",
        "    if i<=first_n-1:\n",
        "      r1[i]=last_digit\n",
        "    carry=int((r[i]*n + carry)/10)\n",
        "    i=i-1\n",
        "    j=j+1\n",
        "  rem=carry\n",
        "  while(rem>0):\n",
        "    carry=(rem )% 10\n",
        "    for i in range(len(r1)-1,0,-1):\n",
        "      r1[i]=r1[i-1]\n",
        "    r1[0]=carry\n",
        "    rem=int(rem/10)\n",
        "  return [x for x in r1 if x!=None]\n",
        "\n",
        "n,first_n=map(int,input(\"Enter the factorial to be computed and the first n number of digits to be displayed separated by ,:\").split(','))\n",
        "\n",
        "r=1\n",
        "for i in range(1,n):\n",
        "  print(\"r,i+1 Before:\",r,i+1)\n",
        "  r=mul(r,i+1,first_n)\n",
        "  #print(\"r ,i+2 After\",r,i+2)\n",
        "print(\"First {} digits of {} factorial are:{}\".format(first_n,n,r[0:first_n]))"
      ],
      "execution_count": 129,
      "outputs": [
        {
          "output_type": "stream",
          "text": [
            "Enter the factorial to be computed and the first n number of digits to be displayed separated by ,:12,5\n",
            "r,i+1 Before: 1 2\n",
            "r,i+1 Before: [2] 3\n",
            "r,i+1 Before: [6] 4\n",
            "r,i+1 Before: [2, 4] 5\n",
            "r,i+1 Before: [1, 2, 0] 6\n",
            "r,i+1 Before: [7, 2, 0] 7\n",
            "r,i+1 Before: [5, 0, 4, 0] 8\n",
            "r,i+1 Before: [4, 0, 3, 2, 0] 9\n",
            "r,i+1 Before: [3, 6, 2, 8, 8, 0] 10\n",
            "r,i+1 Before: [3, 6, 2, 8, 8, 0] 11\n",
            "r,i+1 Before: [3, 9, 9, 1, 6, 8] 12\n",
            "First 5 digits of 12 factorial are:[4, 7, 9, 0, 0]\n"
          ],
          "name": "stdout"
        }
      ]
    },
    {
      "cell_type": "markdown",
      "metadata": {
        "id": "-9CCm3-urxMp"
      },
      "source": [
        "### Multiplication of two numbers "
      ]
    },
    {
      "cell_type": "code",
      "metadata": {
        "colab": {
          "base_uri": "https://localhost:8080/"
        },
        "id": "c6G7_ILXH_1i",
        "outputId": "cd8bf700-1577-4012-c083-77a7b3ade7ef"
      },
      "source": [
        "def mul(r,n,first_n):\n",
        "  carry=0\n",
        "  r = [int(x) for x in str(r)]\n",
        "  r1=[None]*(first_n)\n",
        "  i=len(r)-1\n",
        "  j=0\n",
        "  while(i>=0):\n",
        "    last_digit=(r[i]*n + carry) % 10 \n",
        "    if i<=first_n-1:\n",
        "      r1[i]=last_digit\n",
        "    carry=int((r[i]*n + carry)/10)\n",
        "    i=i-1\n",
        "    j=j+1\n",
        "  rem=carry\n",
        "  while(rem>0):\n",
        "    carry=(rem )% 10\n",
        "    for i in range(len(r1)-1,0,-1):\n",
        "      r1[i]=r1[i-1]\n",
        "    r1[0]=carry\n",
        "    rem=int(rem/10)\n",
        "  #return (list(filter(None,r1)))\n",
        "  return [x for x in r1 if x!=None]\n",
        "\n",
        "r=39916800\n",
        "mul_2=12\n",
        "first_n=5\n",
        "r_n=mul(r,mul_2,first_n)\n",
        "print(\"Result is : {}\",r_n)\n",
        "#print(\"Result is : {}\".format(list(filter(None,r_n))))"
      ],
      "execution_count": 107,
      "outputs": [
        {
          "output_type": "stream",
          "text": [
            "Result is : {} [4, 7, 9, 0, 0]\n"
          ],
          "name": "stdout"
        }
      ]
    },
    {
      "cell_type": "markdown",
      "metadata": {
        "id": "zz68chXfsIWP"
      },
      "source": [
        "### Rough draft Working Notes Section "
      ]
    },
    {
      "cell_type": "code",
      "metadata": {
        "colab": {
          "base_uri": "https://localhost:8080/"
        },
        "id": "4ZS0vj-LFJjI",
        "outputId": "799a98e0-2357-4a0f-def7-0a0ae3a24f6c"
      },
      "source": [
        "def mul(r,n):\n",
        "  carry=0\n",
        "  r1=[0,0,0]\n",
        "  print(\"len(r):\",len(r))\n",
        "  for i in range(len(r)-1,-1,-1):\n",
        "    r1[len(r)-1-i]=(r[i]*n + carry) % 10 \n",
        "    print(\"r1 in: r1[len(r)-1-i]\",r1[len(r)-1-i])\n",
        "    carry=int((r[i]*n + carry)/10)\n",
        "    print(\"In carry\",carry)\n",
        "  if carry >0:\n",
        "    print(\"increase size of result\")\n",
        "  return r1,carry\n",
        "\n",
        "r=[1,3,1]\n",
        "r_n,c=mul(r,12)\n",
        "print(\"carry: {} and Result is : {}\".format(c,r_n))\n"
      ],
      "execution_count": 67,
      "outputs": [
        {
          "output_type": "stream",
          "text": [
            "len(r): 3\n",
            "r1 in: r1[len(r)-1-i] 2\n",
            "In carry 1\n",
            "r1 in: r1[len(r)-1-i] 7\n",
            "In carry 3\n",
            "r1 in: r1[len(r)-1-i] 5\n",
            "In carry 1\n",
            "increase size of result\n",
            "carry: 1 and Result is : [2, 7, 5]\n"
          ],
          "name": "stdout"
        }
      ]
    }
  ]
}