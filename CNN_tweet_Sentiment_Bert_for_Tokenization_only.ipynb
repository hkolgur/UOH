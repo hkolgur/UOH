{
  "nbformat": 4,
  "nbformat_minor": 0,
  "metadata": {
    "colab": {
      "name": "CNN_tweet_Sentiment_Bert_for_Tokenization_only.ipynb",
      "provenance": [],
      "toc_visible": true,
      "authorship_tag": "ABX9TyPchcBTLS1ZRia+2MSjiVgM",
      "include_colab_link": true
    },
    "kernelspec": {
      "name": "python3",
      "display_name": "Python 3"
    },
    "language_info": {
      "name": "python"
    },
    "accelerator": "GPU"
  },
  "cells": [
    {
      "cell_type": "markdown",
      "metadata": {
        "id": "view-in-github",
        "colab_type": "text"
      },
      "source": [
        "<a href=\"https://colab.research.google.com/github/hkolgur/UOH/blob/main/CNN_tweet_Sentiment_Bert_for_Tokenization_only.ipynb\" target=\"_parent\"><img src=\"https://colab.research.google.com/assets/colab-badge.svg\" alt=\"Open In Colab\"/></a>"
      ]
    },
    {
      "cell_type": "markdown",
      "metadata": {
        "id": "H0RM8owwQCIx"
      },
      "source": [
        "# Imports"
      ]
    },
    {
      "cell_type": "code",
      "metadata": {
        "id": "3vAgf8nGL8LR"
      },
      "source": [
        "import numpy as np\n",
        "import pandas as pd\n",
        "import math\n",
        "import re \n",
        "from bs4 import BeautifulSoup\n",
        "import random\n",
        "from google.colab import drive\n"
      ],
      "execution_count": 64,
      "outputs": []
    },
    {
      "cell_type": "markdown",
      "metadata": {
        "id": "xJkzOI6SNb3U"
      },
      "source": [
        "### Imports related to BERT"
      ]
    },
    {
      "cell_type": "code",
      "metadata": {
        "colab": {
          "base_uri": "https://localhost:8080/"
        },
        "id": "0beaRAK5NCiF",
        "outputId": "1469bbc3-f15e-4781-edd2-179d2b0991d4"
      },
      "source": [
        "!pip install bert-for-tf2  #tensorflow2 \n",
        "!pip install sentencepiece #bert-for-tf2 need for decode"
      ],
      "execution_count": 65,
      "outputs": [
        {
          "output_type": "stream",
          "text": [
            "Requirement already satisfied: bert-for-tf2 in /usr/local/lib/python3.7/dist-packages (0.14.9)\n",
            "Requirement already satisfied: params-flow>=0.8.0 in /usr/local/lib/python3.7/dist-packages (from bert-for-tf2) (0.8.2)\n",
            "Requirement already satisfied: py-params>=0.9.6 in /usr/local/lib/python3.7/dist-packages (from bert-for-tf2) (0.10.2)\n",
            "Requirement already satisfied: numpy in /usr/local/lib/python3.7/dist-packages (from params-flow>=0.8.0->bert-for-tf2) (1.19.5)\n",
            "Requirement already satisfied: tqdm in /usr/local/lib/python3.7/dist-packages (from params-flow>=0.8.0->bert-for-tf2) (4.41.1)\n",
            "Requirement already satisfied: sentencepiece in /usr/local/lib/python3.7/dist-packages (0.1.95)\n"
          ],
          "name": "stdout"
        }
      ]
    },
    {
      "cell_type": "code",
      "metadata": {
        "id": "mfM2IXbQOtHj"
      },
      "source": [
        "import tensorflow as tf #tensor flow version is 2.x + \n",
        "import tensorflow_hub as hub\n",
        "from tensorflow.keras import layers\n",
        "import bert"
      ],
      "execution_count": 66,
      "outputs": []
    },
    {
      "cell_type": "markdown",
      "metadata": {
        "id": "pIbw3-PIQTj9"
      },
      "source": [
        "# Data pre-processing"
      ]
    },
    {
      "cell_type": "code",
      "metadata": {
        "colab": {
          "base_uri": "https://localhost:8080/"
        },
        "id": "e-jc-9YwQcVd",
        "outputId": "8a98c8ac-4c96-433f-dbf0-fd1a15365432"
      },
      "source": [
        "drive.mount(\"/content/drive\")"
      ],
      "execution_count": 67,
      "outputs": [
        {
          "output_type": "stream",
          "text": [
            "Drive already mounted at /content/drive; to attempt to forcibly remount, call drive.mount(\"/content/drive\", force_remount=True).\n"
          ],
          "name": "stdout"
        }
      ]
    },
    {
      "cell_type": "code",
      "metadata": {
        "id": "_jiFoFh7WzzZ"
      },
      "source": [
        "cols=['sentiment','id','date','query','user','text']\n",
        "\n",
        "\n",
        "df=pd.read_csv(\"/content/drive/MyDrive/UOH/stanford-twitter/t55.csv\",\n",
        "               names=cols,\n",
        "               header=None,\n",
        "               engine=\"python\",\n",
        "              # sep='delimiter',\n",
        "               encoding=\"latin1\")\n",
        "\n",
        "\n",
        "#Keep label and text . Drop other columns\n",
        "df.drop(['id','date','query','user'],axis=1,inplace=True)"
      ],
      "execution_count": 68,
      "outputs": []
    },
    {
      "cell_type": "code",
      "metadata": {
        "colab": {
          "base_uri": "https://localhost:8080/"
        },
        "id": "cB9OsQyXe5tv",
        "outputId": "a6c2b24d-02fc-43d4-c9cc-c95ffc70e2fe"
      },
      "source": [
        "df['sentiment'].value_counts()"
      ],
      "execution_count": 69,
      "outputs": [
        {
          "output_type": "execute_result",
          "data": {
            "text/plain": [
              "0    4893\n",
              "4    3623\n",
              "Name: sentiment, dtype: int64"
            ]
          },
          "metadata": {
            "tags": []
          },
          "execution_count": 69
        }
      ]
    },
    {
      "cell_type": "markdown",
      "metadata": {
        "id": "smlvCGrCuqfS"
      },
      "source": [
        "# Cleaning"
      ]
    },
    {
      "cell_type": "code",
      "metadata": {
        "colab": {
          "base_uri": "https://localhost:8080/"
        },
        "id": "xp4me1CSuuUS",
        "outputId": "0a2a13fe-b3c4-4bcd-b56f-9141ad6d10e9"
      },
      "source": [
        "df['text']"
      ],
      "execution_count": 70,
      "outputs": [
        {
          "output_type": "execute_result",
          "data": {
            "text/plain": [
              "0       @switchfoot http://twitpic.com/2y1zl - Awww, t...\n",
              "1       is upset that he can't update his Facebook by ...\n",
              "2       @Kenichan I dived many times for the ball. Man...\n",
              "3         my whole body feels itchy and like its on fire \n",
              "4       @nationwideclass no, it's not behaving at all....\n",
              "                              ...                        \n",
              "8511             My GrandMa is making Dinenr with my Mum \n",
              "8512    Mid-morning snack time... A bowl of cheese noo...\n",
              "8513    @ShaDeLa same here  say it like from the Termi...\n",
              "8514               @DestinyHope92 im great thaanks  wbuu?\n",
              "8515                 cant wait til her date this weekend \n",
              "Name: text, Length: 8516, dtype: object"
            ]
          },
          "metadata": {
            "tags": []
          },
          "execution_count": 70
        }
      ]
    },
    {
      "cell_type": "code",
      "metadata": {
        "id": "jmGweZRdu2_3"
      },
      "source": [
        "def clean_tweet(tweet):\n",
        "  tweet=BeautifulSoup(tweet,\"lxml\").get_text() #get english format text form the input that is in lxml format \n",
        "  tweet=re.sub(r'@[A-za-z0-9]+','',tweet) # Remove @name\n",
        "  tweet=re.sub(r'https?://[A-Za-z0-9./]+',' ',tweet) #remove http or https links \n",
        "  tweet=re.sub(r'[^a-zA-Z0-9.!?\\']',' ',tweet) # Only keep alpha,num,punctuations \n",
        "  tweet=re.sub(r' +',' ',tweet)  #replace more than one space with single space\n",
        "  return tweet\n"
      ],
      "execution_count": 71,
      "outputs": []
    },
    {
      "cell_type": "code",
      "metadata": {
        "colab": {
          "base_uri": "https://localhost:8080/"
        },
        "id": "6lfGNrtz145F",
        "outputId": "f8c1ad6c-9da9-454a-ae13-14476bb6f375"
      },
      "source": [
        "#Sample test to check how clean_tweet is working \n",
        "print(\"Before Cleaning:\\n\",df['text'][0])\n",
        "t=clean_tweet(df['text'][0])\n",
        "print(\"After Cleaning:\\n\",t)"
      ],
      "execution_count": 72,
      "outputs": [
        {
          "output_type": "stream",
          "text": [
            "Before Cleaning:\n",
            " @switchfoot http://twitpic.com/2y1zl - Awww, that's a bummer.  You shoulda got David Carr of Third Day to do it. ;D\n",
            "After Cleaning:\n",
            "  Awww that's a bummer. You shoulda got David Carr of Third Day to do it. D\n"
          ],
          "name": "stdout"
        }
      ]
    },
    {
      "cell_type": "code",
      "metadata": {
        "id": "60DfIa4uv3fL"
      },
      "source": [
        "#clean text for the whole data frame \n",
        "data_clean=[clean_tweet(x)for x in df['text']]"
      ],
      "execution_count": 73,
      "outputs": []
    },
    {
      "cell_type": "code",
      "metadata": {
        "id": "huq1HVT2yYeO"
      },
      "source": [
        "#separate the label colum form data frame\n",
        "data_label=df.sentiment\n"
      ],
      "execution_count": 74,
      "outputs": []
    },
    {
      "cell_type": "code",
      "metadata": {
        "colab": {
          "base_uri": "https://localhost:8080/"
        },
        "id": "cc5eyOUZ3vWS",
        "outputId": "b16c85bb-27c5-4903-cba8-9186b924bddf"
      },
      "source": [
        "#change the data label 4 to 1 to mark as positve or 0 for negative review\n",
        "data_label[data_label==4]=1"
      ],
      "execution_count": 75,
      "outputs": [
        {
          "output_type": "stream",
          "text": [
            "/usr/local/lib/python3.7/dist-packages/ipykernel_launcher.py:2: SettingWithCopyWarning: \n",
            "A value is trying to be set on a copy of a slice from a DataFrame\n",
            "\n",
            "See the caveats in the documentation: https://pandas.pydata.org/pandas-docs/stable/user_guide/indexing.html#returning-a-view-versus-a-copy\n",
            "  \n"
          ],
          "name": "stderr"
        }
      ]
    },
    {
      "cell_type": "markdown",
      "metadata": {
        "id": "7ktj7KJ76kjb"
      },
      "source": [
        "# Tokenization"
      ]
    },
    {
      "cell_type": "markdown",
      "metadata": {
        "id": "yvyWL9dJ6w7V"
      },
      "source": [
        "##### Use tokenization tool from BERT  \n"
      ]
    },
    {
      "cell_type": "code",
      "metadata": {
        "id": "NZLAwbW46mdr"
      },
      "source": [
        "FullTokenizer=bert.bert_tokenization.FullTokenizer\n",
        "\n",
        "\n",
        "#Create bert layer because there is information about tokenizer in it .\n",
        "#pre-trained models are stored in tensor flow hub. From there we try to get the weights\n",
        "bert_layer = hub.KerasLayer(\"https://tfhub.dev/tensorflow/bert_multi_cased_L-12_H-768_A-12/1\",\n",
        "                            trainable=False) # Because we just want to use it for tokenization\n"
      ],
      "execution_count": 76,
      "outputs": []
    },
    {
      "cell_type": "code",
      "metadata": {
        "id": "apkUTxXl927Z"
      },
      "source": [
        "#Get vocab file for the tokenizer \n",
        "vocab_file=bert_layer.resolved_object.vocab_file.asset_path.numpy()  \n",
        "#lowercasing the text or not \n",
        "do_lower_case = bert_layer.resolved_object.do_lower_case.numpy()\n",
        "\n",
        "tokenizer=FullTokenizer(vocab_file,do_lower_case)\n"
      ],
      "execution_count": 77,
      "outputs": []
    },
    {
      "cell_type": "code",
      "metadata": {
        "colab": {
          "base_uri": "https://localhost:8080/"
        },
        "id": "weoSQFxkAqFc",
        "outputId": "7930d9c3-9ba2-42f1-d8c9-a916e03b8323"
      },
      "source": [
        "#sample tokenizer of a sentence \n",
        "print(tokenizer.tokenize(\"I love cherries\"))\n",
        "# Get the token ids for each of the token \n",
        "print(tokenizer.convert_tokens_to_ids(tokenizer.tokenize(\"I love cherries\")))\n",
        "#convert id  16138 to token\n",
        "print(tokenizer.convert_ids_to_tokens([16138]))"
      ],
      "execution_count": 78,
      "outputs": [
        {
          "output_type": "stream",
          "text": [
            "['I', 'love', 'che', '##rries']\n",
            "[146, 16138, 10262, 107788]\n",
            "['love']\n"
          ],
          "name": "stdout"
        }
      ]
    },
    {
      "cell_type": "code",
      "metadata": {
        "id": "td-FHmXfAvUf"
      },
      "source": [
        "#Apply tokenizer to each sentence of data_clean\n",
        "def encode_sentence(sentence):\n",
        "  return tokenizer.convert_tokens_to_ids(tokenizer.tokenize(sentence))"
      ],
      "execution_count": 79,
      "outputs": []
    },
    {
      "cell_type": "code",
      "metadata": {
        "id": "fQQuOEu9COLS"
      },
      "source": [
        "data_inputs=[encode_sentence(sent) for sent in data_clean]"
      ],
      "execution_count": 80,
      "outputs": []
    },
    {
      "cell_type": "code",
      "metadata": {
        "colab": {
          "base_uri": "https://localhost:8080/"
        },
        "id": "RGtoJo77Dnl1",
        "outputId": "4de766eb-b2e8-4719-e130-99e99b354110"
      },
      "source": [
        "# Here is how sample data_input looks like with tokens \n",
        "data_inputs[1]"
      ],
      "execution_count": 81,
      "outputs": [
        {
          "output_type": "execute_result",
          "data": {
            "text/plain": [
              "[10124,\n",
              " 96213,\n",
              " 10189,\n",
              " 10261,\n",
              " 10944,\n",
              " 112,\n",
              " 188,\n",
              " 35896,\n",
              " 10226,\n",
              " 22329,\n",
              " 10155,\n",
              " 15541,\n",
              " 10230,\n",
              " 10271,\n",
              " 119,\n",
              " 119,\n",
              " 119,\n",
              " 10111,\n",
              " 20970,\n",
              " 171,\n",
              " 10908,\n",
              " 10146,\n",
              " 169,\n",
              " 14493,\n",
              " 10984,\n",
              " 18745,\n",
              " 10379,\n",
              " 119,\n",
              " 139,\n",
              " 16254,\n",
              " 106]"
            ]
          },
          "metadata": {
            "tags": []
          },
          "execution_count": 81
        }
      ]
    },
    {
      "cell_type": "markdown",
      "metadata": {
        "id": "MTBWMIIWECpJ"
      },
      "source": [
        "# Dataset Creation"
      ]
    },
    {
      "cell_type": "code",
      "metadata": {
        "id": "CXwJufduEFIn"
      },
      "source": [
        "#we need to pad the sentences to be of same length while training. To do this we can use below techinique\n",
        "#we can train in batches and sentences in each batch has to be of same length (apply padding).But all the sentences in \n",
        "#all the batches need not be of same lenght. \n",
        "\n",
        "#We can split the sentences from input based on their lenghts so that we need not apply much padding when we group them into \n",
        "#batches.\n",
        "data_with_len=[[sent_token,data_label[i],len(sent_token)] for i,sent_token in enumerate(data_inputs)]\n",
        "\n",
        "#now in our original data we had all labels of 0 together and 1 at end. so lets shuffle data to get a mix\n",
        "random.shuffle(data_with_len)\n",
        "\n",
        "#Sort data based on len(sent_token)\n",
        "data_with_len.sort(key=lambda x:x[2]) # x will have sent_token,data_label[i],len(sent_token) \n",
        "\n",
        "\n"
      ],
      "execution_count": 82,
      "outputs": []
    },
    {
      "cell_type": "code",
      "metadata": {
        "id": "FLATyitXNfsg"
      },
      "source": [
        "#Next drop the len(sent_token) and also keep only the sentence tokens that have a lenght of >7 . This is to make sure we have\n",
        "#longer senternces to convery meaning. If sentence length was <7 then it may not convey much meaning. \n",
        "#7 is arbitary choose your own lenght you think is most precise\n",
        "\n",
        "sorted_all=[(x[0],x[1]) for x in data_with_len if x[2]>7] #storing as a tuple\n"
      ],
      "execution_count": 83,
      "outputs": []
    },
    {
      "cell_type": "code",
      "metadata": {
        "id": "pAIT4Y8vNj0a"
      },
      "source": [
        "#Usually we use the  from tensor methods/tensor slices etc to create a dataset .Here we cannot use that because all \n",
        "#sentences are of not same lenght.\n",
        "#So we need to call the from_generator . Creates a Dataset whose elements are generated by generator.\n",
        "#List is a generator so we can use above list  to create a dataset form generator \n",
        " \n",
        "all_dataset=tf.data.Dataset.from_generator(lambda : sorted_all,output_types=(tf.int32, tf.int32))\n"
      ],
      "execution_count": 84,
      "outputs": []
    },
    {
      "cell_type": "code",
      "metadata": {
        "colab": {
          "base_uri": "https://localhost:8080/"
        },
        "id": "_EOKpbkJxoeV",
        "outputId": "125aede4-9b41-4b07-83e7-7bc7d013223c"
      },
      "source": [
        "#check element of all_dataset\n",
        "next(iter(all_dataset))"
      ],
      "execution_count": 85,
      "outputs": [
        {
          "output_type": "execute_result",
          "data": {
            "text/plain": [
              "(<tf.Tensor: shape=(8,), dtype=int32, numpy=\n",
              " array([10796, 56011, 10908,   146,   112, 10323, 20775, 13028],\n",
              "       dtype=int32)>, <tf.Tensor: shape=(), dtype=int32, numpy=0>)"
            ]
          },
          "metadata": {
            "tags": []
          },
          "execution_count": 85
        }
      ]
    },
    {
      "cell_type": "code",
      "metadata": {
        "id": "dn2w0Z-L3atL"
      },
      "source": [
        "BATCH_SIZE=32\n",
        "#Padded_batch takes size of the batch and the padded_shapes\n",
        "#Dimensions  used for padding are indicated with None,dim corresponding to real value if inputs\n",
        "# (first ele of tuple corresponds to the input) \n",
        "#labels will be batched according to the batch size of input if we leave it as blank () to indicate zero dim tensor\n",
        "all_batched = all_dataset.padded_batch(BATCH_SIZE, padded_shapes=((None, ), ()))\n"
      ],
      "execution_count": 86,
      "outputs": []
    },
    {
      "cell_type": "code",
      "metadata": {
        "colab": {
          "base_uri": "https://localhost:8080/"
        },
        "id": "XvCKeujGACru",
        "outputId": "5d2c146e-25ff-4502-fad8-df0b6b76cac4"
      },
      "source": [
        "#next iter gives the batch with size 32 as below \n",
        "next(iter(all_batched))"
      ],
      "execution_count": 87,
      "outputs": [
        {
          "output_type": "execute_result",
          "data": {
            "text/plain": [
              "(<tf.Tensor: shape=(32, 8), dtype=int32, numpy=\n",
              " array([[ 10796,  56011,  10908,    146,    112,  10323,  20775,  13028],\n",
              "        [ 83413,  10376,  10106,  32992,  11369,  66014,  58521,  13596],\n",
              "        [ 10192,  11355,  10689,  34420,    112,    188,  10529,  10271],\n",
              "        [ 10160,  10105,  18141,  34875,  15127,  20104,  14499,  10106],\n",
              "        [ 10944,    112,    188,  10741,  64312,  15127,  24109,  10350],\n",
              "        [   146,  69977,  10142,    169,  14772,  32288,  11940,    119],\n",
              "        [   146,  36216,  25157,  10708,  10189,  10142,  13028,    119],\n",
              "        [ 12689,  84874,  10105,  50939,    119,    119,    119,    119],\n",
              "        [ 10192,  10798,  50939,  19353,  11161,  19986,  10107,    119],\n",
              "        [ 12718,  52070,  24140,  10155,  10105,  14424,  10188,  11619],\n",
              "        [ 31861,  10230,  31237,  11661,  18234,  37627,  10124,  12935],\n",
              "        [ 47336,  38078,  21852,  10940,  15127,  78680,  13446,    136],\n",
              "        [ 33200,    146,  36216,  13086,  11257,  60582,  10216,  19642],\n",
              "        [ 24682,  40667, 107297,  39522,    146,  52734, 100061,    119],\n",
              "        [ 20970,  10347,  10188,  10105,  38306,  11121,  10108,  61103],\n",
              "        [ 50281,    123,  70323,  12935,  10135,  10911,  13123,    119],\n",
              "        [ 69892,  10142,  11901,    119,  10529,  15689,  13028,  19034],\n",
              "        [ 32842,  44991,    146,  25157,  23307,  10114,  10271,    106],\n",
              "        [ 13554,  11192,  10345,  27546,    136,  23525,  12563,    119],\n",
              "        [ 61362,  32941,  10111,  56011,  10908,  10142,  15127,  43310],\n",
              "        [ 16683,  10133,  11732,    119,  10211,  18020,  13002,    119],\n",
              "        [ 12592,    106,  22091,  13028,  10529,    169,  15198,  11940],\n",
              "        [ 51857,    146,  10944,  49351,  36789, 109166,  11259,    106],\n",
              "        [ 10944,  41549,  13028,  10301,  30918,  10271,  10192,  24564],\n",
              "        [ 28154,  10106,  10780,    136,  10747,  10198,  18676,    106],\n",
              "        [ 10287,  57675, 103944,  18338,  10301,  10105,  94912,  12096],\n",
              "        [ 21528,  10114,  12888,    153,    106,    182,  10174,  13123],\n",
              "        [   125,  10731,  12130,  11517,  15780,  10350,  10798,  11850],\n",
              "        [ 11898,  10114,  10105,  17094,  10107,  10474,  16683,  11732],\n",
              "        [ 11695,  10635,  10192,  31311,  50725,  10435,  10124,  11206],\n",
              "        [   177,  11250,  10112,  11223, 101003,  39121,  10115,  41626],\n",
              "        [ 15198,  45217,  41807,  11940,  19132,  10667,  21454,    106]],\n",
              "       dtype=int32)>, <tf.Tensor: shape=(32,), dtype=int32, numpy=\n",
              " array([0, 1, 0, 0, 0, 1, 1, 1, 1, 0, 0, 0, 1, 1, 1, 0, 1, 1, 1, 0, 0, 1,\n",
              "        1, 1, 0, 1, 0, 0, 0, 1, 0, 1], dtype=int32)>)"
            ]
          },
          "metadata": {
            "tags": []
          },
          "execution_count": 87
        }
      ]
    },
    {
      "cell_type": "markdown",
      "metadata": {
        "id": "3sUjzRa8Ar9j"
      },
      "source": [
        "### Create a testing set"
      ]
    },
    {
      "cell_type": "code",
      "metadata": {
        "id": "MuD4a9giAq4_"
      },
      "source": [
        "# divide size of data /batch_size to get number of batches\n",
        "NB_BATCHES = math.ceil(len(sorted_all) / BATCH_SIZE)\n",
        "\n",
        "# Form the number of batches take 10% as Test batches\n",
        "NB_BATCHES_TEST = NB_BATCHES // 10 \n",
        "\n",
        "#Shuffle all_batced data because we have shortest sentences at the beginning and longest at the end \n",
        "#If we dont shuffle ,all small sizes batches data will be alloted to test longer sentences end up in trainng \n",
        "#shuffle takes buffer size as input . IF data set is not too big give buffer size = batch_size\n",
        "\n",
        "all_batched.shuffle(NB_BATCHES) \n",
        "\n",
        "#take method which allows to take first n number \n",
        "# take 10% of batches to test \n",
        "test_dataset = all_batched.take(NB_BATCHES_TEST) \n",
        "# take 90% of data to train data set\n",
        "#skip skips n number\n",
        "train_dataset = all_batched.skip(NB_BATCHES_TEST) "
      ],
      "execution_count": 88,
      "outputs": []
    },
    {
      "cell_type": "code",
      "metadata": {
        "colab": {
          "base_uri": "https://localhost:8080/"
        },
        "id": "8CH1iMewCTYh",
        "outputId": "113a2883-2932-4d20-9199-466ff3321d38"
      },
      "source": [
        "print(\"Total Batches:\",NB_BATCHES)\n",
        "print(\"Total Test Batches:\",NB_BATCHES_TEST)\n",
        "print(\"Total Train Batches:\",NB_BATCHES-NB_BATCHES_TEST)\n"
      ],
      "execution_count": 89,
      "outputs": [
        {
          "output_type": "stream",
          "text": [
            "Total Batches: 229\n",
            "Total Test Batches: 22\n",
            "Total Train Batches: 207\n"
          ],
          "name": "stdout"
        }
      ]
    },
    {
      "cell_type": "markdown",
      "metadata": {
        "id": "AmzUm3zaEj3m"
      },
      "source": [
        "# Model Building "
      ]
    },
    {
      "cell_type": "markdown",
      "metadata": {
        "id": "5Ctjq2PrGPuj"
      },
      "source": [
        "##### CNN Model: \n",
        "1. Have 3 differnt cnn filter of size 2,3,4\n",
        "2. Take max concatnate all\n",
        "3. Use dense layer to get the classification done\n"
      ]
    },
    {
      "cell_type": "code",
      "metadata": {
        "id": "tjks55flElvW"
      },
      "source": [
        "#Lets create a class for our model and it inherits from tf.keras.Model\n",
        "class DCNN(tf.keras.Model):\n",
        "    \n",
        "    def __init__(self,\n",
        "                 vocab_size,\n",
        "                 emb_dim=128,\n",
        "                 nb_filters=50,\n",
        "                 FFN_units=512,\n",
        "                 nb_classes=2,\n",
        "                 dropout_rate=0.1,\n",
        "                 training=False,\n",
        "                 name=\"dcnn\"):\n",
        "        super(DCNN, self).__init__(name=name)\n",
        "        \n",
        "        self.embedding = layers.Embedding(vocab_size,\n",
        "                                          emb_dim)\n",
        "        self.bigram = layers.Conv1D(filters=nb_filters,\n",
        "                                    kernel_size=2,\n",
        "                                    padding=\"valid\",\n",
        "                                    activation=\"relu\")\n",
        "        self.trigram = layers.Conv1D(filters=nb_filters,\n",
        "                                     kernel_size=3,\n",
        "                                     padding=\"valid\",\n",
        "                                     activation=\"relu\")\n",
        "        self.fourgram = layers.Conv1D(filters=nb_filters,\n",
        "                                      kernel_size=4,\n",
        "                                      padding=\"valid\",\n",
        "                                      activation=\"relu\")\n",
        "        self.pool = layers.GlobalMaxPool1D()\n",
        "        \n",
        "        self.dense_1 = layers.Dense(units=FFN_units, activation=\"relu\")\n",
        "        self.dropout = layers.Dropout(rate=dropout_rate)\n",
        "        if nb_classes == 2:\n",
        "            self.last_dense = layers.Dense(units=1,\n",
        "                                           activation=\"sigmoid\")\n",
        "        else:\n",
        "            self.last_dense = layers.Dense(units=nb_classes,\n",
        "                                           activation=\"softmax\")\n",
        "    \n",
        "    def call(self, inputs, training):\n",
        "        x = self.embedding(inputs)\n",
        "        x_1 = self.bigram(x) # batch_size, nb_filters, seq_len-1)\n",
        "        x_1 = self.pool(x_1) # (batch_size, nb_filters)\n",
        "        x_2 = self.trigram(x) # batch_size, nb_filters, seq_len-2)\n",
        "        x_2 = self.pool(x_2) # (batch_size, nb_filters)\n",
        "        x_3 = self.fourgram(x) # batch_size, nb_filters, seq_len-3)\n",
        "        x_3 = self.pool(x_3) # (batch_size, nb_filters)\n",
        "        \n",
        "        merged = tf.concat([x_1, x_2, x_3], axis=-1) # (batch_size, 3 * nb_filters)\n",
        "        merged = self.dense_1(merged)\n",
        "        merged = self.dropout(merged, training)\n",
        "        output = self.last_dense(merged)\n",
        "        \n",
        "        return output"
      ],
      "execution_count": 90,
      "outputs": []
    },
    {
      "cell_type": "markdown",
      "metadata": {
        "id": "n5sRhmYePLiY"
      },
      "source": [
        "# Training "
      ]
    },
    {
      "cell_type": "code",
      "metadata": {
        "id": "O6KXensuPPDM"
      },
      "source": [
        "VOCAB_SIZE = len(tokenizer.vocab)\n",
        "EMB_DIM = 200\n",
        "NB_FILTERS = 100\n",
        "FFN_UNITS = 256\n",
        "NB_CLASSES = 2\n",
        "\n",
        "DROPOUT_RATE = 0.2\n",
        "\n",
        "NB_EPOCHS = 5"
      ],
      "execution_count": 91,
      "outputs": []
    },
    {
      "cell_type": "code",
      "metadata": {
        "id": "z3JGfpK-PSIy"
      },
      "source": [
        "Dcnn = DCNN(vocab_size=VOCAB_SIZE,\n",
        "            emb_dim=EMB_DIM,\n",
        "            nb_filters=NB_FILTERS,\n",
        "            FFN_units=FFN_UNITS,\n",
        "            nb_classes=NB_CLASSES,\n",
        "            dropout_rate=DROPOUT_RATE)"
      ],
      "execution_count": 92,
      "outputs": []
    },
    {
      "cell_type": "code",
      "metadata": {
        "id": "zeYIDTiuPUQj"
      },
      "source": [
        "if NB_CLASSES == 2:\n",
        "    Dcnn.compile(loss=\"binary_crossentropy\",\n",
        "                 optimizer=\"adam\",\n",
        "                 metrics=[\"accuracy\"])\n",
        "else:\n",
        "    Dcnn.compile(loss=\"sparse_categorical_crossentropy\",\n",
        "                 optimizer=\"adam\",\n",
        "                 metrics=[\"sparse_categorical_accuracy\"])"
      ],
      "execution_count": 93,
      "outputs": []
    },
    {
      "cell_type": "code",
      "metadata": {
        "colab": {
          "base_uri": "https://localhost:8080/"
        },
        "id": "TRHxDleAPWsS",
        "outputId": "336f2e8a-5b48-479f-a355-30b3b6054212"
      },
      "source": [
        "checkpoint_path = \"./drive/MyDrive/UOH/stanford-twitter/\"\n",
        "\n",
        "ckpt = tf.train.Checkpoint(Dcnn=Dcnn)\n",
        "\n",
        "ckpt_manager = tf.train.CheckpointManager(ckpt, checkpoint_path, max_to_keep=1)\n",
        "\n",
        "if ckpt_manager.latest_checkpoint:\n",
        "    ckpt.restore(ckpt_manager.latest_checkpoint)\n",
        "    print(\"Latest checkpoint restored!!\")"
      ],
      "execution_count": 94,
      "outputs": [
        {
          "output_type": "stream",
          "text": [
            "Latest checkpoint restored!!\n"
          ],
          "name": "stdout"
        }
      ]
    },
    {
      "cell_type": "code",
      "metadata": {
        "id": "cFsrNY1_Pupw"
      },
      "source": [
        "class MyCustomCallback(tf.keras.callbacks.Callback):\n",
        "\n",
        "    def on_epoch_end(self, epoch, logs=None):\n",
        "        ckpt_manager.save()\n",
        "        print(\"Checkpoint saved at {}.\".format(checkpoint_path))"
      ],
      "execution_count": 95,
      "outputs": []
    },
    {
      "cell_type": "code",
      "metadata": {
        "colab": {
          "base_uri": "https://localhost:8080/"
        },
        "id": "y-_8BSSwPvsr",
        "outputId": "06a9587f-bcf0-4fba-b079-91da22b94270"
      },
      "source": [
        "Dcnn.fit(train_dataset,\n",
        "         epochs=NB_EPOCHS,\n",
        "         callbacks=[MyCustomCallback()])"
      ],
      "execution_count": 96,
      "outputs": [
        {
          "output_type": "stream",
          "text": [
            "Epoch 1/5\n",
            "207/207 [==============================] - 54s 250ms/step - loss: 0.0515 - accuracy: 0.9878\n",
            "Checkpoint saved at ./drive/MyDrive/UOH/stanford-twitter/.\n",
            "Epoch 2/5\n",
            "207/207 [==============================] - 53s 253ms/step - loss: 0.0020 - accuracy: 0.9997\n",
            "Checkpoint saved at ./drive/MyDrive/UOH/stanford-twitter/.\n",
            "Epoch 3/5\n",
            "207/207 [==============================] - 53s 254ms/step - loss: 2.7416e-04 - accuracy: 1.0000\n",
            "Checkpoint saved at ./drive/MyDrive/UOH/stanford-twitter/.\n",
            "Epoch 4/5\n",
            "207/207 [==============================] - 53s 254ms/step - loss: 1.3977e-04 - accuracy: 1.0000\n",
            "Checkpoint saved at ./drive/MyDrive/UOH/stanford-twitter/.\n",
            "Epoch 5/5\n",
            "207/207 [==============================] - 52s 251ms/step - loss: 8.7465e-05 - accuracy: 1.0000\n",
            "Checkpoint saved at ./drive/MyDrive/UOH/stanford-twitter/.\n"
          ],
          "name": "stdout"
        },
        {
          "output_type": "execute_result",
          "data": {
            "text/plain": [
              "<tensorflow.python.keras.callbacks.History at 0x7fcefccea910>"
            ]
          },
          "metadata": {
            "tags": []
          },
          "execution_count": 96
        }
      ]
    },
    {
      "cell_type": "code",
      "metadata": {
        "id": "pfEvi3MUPyao"
      },
      "source": [
        ""
      ],
      "execution_count": 96,
      "outputs": []
    },
    {
      "cell_type": "markdown",
      "metadata": {
        "id": "AGLEulq0P40d"
      },
      "source": [
        "# Evaluation"
      ]
    },
    {
      "cell_type": "code",
      "metadata": {
        "colab": {
          "base_uri": "https://localhost:8080/"
        },
        "id": "KHmvX9AmP7Bo",
        "outputId": "4bd09176-8dd1-4a8c-a791-fbfe2bae9691"
      },
      "source": [
        "results = Dcnn.evaluate(test_dataset)\n",
        "print(results)"
      ],
      "execution_count": 97,
      "outputs": [
        {
          "output_type": "stream",
          "text": [
            "22/22 [==============================] - 1s 14ms/step - loss: 1.3642 - accuracy: 0.7685\n",
            "[1.3641886711120605, 0.7684659361839294]\n"
          ],
          "name": "stdout"
        }
      ]
    },
    {
      "cell_type": "code",
      "metadata": {
        "id": "AQWM7icPP-Yr"
      },
      "source": [
        "def get_prediction(sentence):\n",
        "    tokens = encode_sentence(sentence)\n",
        "    inputs = tf.expand_dims(tokens, 0)\n",
        "\n",
        "    output = Dcnn(inputs, training=False)\n",
        "\n",
        "    sentiment = math.floor(output*2)\n",
        "\n",
        "    if sentiment == 0:\n",
        "        print(\"Ouput of the model: {}\\nPredicted sentiment: negative.\".format(output))\n",
        "    elif sentiment == 1:\n",
        "        print(\"Ouput of the model: {}\\nPredicted sentiment: positive.\".format(output))"
      ],
      "execution_count": 103,
      "outputs": []
    },
    {
      "cell_type": "code",
      "metadata": {
        "colab": {
          "base_uri": "https://localhost:8080/"
        },
        "id": "rRVp3hf4QCf6",
        "outputId": "26445206-818e-49c6-a77f-ffba490abdde"
      },
      "source": [
        "get_prediction(\"Yes it took a long time but I did it\")\n",
        "get_prediction(\"Finally I was able to do it myself\")\n",
        "get_prediction(\"Yes I was able to do it with little help\")\n",
        "get_prediction(\"Do you really think that I did this mistake\")"
      ],
      "execution_count": 112,
      "outputs": [
        {
          "output_type": "stream",
          "text": [
            "Ouput of the model: [[0.99832416]]\n",
            "Predicted sentiment: positive.\n",
            "Ouput of the model: [[0.00139698]]\n",
            "Predicted sentiment: negative.\n",
            "Ouput of the model: [[0.41671166]]\n",
            "Predicted sentiment: negative.\n",
            "Ouput of the model: [[0.98017484]]\n",
            "Predicted sentiment: positive.\n"
          ],
          "name": "stdout"
        }
      ]
    },
    {
      "cell_type": "code",
      "metadata": {
        "id": "cTYVgAaPRRbs"
      },
      "source": [
        ""
      ],
      "execution_count": 99,
      "outputs": []
    }
  ]
}