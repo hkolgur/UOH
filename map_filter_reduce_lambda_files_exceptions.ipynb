{
  "nbformat": 4,
  "nbformat_minor": 0,
  "metadata": {
    "colab": {
      "name": "map_filter_reduce_lambda_files_exceptions.ipynb",
      "provenance": [],
      "authorship_tag": "ABX9TyP/hQxU8b8JSWhblx5l0s7E",
      "include_colab_link": true
    },
    "kernelspec": {
      "name": "python3",
      "display_name": "Python 3"
    }
  },
  "cells": [
    {
      "cell_type": "markdown",
      "metadata": {
        "id": "view-in-github",
        "colab_type": "text"
      },
      "source": [
        "<a href=\"https://colab.research.google.com/github/hkolgur/UOH/blob/main/map_filter_reduce_lambda_files_exceptions.ipynb\" target=\"_parent\"><img src=\"https://colab.research.google.com/assets/colab-badge.svg\" alt=\"Open In Colab\"/></a>"
      ]
    },
    {
      "cell_type": "markdown",
      "metadata": {
        "id": "DKeruB1STdRR"
      },
      "source": [
        "## lambda, map , filter ,reduce examples"
      ]
    },
    {
      "cell_type": "code",
      "metadata": {
        "colab": {
          "base_uri": "https://localhost:8080/"
        },
        "id": "60VP8h-8swmC",
        "outputId": "dbb175e7-eb98-4cbb-b656-1584f8dec548"
      },
      "source": [
        "from google.colab import drive \n",
        "drive.mount('/content/drive')"
      ],
      "execution_count": 53,
      "outputs": [
        {
          "output_type": "stream",
          "text": [
            "Mounted at /content/drive\n"
          ],
          "name": "stdout"
        }
      ]
    },
    {
      "cell_type": "code",
      "metadata": {
        "colab": {
          "base_uri": "https://localhost:8080/"
        },
        "id": "UVgCs0W_TU-h",
        "outputId": "90fa771e-d9b4-4083-becd-b06838519476"
      },
      "source": [
        "square= lambda x:x**2\n",
        "square(8)"
      ],
      "execution_count": 3,
      "outputs": [
        {
          "output_type": "execute_result",
          "data": {
            "text/plain": [
              "64"
            ]
          },
          "metadata": {
            "tags": []
          },
          "execution_count": 3
        }
      ]
    },
    {
      "cell_type": "code",
      "metadata": {
        "colab": {
          "base_uri": "https://localhost:8080/"
        },
        "id": "EuA8kE2NTy_2",
        "outputId": "5929b212-9668-4e83-f800-d76ffa1d3d5d"
      },
      "source": [
        "import numpy as np\n",
        "list1=np.arange(0,10)\n",
        "print(list1)"
      ],
      "execution_count": 14,
      "outputs": [
        {
          "output_type": "stream",
          "text": [
            "[0 1 2 3 4 5 6 7 8 9]\n"
          ],
          "name": "stdout"
        }
      ]
    },
    {
      "cell_type": "code",
      "metadata": {
        "colab": {
          "base_uri": "https://localhost:8080/"
        },
        "id": "qDTcXgvSUJEG",
        "outputId": "e8996e50-860a-4842-97f6-24c85bc67547"
      },
      "source": [
        " #Returns filter type object. Either cast to list or else iterte to print each element.\n",
        "print(list(filter(lambda x: x%2==0,list1)))\n",
        "\n",
        "print(list(map(lambda x:x**2,list1)))\n",
        "\n",
        "from functools import reduce\n",
        "\n",
        "print(reduce(lambda x,y: x+y, list1)) #reduce takes consequtive elements and then reduces it to 1 element at the end by adding each element"
      ],
      "execution_count": 25,
      "outputs": [
        {
          "output_type": "stream",
          "text": [
            "[0, 2, 4, 6, 8]\n",
            "[0, 1, 4, 9, 16, 25, 36, 49, 64, 81]\n",
            "45\n"
          ],
          "name": "stdout"
        }
      ]
    },
    {
      "cell_type": "markdown",
      "metadata": {
        "id": "5SxS28VraNYx"
      },
      "source": [
        "# Files\n",
        "### File operation:\n",
        "1. Open a file\n",
        "2. Read or write (perform operation)\n",
        "3. Close the file\n",
        "\n",
        "## File Modes:\n",
        "1. 'r' Open a file for reading. (default)\n",
        "2. 'w' Open a file for writing. Creates a new file if it does not exist or truncates the file if it exists.\n",
        "3. 'x' Open a file for exclusive creation. If the file already exists, the operation fails.\n",
        "4. 'a' Open for appending at the end of the file without truncating it. Creates a new file if it does not exist.\n",
        "5. 't' Open in text mode. (default)\n",
        "6. 'b' Open in binary mode.\n",
        "7. '+' Open a file for updating (reading and writing)"
      ]
    },
    {
      "cell_type": "code",
      "metadata": {
        "colab": {
          "base_uri": "https://localhost:8080/"
        },
        "id": "jc1h3c1cUpju",
        "outputId": "742de50a-9056-4fef-b7d8-9d0dc1fe1d04"
      },
      "source": [
        "try:\n",
        "  f1=open('test1.txt','w') #Open file in current directory\n",
        "  f1.write(\"Hello this is the first line\\n\")\n",
        "  f1.write(\"Hello this is the Second line with no newline at end\")\n",
        "  f1.write(\"Hello this is the third line\\n\")\n",
        "finally:\n",
        "  f1.close()\n",
        "\n",
        "try:\n",
        "  f2=open('test1.txt','r')\n",
        "  print(f2.read())    #This will read entire file\n",
        "finally:\n",
        "  f2.close()\n",
        "\n",
        "try:\n",
        "  f2=open('test1.txt','r')\n",
        "  print(\"*********** read() file in chunks with filepointer ************************ \")\n",
        "  print(f2.read(5))    #Reads first 5 characters of the file\n",
        "  print(f2.read(8))    # Read 8 chars form current file pointer  location\n",
        "  print(\"File Pointer is at location:\",f2.tell())     #Gives the current file pointer location\n",
        "  print(\"*********** read() Demo ************************ \")\n",
        "  f2.seek(0)           #takes file pointer back to 0 location\n",
        "  print(f2.read(4))    #reads first 4 cahrs of file\n",
        "  f2.seek(0)\n",
        "  for line in f2:\n",
        "    print(line)\n",
        "  print(\"*********** readline() Demo ************************ \")\n",
        "  f2.seek(0)\n",
        "  print(f2.readline())       #will read line until it encounters \\n\n",
        "  print(f2.readline())       #reads next line afrter \\n\n",
        "  print(\"*********** readlines() Demo returns list of lines until EOF************************ \")\n",
        "  f2.seek(0)\n",
        "  print(f2.readlines())\n",
        "finally:\n",
        "  f2.close()"
      ],
      "execution_count": 49,
      "outputs": [
        {
          "output_type": "stream",
          "text": [
            "Hello this is the first line\n",
            "Hello this is the Second line with no newline at endHello this is the third line\n",
            "\n",
            "*********** read() file in chunks with filepointer ************************ \n",
            "Hello\n",
            " this is\n",
            "File Pointer is at location: 13\n",
            "*********** read() Demo ************************ \n",
            "Hell\n",
            "Hello this is the first line\n",
            "\n",
            "Hello this is the Second line with no newline at endHello this is the third line\n",
            "\n",
            "*********** readline() Demo ************************ \n",
            "Hello this is the first line\n",
            "\n",
            "Hello this is the Second line with no newline at endHello this is the third line\n",
            "\n",
            "*********** readlines() Demo returns list of lines until EOF************************ \n",
            "['Hello this is the first line\\n', 'Hello this is the Second line with no newline at endHello this is the third line\\n']\n"
          ],
          "name": "stdout"
        }
      ]
    },
    {
      "cell_type": "markdown",
      "metadata": {
        "id": "67k4U4deobdW"
      },
      "source": [
        "# Renaming and Deleting file\n",
        "### os module in Python which brings the support of file rename/delete operations."
      ]
    },
    {
      "cell_type": "code",
      "metadata": {
        "colab": {
          "base_uri": "https://localhost:8080/"
        },
        "id": "CQAraR0pWPEm",
        "outputId": "16a046a2-7a55-4b41-8c29-f2c12a5768f8"
      },
      "source": [
        "import os\n",
        "try:\n",
        "  os.rename(\"test1.txt\",\"renamed.txt\")\n",
        "  f2=open(\"renamed.txt\",'r')\n",
        "  print(f2.read())\n",
        "finally:\n",
        "  f2.close()"
      ],
      "execution_count": 51,
      "outputs": [
        {
          "output_type": "stream",
          "text": [
            "Hello this is the first line\n",
            "Hello this is the Second line with no newline at endHello this is the third line\n",
            "\n"
          ],
          "name": "stdout"
        }
      ]
    },
    {
      "cell_type": "markdown",
      "metadata": {
        "id": "RxlgKCBkq8Wv"
      },
      "source": [
        "## Delete file"
      ]
    },
    {
      "cell_type": "code",
      "metadata": {
        "colab": {
          "base_uri": "https://localhost:8080/",
          "height": 232
        },
        "id": "eCQY4vUyqi7r",
        "outputId": "2dd980d1-f214-4648-e8fe-33b578b08225"
      },
      "source": [
        "os.remove(\"renamed.txt\")\n",
        "try:\n",
        "  f2=open(\"renamed.txt\",'r')\n",
        "  print(f2.read())\n",
        "finally:\n",
        "  f2.close()"
      ],
      "execution_count": 52,
      "outputs": [
        {
          "output_type": "error",
          "ename": "FileNotFoundError",
          "evalue": "ignored",
          "traceback": [
            "\u001b[0;31m---------------------------------------------------------------------------\u001b[0m",
            "\u001b[0;31mFileNotFoundError\u001b[0m                         Traceback (most recent call last)",
            "\u001b[0;32m<ipython-input-52-1eb21722ff70>\u001b[0m in \u001b[0;36m<module>\u001b[0;34m()\u001b[0m\n\u001b[1;32m      1\u001b[0m \u001b[0mos\u001b[0m\u001b[0;34m.\u001b[0m\u001b[0mremove\u001b[0m\u001b[0;34m(\u001b[0m\u001b[0;34m\"renamed.txt\"\u001b[0m\u001b[0;34m)\u001b[0m\u001b[0;34m\u001b[0m\u001b[0;34m\u001b[0m\u001b[0m\n\u001b[1;32m      2\u001b[0m \u001b[0;32mtry\u001b[0m\u001b[0;34m:\u001b[0m\u001b[0;34m\u001b[0m\u001b[0;34m\u001b[0m\u001b[0m\n\u001b[0;32m----> 3\u001b[0;31m   \u001b[0mf2\u001b[0m\u001b[0;34m=\u001b[0m\u001b[0mopen\u001b[0m\u001b[0;34m(\u001b[0m\u001b[0;34m\"renamed.txt\"\u001b[0m\u001b[0;34m,\u001b[0m\u001b[0;34m'r'\u001b[0m\u001b[0;34m)\u001b[0m\u001b[0;34m\u001b[0m\u001b[0;34m\u001b[0m\u001b[0m\n\u001b[0m\u001b[1;32m      4\u001b[0m   \u001b[0mprint\u001b[0m\u001b[0;34m(\u001b[0m\u001b[0mf2\u001b[0m\u001b[0;34m.\u001b[0m\u001b[0mread\u001b[0m\u001b[0;34m(\u001b[0m\u001b[0;34m)\u001b[0m\u001b[0;34m)\u001b[0m\u001b[0;34m\u001b[0m\u001b[0;34m\u001b[0m\u001b[0m\n\u001b[1;32m      5\u001b[0m \u001b[0;32mfinally\u001b[0m\u001b[0;34m:\u001b[0m\u001b[0;34m\u001b[0m\u001b[0;34m\u001b[0m\u001b[0m\n",
            "\u001b[0;31mFileNotFoundError\u001b[0m: [Errno 2] No such file or directory: 'renamed.txt'"
          ]
        }
      ]
    },
    {
      "cell_type": "markdown",
      "metadata": {
        "id": "0S-ai4EwrzQ_"
      },
      "source": [
        "## Directory\n",
        "\n",
        "#### Get current Directory"
      ]
    },
    {
      "cell_type": "code",
      "metadata": {
        "colab": {
          "base_uri": "https://localhost:8080/"
        },
        "id": "6c_Nmt53rNdg",
        "outputId": "831fc3b4-1f64-4757-d80c-98f1c90d0cea"
      },
      "source": [
        "print(os.getcwd())      #get current working directory\n",
        "os.chdir(\"/content/drive\")\n",
        "print(os.getcwd())  "
      ],
      "execution_count": 65,
      "outputs": [
        {
          "output_type": "stream",
          "text": [
            "/content/drive/My Drive\n",
            "/content/drive\n"
          ],
          "name": "stdout"
        }
      ]
    },
    {
      "cell_type": "markdown",
      "metadata": {
        "id": "zKDIWlhgu0kY"
      },
      "source": [
        "### Mkdir/rmdir (to remove empty folder)"
      ]
    },
    {
      "cell_type": "code",
      "metadata": {
        "id": "MFBwl3tdsHS6"
      },
      "source": [
        "#os.mkdir(\"test\")\n",
        "#os.rmdir(\"test\")     #used to remmove empty directories..cannot use it if it has files\n",
        "# ./    current directry\n",
        "# ../   parent directory of the cwd"
      ],
      "execution_count": null,
      "outputs": []
    },
    {
      "cell_type": "code",
      "metadata": {
        "colab": {
          "base_uri": "https://localhost:8080/",
          "height": 232
        },
        "id": "s0N4xY3EvA6C",
        "outputId": "3cb8c7b2-1609-4581-97b8-f84d27b51b6b"
      },
      "source": [
        "import shutil\n",
        "\n",
        "print(os.getcwd()) \n",
        "os.chdir('/content')\n",
        "print(os.getcwd()) \n",
        "os.mkdir('test2')\n",
        "f = open(\"testfile.txt\",'w')\n",
        "f.write(\"Hello World\")\n",
        "os.chdir(\"../\")\n",
        "os.rmdir('test')"
      ],
      "execution_count": 90,
      "outputs": [
        {
          "output_type": "stream",
          "text": [
            "/content\n",
            "/content\n"
          ],
          "name": "stdout"
        },
        {
          "output_type": "error",
          "ename": "FileNotFoundError",
          "evalue": "ignored",
          "traceback": [
            "\u001b[0;31m---------------------------------------------------------------------------\u001b[0m",
            "\u001b[0;31mFileNotFoundError\u001b[0m                         Traceback (most recent call last)",
            "\u001b[0;32m<ipython-input-90-bbbf6a1d91e0>\u001b[0m in \u001b[0;36m<module>\u001b[0;34m()\u001b[0m\n\u001b[1;32m      8\u001b[0m \u001b[0mf\u001b[0m\u001b[0;34m.\u001b[0m\u001b[0mwrite\u001b[0m\u001b[0;34m(\u001b[0m\u001b[0;34m\"Hello World\"\u001b[0m\u001b[0;34m)\u001b[0m\u001b[0;34m\u001b[0m\u001b[0;34m\u001b[0m\u001b[0m\n\u001b[1;32m      9\u001b[0m \u001b[0mos\u001b[0m\u001b[0;34m.\u001b[0m\u001b[0mchdir\u001b[0m\u001b[0;34m(\u001b[0m\u001b[0;34m\"../\"\u001b[0m\u001b[0;34m)\u001b[0m\u001b[0;34m\u001b[0m\u001b[0;34m\u001b[0m\u001b[0m\n\u001b[0;32m---> 10\u001b[0;31m \u001b[0mos\u001b[0m\u001b[0;34m.\u001b[0m\u001b[0mrmdir\u001b[0m\u001b[0;34m(\u001b[0m\u001b[0;34m'test'\u001b[0m\u001b[0;34m)\u001b[0m\u001b[0;34m\u001b[0m\u001b[0;34m\u001b[0m\u001b[0m\n\u001b[0m",
            "\u001b[0;31mFileNotFoundError\u001b[0m: [Errno 2] No such file or directory: 'test'"
          ]
        }
      ]
    },
    {
      "cell_type": "code",
      "metadata": {
        "colab": {
          "base_uri": "https://localhost:8080/"
        },
        "id": "dgNx4AuExeFJ",
        "outputId": "86db18ba-f12b-4f84-c821-1b6b61b877d7"
      },
      "source": [
        "os.chdir('/content')\n",
        "print(os.getcwd())"
      ],
      "execution_count": 85,
      "outputs": [
        {
          "output_type": "stream",
          "text": [
            "/content\n"
          ],
          "name": "stdout"
        }
      ]
    },
    {
      "cell_type": "code",
      "metadata": {
        "colab": {
          "base_uri": "https://localhost:8080/"
        },
        "id": "xUOx7m1xyQIq",
        "outputId": "b9bc5683-bbd9-436b-93e3-520405a0c389"
      },
      "source": [
        "ls"
      ],
      "execution_count": 87,
      "outputs": [
        {
          "output_type": "stream",
          "text": [
            "\u001b[0m\u001b[01;34mdrive\u001b[0m/  \u001b[01;34msample_data\u001b[0m/  \u001b[01;34mtest2\u001b[0m/  testfile.txt\n"
          ],
          "name": "stdout"
        }
      ]
    },
    {
      "cell_type": "code",
      "metadata": {
        "id": "UqIuzgyUyZbr"
      },
      "source": [
        "os.rmdir('test2')"
      ],
      "execution_count": 88,
      "outputs": []
    },
    {
      "cell_type": "code",
      "metadata": {
        "colab": {
          "base_uri": "https://localhost:8080/"
        },
        "id": "_WNvylDsyecx",
        "outputId": "6b105899-27a3-404c-e566-c8fede371165"
      },
      "source": [
        "ls"
      ],
      "execution_count": 89,
      "outputs": [
        {
          "output_type": "stream",
          "text": [
            "\u001b[0m\u001b[01;34mdrive\u001b[0m/  \u001b[01;34msample_data\u001b[0m/  testfile.txt\n"
          ],
          "name": "stdout"
        }
      ]
    },
    {
      "cell_type": "markdown",
      "metadata": {
        "id": "kbZU0xMBzE_Q"
      },
      "source": [
        "## Remove non-empty directroy using rmtree"
      ]
    },
    {
      "cell_type": "code",
      "metadata": {
        "id": "fvFZOpKavVXi"
      },
      "source": [
        "# remove an non-empty directory\n",
        "shutil.rmtree('test')\n",
        "print(os.getcwd()) \n"
      ],
      "execution_count": null,
      "outputs": []
    },
    {
      "cell_type": "markdown",
      "metadata": {
        "id": "vBlCGNFy5EQh"
      },
      "source": [
        "#Python Exception Handling - Try, Except and Finally"
      ]
    },
    {
      "cell_type": "markdown",
      "metadata": {
        "id": "lxeqtqZ05VB_"
      },
      "source": [
        "### Catching Exceptions in Python"
      ]
    },
    {
      "cell_type": "code",
      "metadata": {
        "colab": {
          "base_uri": "https://localhost:8080/"
        },
        "id": "PE98yqJh5Fu0",
        "outputId": "6ecbe6c6-0591-4b52-b1d4-9367ea6bb026"
      },
      "source": [
        "# import module sys to get the type of exception\n",
        "import sys\n",
        "\n",
        "lst = ['b', 0, 2]\n",
        "\n",
        "for entry in lst:\n",
        "    try:\n",
        "        print(\"The entry is\", entry)\n",
        "        r = 1 / int(entry)\n",
        "    except:\n",
        "        print(\"Oops!\", sys.exc_info()[0],\"occured.\")\n",
        "        print(\"Next entry.\")\n",
        "        print(\"***************************\")\n",
        "print(\"The reciprocal of\", entry, \"is\", r)"
      ],
      "execution_count": 1,
      "outputs": [
        {
          "output_type": "stream",
          "text": [
            "The entry is b\n",
            "Oops! <class 'ValueError'> occured.\n",
            "Next entry.\n",
            "***************************\n",
            "The entry is 0\n",
            "Oops! <class 'ZeroDivisionError'> occured.\n",
            "Next entry.\n",
            "***************************\n",
            "The entry is 2\n",
            "The reciprocal of 2 is 0.5\n"
          ],
          "name": "stdout"
        }
      ]
    },
    {
      "cell_type": "markdown",
      "metadata": {
        "id": "gzbFxbGF5hyV"
      },
      "source": [
        "## Catching Specific Exceptions in Python\n",
        "\n",
        "In the above example, we did not mention any exception in the except clause.\n",
        "This is not a good programming practice as it will catch all exceptions and handle every case in the same way. We can specify which exceptions an except clause will catch.\n",
        "A try clause can have any number of except clause to handle them differently but only one will be executed in case an exception occurs."
      ]
    },
    {
      "cell_type": "code",
      "metadata": {
        "colab": {
          "base_uri": "https://localhost:8080/"
        },
        "id": "0jA2NxXY5k0n",
        "outputId": "c64d0bf6-3b0a-4315-ca7c-d5410dbb52e1"
      },
      "source": [
        "import sys\n",
        "\n",
        "lst = ['b', 0, 2]\n",
        "\n",
        "for entry in lst:\n",
        "    try:\n",
        "        print(\"****************************\")\n",
        "        print(\"The entry is\", entry)\n",
        "        r = 1 / int(entry)\n",
        "    except(ValueError):\n",
        "        print(\"This is a ValueError.\")\n",
        "    except(ZeroDivisionError):\n",
        "        print(\"This is a ZeroError.\")\n",
        "    except:\n",
        "        print(\"Some other error\")\n",
        "print(\"The reciprocal of\", entry, \"is\", r)"
      ],
      "execution_count": 2,
      "outputs": [
        {
          "output_type": "stream",
          "text": [
            "****************************\n",
            "The entry is b\n",
            "This is a ValueError.\n",
            "****************************\n",
            "The entry is 0\n",
            "This is a ZeroError.\n",
            "****************************\n",
            "The entry is 2\n",
            "The reciprocal of 2 is 0.5\n"
          ],
          "name": "stdout"
        }
      ]
    },
    {
      "cell_type": "markdown",
      "metadata": {
        "id": "N2r-efCe5v7b"
      },
      "source": [
        "# Raising Exceptions\n",
        "### In Python programming, exceptions are raised when corresponding errors occur at run time, but we can forcefully raise it using the keyword raise.\n",
        "### We can also optionally pass in value to the exception to clarify why that exception was raised."
      ]
    },
    {
      "cell_type": "code",
      "metadata": {
        "colab": {
          "base_uri": "https://localhost:8080/",
          "height": 164
        },
        "id": "zeqQTbOa5xXv",
        "outputId": "f4a8c6da-341b-43ff-96ed-ad9e1b9f839f"
      },
      "source": [
        "raise KeyboardInterrupt"
      ],
      "execution_count": 4,
      "outputs": [
        {
          "output_type": "error",
          "ename": "KeyboardInterrupt",
          "evalue": "ignored",
          "traceback": [
            "\u001b[0;31m---------------------------------------------------------------------------\u001b[0m",
            "\u001b[0;31mKeyboardInterrupt\u001b[0m                         Traceback (most recent call last)",
            "\u001b[0;32m<ipython-input-4-c761920b81b0>\u001b[0m in \u001b[0;36m<module>\u001b[0;34m()\u001b[0m\n\u001b[0;32m----> 1\u001b[0;31m \u001b[0;32mraise\u001b[0m \u001b[0mKeyboardInterrupt\u001b[0m\u001b[0;34m\u001b[0m\u001b[0;34m\u001b[0m\u001b[0m\n\u001b[0m",
            "\u001b[0;31mKeyboardInterrupt\u001b[0m: "
          ]
        }
      ]
    },
    {
      "cell_type": "code",
      "metadata": {
        "colab": {
          "base_uri": "https://localhost:8080/",
          "height": 164
        },
        "id": "b7TkIFz_50SG",
        "outputId": "a47519cb-eca5-400c-e298-5a1a3b314975"
      },
      "source": [
        "raise MemoryError(\"This is memory Error\")"
      ],
      "execution_count": 5,
      "outputs": [
        {
          "output_type": "error",
          "ename": "MemoryError",
          "evalue": "ignored",
          "traceback": [
            "\u001b[0;31m---------------------------------------------------------------------------\u001b[0m",
            "\u001b[0;31mMemoryError\u001b[0m                               Traceback (most recent call last)",
            "\u001b[0;32m<ipython-input-5-e9258177a914>\u001b[0m in \u001b[0;36m<module>\u001b[0;34m()\u001b[0m\n\u001b[0;32m----> 1\u001b[0;31m \u001b[0;32mraise\u001b[0m \u001b[0mMemoryError\u001b[0m\u001b[0;34m(\u001b[0m\u001b[0;34m\"This is memory Error\"\u001b[0m\u001b[0;34m)\u001b[0m\u001b[0;34m\u001b[0m\u001b[0;34m\u001b[0m\u001b[0m\n\u001b[0m",
            "\u001b[0;31mMemoryError\u001b[0m: This is memory Error"
          ]
        }
      ]
    },
    {
      "cell_type": "code",
      "metadata": {
        "colab": {
          "base_uri": "https://localhost:8080/"
        },
        "id": "IIcJYr9s6CGC",
        "outputId": "c216daac-2720-47f4-9f83-4880a758693f"
      },
      "source": [
        "try:\n",
        "    num = int(input(\"Enter a positive integer:\"))\n",
        "    if num <= 0:\n",
        "        raise ValueError(\"Error:Entered negative number\")\n",
        "except ValueError as e:\n",
        "    print(e)"
      ],
      "execution_count": 6,
      "outputs": [
        {
          "output_type": "stream",
          "text": [
            "Enter a positive integer:-1\n",
            "Error:Entered negative number\n"
          ],
          "name": "stdout"
        }
      ]
    },
    {
      "cell_type": "markdown",
      "metadata": {
        "id": "5Ey4vaTd6IOO"
      },
      "source": [
        "# try ... finally\n",
        "### The try statement in Python can have an optional finally clause. This clause is executed no matter what, and is generally used to release external resources."
      ]
    },
    {
      "cell_type": "code",
      "metadata": {
        "id": "umh94vQ76JEj"
      },
      "source": [
        "try:\n",
        "    f = open('sample.txt')\n",
        "    #perform file operations\n",
        "    \n",
        "finally:\n",
        "    f.close()"
      ],
      "execution_count": null,
      "outputs": []
    }
  ]
}