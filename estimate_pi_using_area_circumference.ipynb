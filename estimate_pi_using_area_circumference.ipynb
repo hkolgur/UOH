{
  "nbformat": 4,
  "nbformat_minor": 0,
  "metadata": {
    "colab": {
      "name": "estimate_pi_using_area_circumference.ipynb",
      "provenance": [],
      "authorship_tag": "ABX9TyNIwynWxNR6hK6rg6ueH2JQ",
      "include_colab_link": true
    },
    "kernelspec": {
      "name": "python3",
      "display_name": "Python 3"
    },
    "language_info": {
      "name": "python"
    }
  },
  "cells": [
    {
      "cell_type": "markdown",
      "metadata": {
        "id": "view-in-github",
        "colab_type": "text"
      },
      "source": [
        "<a href=\"https://colab.research.google.com/github/hkolgur/UOH/blob/main/estimate_pi_using_area_circumference.ipynb\" target=\"_parent\"><img src=\"https://colab.research.google.com/assets/colab-badge.svg\" alt=\"Open In Colab\"/></a>"
      ]
    },
    {
      "cell_type": "markdown",
      "metadata": {
        "id": "R_aBAXgzAOEV"
      },
      "source": [
        "## Estimate value of Pi \n",
        "### Pi is defined as ratio of Circumference / diameter of circle ie pi is 2*pi*r : 2*r \n",
        "\n",
        "Monte Carlo simulation to find Pi: Consider a unit square and a circle inside the square rouching all 4 inner sides of the square. Now radius of circle will be 0.5 (diamerter =length of one side of square =1 units)center of the circle will be (0.5,0.5)\n",
        "\n",
        "Area of square =As=1 and Area of Circle is Ac=Pi*(0.5)**2 = pi*0.25 = pi/4 \n",
        "Now consider randomly throwing darts on to this.  \n",
        "Area of circle / Area of square =Ac/As= pi/4 \n",
        "\n",
        "Consider throwing n random darts on to this and assume m fall in circle. Then ratio of the darts that fall in circle will be propotional to the darts that fall in square (ie total darts) =m/n  \n",
        "\n",
        "Now we know this ratio m/n= pi/4 from above and hence we can approximate value of pi.(4.Ac= As)\n",
        "\n",
        "There should be some means to determin if a dart is dropped with in the circle or outside the circle .\n",
        "\n"
      ]
    },
    {
      "cell_type": "code",
      "metadata": {
        "colab": {
          "base_uri": "https://localhost:8080/"
        },
        "id": "imdSKPnVAAzk",
        "outputId": "f8daac40-ea2c-4d73-fdac-dd4037871b2f"
      },
      "source": [
        "import math\n",
        "import random\n",
        "def dist_btwn_pt_and_center(x,y):\n",
        "  return math.sqrt((x-0.5)**2+(y-0.5)**2)\n",
        "\n",
        "in_cir=0 #number of points with in the circle \n",
        "n=10000000\n",
        "for i in range(0,n):\n",
        "  x=random.random()\n",
        "  y=random.random()\n",
        "  if dist_btwn_pt_and_center(x,y) < 0.5:  # if distance between point and center is less than radius then it is with in circle\n",
        "    in_cir+=1\n",
        "print(\"in_cir:\",in_cir)\n",
        "print(\"value of pi is approximated as\",(in_cir/n)*4)"
      ],
      "execution_count": 13,
      "outputs": [
        {
          "output_type": "stream",
          "text": [
            "in_cir: 7853507\n",
            "value of pi is approximated as 3.1414028\n"
          ],
          "name": "stdout"
        }
      ]
    },
    {
      "cell_type": "markdown",
      "metadata": {
        "id": "a-AswZdNMm57"
      },
      "source": [
        "Note: Alternate approcah we can use trapezoidal rule to estimate . consider the semicircle (pi*r**2)/2)and we know the equation of the circle and the radius of circle =0.5.  "
      ]
    },
    {
      "cell_type": "code",
      "metadata": {
        "id": "arGeIefBJVRo"
      },
      "source": [
        ""
      ],
      "execution_count": null,
      "outputs": []
    }
  ]
}