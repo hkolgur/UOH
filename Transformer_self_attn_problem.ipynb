{
  "nbformat": 4,
  "nbformat_minor": 0,
  "metadata": {
    "colab": {
      "name": "Transformer_self_attn_problem.ipynb",
      "provenance": [],
      "authorship_tag": "ABX9TyNY5Jv+NAq09FsadzlpjFKp",
      "include_colab_link": true
    },
    "kernelspec": {
      "name": "python3",
      "display_name": "Python 3"
    },
    "language_info": {
      "name": "python"
    }
  },
  "cells": [
    {
      "cell_type": "markdown",
      "metadata": {
        "id": "view-in-github",
        "colab_type": "text"
      },
      "source": [
        "<a href=\"https://colab.research.google.com/github/hkolgur/UOH/blob/main/Transformer_self_attn_problem.ipynb\" target=\"_parent\"><img src=\"https://colab.research.google.com/assets/colab-badge.svg\" alt=\"Open In Colab\"/></a>"
      ]
    },
    {
      "cell_type": "code",
      "execution_count": 12,
      "metadata": {
        "colab": {
          "base_uri": "https://localhost:8080/"
        },
        "id": "0nIiXA4-ft-L",
        "outputId": "a3bba509-28ff-46a9-e08b-1e907b0ee869"
      },
      "outputs": [
        {
          "output_type": "stream",
          "name": "stdout",
          "text": [
            "q3 valu3: [ 7.1405  2.0744 14.5279 -0.7435]\n",
            "K Value: [[ 2.5558 -4.9625 -4.6269 -5.1979]\n",
            " [ 2.5295 -6.3199 -4.5031 -3.4741]\n",
            " [ 7.245   3.5984 -2.3504 -1.1275]\n",
            " [ 4.3936 -3.3091 -2.5228  0.9822]]\n",
            "v Value : [[ -6.5443   7.6487  -9.6648  -4.1079]\n",
            " [ -4.8902   7.0353  -9.3932  -2.6101]\n",
            " [-14.7391   3.1949  -4.8321   1.6199]\n",
            " [ -5.8436   3.5517  -6.0968   2.1115]]\n",
            "alphaa3 value: [2.23075237e-18 6.43392977e-19 9.99999996e-01 3.82672761e-09]\n",
            "************************************\n",
            "attn_y3 value: [-14.73909997   3.1949      -4.8321       1.6199    ]\n"
          ]
        }
      ],
      "source": [
        "import numpy as np\n",
        "wq=np.array([[-0.913,-0.041,1.753,0.46],\n",
        "             [2.414,0.85,-2.47,-0.246],\n",
        "            [-0.974,0.403,-0.21,2.747],\n",
        "            [-0.211,0.574,-0.098,-0.446]])\n",
        "wk=np.array([[-0.034,0.981,-0.25,0.789],\n",
        "             [0.176,2.163,-0.714,-1.416],\n",
        "            [0.223,-0.3,-1.194,0.008],\n",
        "            [-0.657,-0.03,-1.223,0.979]])\n",
        "wv=np.array([[-0.099,-3.005,-0.775,0.204],\n",
        "             [0.62,-0.873,0.669,0.767],\n",
        "            [-0.86,1.552,-0.211,-1.823],\n",
        "            [-0.788,0.717,-0.913,0.833]])\n",
        "X=np.array([[4.7,1.1,4.5,3.5],\n",
        "            [3.1,0.7,4.2,3.8],\n",
        "            [4.6,4.6,1.7,4.2],\n",
        "            [1,1.7,1.9,4.1]])\n",
        "Y=np.array([[4.2,6.8,4.5,3.4],\n",
        "            [4.9,2.8,5.6,3.9],\n",
        "            [4.3,6,4.8,6.3],\n",
        "            [2.2,4,4.3,2.3]])\n",
        "y1,y2,y3,y4=Y\n",
        "q3=np.array([y3@w for w in wq])\n",
        "print(\"q3 valu3:\",q3)\n",
        "\n",
        "K=np.array([x@wk.T for x in X])\n",
        "print(\"K Value:\",K)\n",
        "\n",
        "v=np.array([x@wv.T for x in X])\n",
        "print(\"v Value :\",v)\n",
        "\n",
        "e3= np.array([(q3@k)/(len(k))**(0.5) for k in K])\n",
        "alpha3=np.exp(e3)/sum(np.exp(e3))\n",
        "\n",
        "print(\"alphaa3 value:\",alpha3)\n",
        "\n",
        "print('************************************')\n",
        "attn_y3=alpha3@v\n",
        "print(\"attn_y3 value:\",attn_y3)"
      ]
    }
  ]
}