{
  "nbformat": 4,
  "nbformat_minor": 0,
  "metadata": {
    "colab": {
      "name": "peak_element_in_list.ipynb",
      "provenance": [],
      "authorship_tag": "ABX9TyN1qofNvQCbyIBprE9Y4Gwk",
      "include_colab_link": true
    },
    "kernelspec": {
      "name": "python3",
      "display_name": "Python 3"
    }
  },
  "cells": [
    {
      "cell_type": "markdown",
      "metadata": {
        "id": "view-in-github",
        "colab_type": "text"
      },
      "source": [
        "<a href=\"https://colab.research.google.com/github/hkolgur/UOH/blob/main/peak_element_in_list.ipynb\" target=\"_parent\"><img src=\"https://colab.research.google.com/assets/colab-badge.svg\" alt=\"Open In Colab\"/></a>"
      ]
    },
    {
      "cell_type": "markdown",
      "metadata": {
        "id": "pRxMt52I1w1b"
      },
      "source": [
        "# Find peak elements in a list \n",
        "### A peak element is an element that is strictly greater than its neighbors.Given an integer array \"a\", find a peak element, and return its index. If the array contains multiple peaks, return the index to any of the peaks."
      ]
    },
    {
      "cell_type": "code",
      "metadata": {
        "id": "EK4QR21W2UJh"
      },
      "source": [
        "#Compute in O(n) run time complexity\n",
        "str1=input()\n",
        "if str1 !='':\n",
        "  num_str=str1.split(',')\n",
        "  n=[int(x) for x in num_str]\n",
        "  index_save=None\n",
        " # print(len(n))\n",
        "  if (n[0]>n[1]):\n",
        "    index_save=0\n",
        "  if ((n[len(n)-1]>n[len(n)-2])):\n",
        "    index_save=len(n)-1 \n",
        "  else:\n",
        "    for i in range(1,(len(n)-1)):\n",
        "      if (((n[i]>n[i-1]) and (n[i]>n[i+1]))):\n",
        "        index_save=i\n",
        "        \n",
        "  print(index_save)\n",
        "      "
      ],
      "execution_count": null,
      "outputs": []
    },
    {
      "cell_type": "markdown",
      "metadata": {
        "id": "MaNVrBqR5LpW"
      },
      "source": [
        "### Improve code to execute in O(log n) "
      ]
    },
    {
      "cell_type": "code",
      "metadata": {
        "colab": {
          "base_uri": "https://localhost:8080/"
        },
        "id": "-A-gIx6agbM7",
        "outputId": "20c430c2-f611-4062-8837-dba0364e8f3d"
      },
      "source": [
        "#Compute in O(log n) run time complexity\n",
        "\n",
        "def peak(n_lst,left,right,tot_len):\n",
        "  mid=left + (right -left)/2\n",
        "  mid=int(mid)\n",
        "  if (((mid==0) or (n_list[mid-1]<=n_list[mid])) and ((mid==tot_len-1) or (n_list[mid]>=n_list[mid+1]))):\n",
        "    return mid\n",
        "  elif ((mid>0) and (n_list[mid-1]>n_list[mid])): \n",
        "    return peak(n_lst,l,(mid-1),tot_len)\n",
        "  else:\n",
        "    return peak(n_lst,(mid+1),right,tot_len)\n",
        "\n",
        "str1=input()\n",
        "if str1 !='':\n",
        "  num_str=str1.split(',')\n",
        "  n_list=[int(x) for x in num_str]\n",
        "  print(peak(n_list,0,(len(n_list)-1),len(n_list)))"
      ],
      "execution_count": 53,
      "outputs": [
        {
          "output_type": "stream",
          "text": [
            "3,4,55,66,22,11\n",
            "3\n"
          ],
          "name": "stdout"
        }
      ]
    },
    {
      "cell_type": "code",
      "metadata": {
        "colab": {
          "base_uri": "https://localhost:8080/"
        },
        "id": "cvnvmp30pjDt",
        "outputId": "ec861d24-3e42-46e8-f4e5-209f0347a3fd"
      },
      "source": [
        "def findPeakUtil(arr, low, high, n):\n",
        "  mid = low + (high - low)/2\n",
        "  mid = int(mid)\n",
        "  if (((mid==0) or (arr[mid-1]<=arr[mid])) and ((mid==n-1) or (arr[mid+1]<=arr[mid]))):\n",
        "    return mid\n",
        "  #  if ((mid==0 or arr[mid-1] <= arr[mid]) and (mid==n-1 or arr[mid+1] <= arr[mid])):\n",
        "  elif (mid > 0 and arr[mid - 1] > arr[mid]):\n",
        "    return findPeakUtil(arr, low, (mid - 1), n)\n",
        "\n",
        "  else:\n",
        "    return findPeakUtil(arr, (mid + 1), high, n)\n",
        " \n",
        "\n",
        "def findPeak(arr, n):\n",
        "  return findPeakUtil(arr, 0, n - 1, n)\n",
        " \n",
        "\n",
        "str1=input()\n",
        "if str1 !='':\n",
        "  num_str=str1.split(',')\n",
        "  n_list=[int(x) for x in num_str]\n",
        "  print(findPeak(n_list, len(n_list)))\n"
      ],
      "execution_count": 55,
      "outputs": [
        {
          "output_type": "stream",
          "text": [
            "5,4,3,2,1\n",
            "0\n"
          ],
          "name": "stdout"
        }
      ]
    }
  ]
}