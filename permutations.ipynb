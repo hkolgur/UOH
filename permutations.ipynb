{
  "nbformat": 4,
  "nbformat_minor": 0,
  "metadata": {
    "colab": {
      "name": "permutations.ipynb",
      "provenance": [],
      "collapsed_sections": [],
      "authorship_tag": "ABX9TyNr2TPQ9i0AMe5ebrXnkbqu",
      "include_colab_link": true
    },
    "kernelspec": {
      "name": "python3",
      "display_name": "Python 3"
    }
  },
  "cells": [
    {
      "cell_type": "markdown",
      "metadata": {
        "id": "view-in-github",
        "colab_type": "text"
      },
      "source": [
        "<a href=\"https://colab.research.google.com/github/hkolgur/UOH/blob/main/permutations.ipynb\" target=\"_parent\"><img src=\"https://colab.research.google.com/assets/colab-badge.svg\" alt=\"Open In Colab\"/></a>"
      ]
    },
    {
      "cell_type": "markdown",
      "metadata": {
        "id": "KxLVPg-AXRou"
      },
      "source": [
        "# Permutations"
      ]
    },
    {
      "cell_type": "markdown",
      "metadata": {
        "id": "y0BxVM_e441I"
      },
      "source": [
        "### Using built in Funciton"
      ]
    },
    {
      "cell_type": "code",
      "metadata": {
        "colab": {
          "base_uri": "https://localhost:8080/"
        },
        "id": "gjTCr2Yd40kv",
        "outputId": "5b63a77b-f98f-4dae-bc65-bed230ab80f7"
      },
      "source": [
        "from itertools import permutations\n",
        "\n",
        "A=[1,2,3]\n",
        "print(list(permutations(A)))\n"
      ],
      "execution_count": null,
      "outputs": [
        {
          "output_type": "stream",
          "text": [
            "[(1, 2, 3), (1, 3, 2), (2, 1, 3), (2, 3, 1), (3, 1, 2), (3, 2, 1)]\n"
          ],
          "name": "stdout"
        }
      ]
    },
    {
      "cell_type": "markdown",
      "metadata": {
        "id": "YVI-fMCq5tbv"
      },
      "source": [
        "### Build Logic from scratch"
      ]
    },
    {
      "cell_type": "markdown",
      "metadata": {
        "id": "nHfcUT86XN4W"
      },
      "source": [
        ""
      ]
    },
    {
      "cell_type": "code",
      "metadata": {
        "colab": {
          "base_uri": "https://localhost:8080/"
        },
        "id": "8UEgVAtC52Jv",
        "outputId": "fc84c38d-c7ec-47a1-bbe4-fd589969a8bb"
      },
      "source": [
        "def perm(s):\n",
        "  if len(s)==1:\n",
        "    return [s]\n",
        "  B=[]\n",
        "  for a in s:\n",
        "    #B.append(A[i])\n",
        "    r=[x for x in s if x!=a] \n",
        "    z=perm(r)\n",
        "    for t in z:\n",
        "       B.append([a]+t) # add element 'a' which is first fixed element to all the returned lists of remaining elements\n",
        "\n",
        "  return B\n",
        "\n",
        "A=np.array([1,2,3])\n",
        "d1=perm(A)\n",
        "print(d1)\n"
      ],
      "execution_count": null,
      "outputs": [
        {
          "output_type": "stream",
          "text": [
            "[3]\n",
            "[2]\n",
            "[2, 3]\n",
            "[3, 2]\n",
            "[3]\n",
            "[1]\n",
            "[1, 3]\n",
            "[3, 1]\n",
            "[2]\n",
            "[1]\n",
            "[1, 2]\n",
            "[2, 1]\n",
            "[[1, 2, 3], [1, 3, 2], [2, 1, 3], [2, 3, 1], [3, 1, 2], [3, 2, 1]]\n"
          ],
          "name": "stdout"
        }
      ]
    },
    {
      "cell_type": "markdown",
      "metadata": {
        "id": "r0H2rAquXXSz"
      },
      "source": [
        "# Combinations"
      ]
    },
    {
      "cell_type": "markdown",
      "metadata": {
        "id": "P_AEhCihXdN_"
      },
      "source": [
        "### Using built in function"
      ]
    },
    {
      "cell_type": "code",
      "metadata": {
        "colab": {
          "base_uri": "https://localhost:8080/"
        },
        "id": "JFiDXtf1CxBZ",
        "outputId": "85b40c0b-42b0-4312-c11d-8c741f7de0a5"
      },
      "source": [
        "from itertools import combinations\n",
        "x=[1,2,3,4,5]\n",
        "#choose 3 elements form list\n",
        "print(list(combinations(x,3)))"
      ],
      "execution_count": null,
      "outputs": [
        {
          "output_type": "stream",
          "text": [
            "[(1, 2, 3), (1, 2, 4), (1, 2, 5), (1, 3, 4), (1, 3, 5), (1, 4, 5), (2, 3, 4), (2, 3, 5), (2, 4, 5), (3, 4, 5)]\n"
          ],
          "name": "stdout"
        }
      ]
    },
    {
      "cell_type": "markdown",
      "metadata": {
        "id": "zIR37VNTX9Tx"
      },
      "source": [
        "### Build form scratch"
      ]
    },
    {
      "cell_type": "code",
      "metadata": {
        "colab": {
          "base_uri": "https://localhost:8080/"
        },
        "id": "VfmMebDMD6ql",
        "outputId": "06657676-7f32-49f1-f23c-bf50fb2a9a10"
      },
      "source": [
        "def comb(s,c,rem_len):\n",
        "  if c<=1 or len(s)<=c:\n",
        "    return [s]\n",
        "  comb_list=[]\n",
        "  comb_list1=[]\n",
        "  #comb_list.clear()\n",
        "  #z=[]\n",
        "  for ele in range(0,(rem_len+1)-(c)): \n",
        "    print(\"\\ncomblist is :\",comb_list,comb_list1)\n",
        "    rem_lst=[]\n",
        "    rem_lst.clear()\n",
        "    print(\"rem list after clearing\",rem_lst)\n",
        "    print(\"first\",ele,rem_len)\n",
        "    for rem_e in range(ele+1,rem_len):\n",
        "      rem_lst.append(s[rem_e])\n",
        "    print(\"sec\",rem_lst,(c-(ele+1)),len(rem_lst))\n",
        "    #z.clear()\n",
        "    z=comb(rem_lst,(c-(ele+1)),len(rem_lst))   \n",
        "    print(\"z is:\",z) \n",
        "    #print(\"c is:\",c,len(z)) \n",
        "    #if (len(z)< c):\n",
        "    for t in z:\n",
        "        print(\"len t, c,ele is:\",len(t),(c-(ele+1)),ele) \n",
        "        if (len(t)<= (c-(ele+1))):\n",
        "          print(\"s-ele and t value:\",s[ele],t)\n",
        "          comb_list.append([s[ele]]+t)\n",
        "          print(\"append in if\")\n",
        "        else:\n",
        "          for t1 in t:\n",
        "            print(\"append in elseee-s-ele and t1, ele\",s[ele],t1,ele)\n",
        "            comb_list.append([s[ele]]+[t1])\n",
        "          print(\"after addin\",comb_list)\n",
        "          #comb_list1.append(comb_list1 + comb_list)   \n",
        "  return comb_list \n",
        "\n",
        "l1=[1,2,3,4,5]\n",
        "cf=comb(l1,3,len(l1))\n",
        "print(\"Final...:\",cf)"
      ],
      "execution_count": null,
      "outputs": [
        {
          "output_type": "stream",
          "text": [
            "\n",
            "comblist is : [] []\n",
            "rem list after clearing []\n",
            "first 0 5\n",
            "sec [2, 3, 4, 5] 2 4\n",
            "\n",
            "comblist is : [] []\n",
            "rem list after clearing []\n",
            "first 0 4\n",
            "sec [3, 4, 5] 1 3\n",
            "z is: [[3, 4, 5]]\n",
            "len t, c,ele is: 3 1 0\n",
            "append in elseee-s-ele and t1, ele 2 3 0\n",
            "append in elseee-s-ele and t1, ele 2 4 0\n",
            "append in elseee-s-ele and t1, ele 2 5 0\n",
            "after addin [[2, 3], [2, 4], [2, 5]]\n",
            "\n",
            "comblist is : [[2, 3], [2, 4], [2, 5]] []\n",
            "rem list after clearing []\n",
            "first 1 4\n",
            "sec [4, 5] 0 2\n",
            "z is: [[4, 5]]\n",
            "len t, c,ele is: 2 0 1\n",
            "append in elseee-s-ele and t1, ele 3 4 1\n",
            "append in elseee-s-ele and t1, ele 3 5 1\n",
            "after addin [[2, 3], [2, 4], [2, 5], [3, 4], [3, 5]]\n",
            "\n",
            "comblist is : [[2, 3], [2, 4], [2, 5], [3, 4], [3, 5]] []\n",
            "rem list after clearing []\n",
            "first 2 4\n",
            "sec [5] -1 1\n",
            "z is: [[5]]\n",
            "len t, c,ele is: 1 -1 2\n",
            "append in elseee-s-ele and t1, ele 4 5 2\n",
            "after addin [[2, 3], [2, 4], [2, 5], [3, 4], [3, 5], [4, 5]]\n",
            "z is: [[2, 3], [2, 4], [2, 5], [3, 4], [3, 5], [4, 5]]\n",
            "len t, c,ele is: 2 2 0\n",
            "s-ele and t value: 1 [2, 3]\n",
            "append in if\n",
            "len t, c,ele is: 2 2 0\n",
            "s-ele and t value: 1 [2, 4]\n",
            "append in if\n",
            "len t, c,ele is: 2 2 0\n",
            "s-ele and t value: 1 [2, 5]\n",
            "append in if\n",
            "len t, c,ele is: 2 2 0\n",
            "s-ele and t value: 1 [3, 4]\n",
            "append in if\n",
            "len t, c,ele is: 2 2 0\n",
            "s-ele and t value: 1 [3, 5]\n",
            "append in if\n",
            "len t, c,ele is: 2 2 0\n",
            "s-ele and t value: 1 [4, 5]\n",
            "append in if\n",
            "\n",
            "comblist is : [[1, 2, 3], [1, 2, 4], [1, 2, 5], [1, 3, 4], [1, 3, 5], [1, 4, 5]] []\n",
            "rem list after clearing []\n",
            "first 1 5\n",
            "sec [3, 4, 5] 1 3\n",
            "z is: [[3, 4, 5]]\n",
            "len t, c,ele is: 3 1 1\n",
            "append in elseee-s-ele and t1, ele 2 3 1\n",
            "append in elseee-s-ele and t1, ele 2 4 1\n",
            "append in elseee-s-ele and t1, ele 2 5 1\n",
            "after addin [[1, 2, 3], [1, 2, 4], [1, 2, 5], [1, 3, 4], [1, 3, 5], [1, 4, 5], [2, 3], [2, 4], [2, 5]]\n",
            "\n",
            "comblist is : [[1, 2, 3], [1, 2, 4], [1, 2, 5], [1, 3, 4], [1, 3, 5], [1, 4, 5], [2, 3], [2, 4], [2, 5]] []\n",
            "rem list after clearing []\n",
            "first 2 5\n",
            "sec [4, 5] 0 2\n",
            "z is: [[4, 5]]\n",
            "len t, c,ele is: 2 0 2\n",
            "append in elseee-s-ele and t1, ele 3 4 2\n",
            "append in elseee-s-ele and t1, ele 3 5 2\n",
            "after addin [[1, 2, 3], [1, 2, 4], [1, 2, 5], [1, 3, 4], [1, 3, 5], [1, 4, 5], [2, 3], [2, 4], [2, 5], [3, 4], [3, 5]]\n",
            "Final...: [[1, 2, 3], [1, 2, 4], [1, 2, 5], [1, 3, 4], [1, 3, 5], [1, 4, 5], [2, 3], [2, 4], [2, 5], [3, 4], [3, 5]]\n"
          ],
          "name": "stdout"
        }
      ]
    },
    {
      "cell_type": "markdown",
      "metadata": {
        "id": "EMCq_tEih3AX"
      },
      "source": [
        "## Testing"
      ]
    },
    {
      "cell_type": "code",
      "metadata": {
        "colab": {
          "base_uri": "https://localhost:8080/"
        },
        "id": "3yjThydEcfRi",
        "outputId": "28d83549-c3b6-4e73-b24e-65170a87ec5f"
      },
      "source": [
        "def comb(s,c,rem_len):\n",
        "  if c<=1 or len(s)<=c:\n",
        "  #if  len(s)<=c:\n",
        "    print(\"********* s and c and rem_len are \",s,c,rem_len)\n",
        "    return [s]\n",
        "  comb_list=[]\n",
        "  comb_list1=[]\n",
        "  #comb_list.clear()\n",
        "  #z=[]\n",
        "  for ele in range(0,(rem_len+1)-(c-1)): \n",
        "    print(\"\\ncomblist is :\",comb_list,comb_list1)\n",
        "    rem_lst=[]\n",
        "    rem_lst.clear()\n",
        "    print(\"rem list after clearing\",rem_lst)\n",
        "    print(\"$$first ele and rem_len are:\",ele,rem_len)\n",
        "    for rem_e in range(ele+1,rem_len):\n",
        "      rem_lst.append(s[rem_e])\n",
        "    print(\"sec rem_lst,c,len(rem_lst) are:\",rem_lst,(c),len(rem_lst))\n",
        "    #z.clear()\n",
        "    z=comb(rem_lst,c,len(rem_lst))   \n",
        "    print(\"z is:\",z) \n",
        "    #print(\"c is:\",c,len(z)) \n",
        "    #if (len(z)< c):\n",
        "    for t in z:\n",
        "        print(\"len(t), rem_len,c,ele is:\",len(t),rem_len,c,ele) \n",
        "        #if (len(t)<= (c-(ele+1))):\n",
        "        if (len(t)<= (rem_len-c) and len(t)!=0):\n",
        "          print(\"s-ele and t value:\",s[ele],t)\n",
        "          comb_list.append([s[ele]]+t)\n",
        "          print(\"append in if\")\n",
        "        else:\n",
        "          for t1 in t:\n",
        "            print(\"append in elseee-s-ele and t1, ele\",s[ele],t1,ele)\n",
        "            comb_list.append([s[ele]]+[t1])\n",
        "          print(\"after addin\",comb_list)\n",
        "          #comb_list1.append(comb_list1 + comb_list)       \n",
        "  return comb_list \n",
        "\n",
        "l1=[1,2,3,4]\n",
        "cf=comb(l1,2,(len(l1)))\n",
        "print(\"Final...:\",cf)"
      ],
      "execution_count": null,
      "outputs": [
        {
          "output_type": "stream",
          "text": [
            "\n",
            "comblist is : [] []\n",
            "rem list after clearing []\n",
            "$$first ele and rem_len are: 0 4\n",
            "sec rem_lst,c,len(rem_lst) are: [2, 3, 4] 2 3\n",
            "\n",
            "comblist is : [] []\n",
            "rem list after clearing []\n",
            "$$first ele and rem_len are: 0 3\n",
            "sec rem_lst,c,len(rem_lst) are: [3, 4] 2 2\n",
            "********* s and c and rem_len are  [3, 4] 2 2\n",
            "z is: [[3, 4]]\n",
            "len(t), rem_len,c,ele is: 2 3 2 0\n",
            "append in elseee-s-ele and t1, ele 2 3 0\n",
            "append in elseee-s-ele and t1, ele 2 4 0\n",
            "after addin [[2, 3], [2, 4]]\n",
            "\n",
            "comblist is : [[2, 3], [2, 4]] []\n",
            "rem list after clearing []\n",
            "$$first ele and rem_len are: 1 3\n",
            "sec rem_lst,c,len(rem_lst) are: [4] 2 1\n",
            "********* s and c and rem_len are  [4] 2 1\n",
            "z is: [[4]]\n",
            "len(t), rem_len,c,ele is: 1 3 2 1\n",
            "s-ele and t value: 3 [4]\n",
            "append in if\n",
            "\n",
            "comblist is : [[2, 3], [2, 4], [3, 4]] []\n",
            "rem list after clearing []\n",
            "$$first ele and rem_len are: 2 3\n",
            "sec rem_lst,c,len(rem_lst) are: [] 2 0\n",
            "********* s and c and rem_len are  [] 2 0\n",
            "z is: [[]]\n",
            "len(t), rem_len,c,ele is: 0 3 2 2\n",
            "after addin [[2, 3], [2, 4], [3, 4]]\n",
            "z is: [[2, 3], [2, 4], [3, 4]]\n",
            "len(t), rem_len,c,ele is: 2 4 2 0\n",
            "s-ele and t value: 1 [2, 3]\n",
            "append in if\n",
            "len(t), rem_len,c,ele is: 2 4 2 0\n",
            "s-ele and t value: 1 [2, 4]\n",
            "append in if\n",
            "len(t), rem_len,c,ele is: 2 4 2 0\n",
            "s-ele and t value: 1 [3, 4]\n",
            "append in if\n",
            "\n",
            "comblist is : [[1, 2, 3], [1, 2, 4], [1, 3, 4]] []\n",
            "rem list after clearing []\n",
            "$$first ele and rem_len are: 1 4\n",
            "sec rem_lst,c,len(rem_lst) are: [3, 4] 2 2\n",
            "********* s and c and rem_len are  [3, 4] 2 2\n",
            "z is: [[3, 4]]\n",
            "len(t), rem_len,c,ele is: 2 4 2 1\n",
            "s-ele and t value: 2 [3, 4]\n",
            "append in if\n",
            "\n",
            "comblist is : [[1, 2, 3], [1, 2, 4], [1, 3, 4], [2, 3, 4]] []\n",
            "rem list after clearing []\n",
            "$$first ele and rem_len are: 2 4\n",
            "sec rem_lst,c,len(rem_lst) are: [4] 2 1\n",
            "********* s and c and rem_len are  [4] 2 1\n",
            "z is: [[4]]\n",
            "len(t), rem_len,c,ele is: 1 4 2 2\n",
            "s-ele and t value: 3 [4]\n",
            "append in if\n",
            "\n",
            "comblist is : [[1, 2, 3], [1, 2, 4], [1, 3, 4], [2, 3, 4], [3, 4]] []\n",
            "rem list after clearing []\n",
            "$$first ele and rem_len are: 3 4\n",
            "sec rem_lst,c,len(rem_lst) are: [] 2 0\n",
            "********* s and c and rem_len are  [] 2 0\n",
            "z is: [[]]\n",
            "len(t), rem_len,c,ele is: 0 4 2 3\n",
            "after addin [[1, 2, 3], [1, 2, 4], [1, 3, 4], [2, 3, 4], [3, 4]]\n",
            "Final...: [[1, 2, 3], [1, 2, 4], [1, 3, 4], [2, 3, 4], [3, 4]]\n"
          ],
          "name": "stdout"
        }
      ]
    },
    {
      "cell_type": "code",
      "metadata": {
        "id": "Ubhgi7AQibwq"
      },
      "source": [
        ""
      ],
      "execution_count": null,
      "outputs": []
    }
  ]
}